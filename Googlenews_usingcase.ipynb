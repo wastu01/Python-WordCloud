{
 "cells": [
  {
   "cell_type": "markdown",
   "metadata": {},
   "source": [
    "# GoogleNews套件使用紀錄"
   ]
  },
  {
   "cell_type": "markdown",
   "metadata": {},
   "source": [
    "> GoogleNews Version: 1.6.15\n",
    "\n",
    "> Python version : 3.12.4"
   ]
  },
  {
   "cell_type": "markdown",
   "metadata": {},
   "source": [
    "## 匯入模組"
   ]
  },
  {
   "cell_type": "code",
   "execution_count": 2,
   "metadata": {
    "jupyter": {
     "is_executing": true
    }
   },
   "outputs": [],
   "source": [
    "from GoogleNews import GoogleNews\n",
    "googlenews = GoogleNews()\n",
    "\n",
    "# 透過調用 GoogleNews 建構函數 產生一個 ”googlenews” 物件 "
   ]
  },
  {
   "cell_type": "markdown",
   "metadata": {},
   "source": [
    "## 查看套件版本"
   ]
  },
  {
   "cell_type": "code",
   "execution_count": 3,
   "metadata": {
    "ExecuteTime": {
     "end_time": "2024-09-08T09:17:23.876018Z",
     "start_time": "2024-09-08T09:17:23.744317Z"
    }
   },
   "outputs": [
    {
     "name": "stdout",
     "output_type": "stream",
     "text": [
      "1.6.15\n"
     ]
    }
   ],
   "source": [
    "print(googlenews.getVersion())"
   ]
  },
  {
   "cell_type": "markdown",
   "metadata": {},
   "source": [
    "> or using pip show\n",
    "```python=\n",
    "(.venv) ➜  Python-WordCloud git:(master) ✗ pip show googlenews \n",
    "Name: GoogleNews\n",
    "Version: 1.6.15\n",
    "Summary: Google News search for Python\n",
    "Home-page: https://github.com/Iceloof/GoogleNews\n",
    "Author: Hurin Hu\n",
    "Author-email: hurin@live.ca\n",
    "License: \n",
    "Location: /.venv/lib/python3.12/site-packages\n",
    "Requires: beautifulsoup4, dateparser, python-dateutil\n",
    "```"
   ]
  },
  {
   "cell_type": "markdown",
   "metadata": {},
   "source": [
    "## 查看套件可使用參數"
   ]
  },
  {
   "cell_type": "code",
   "execution_count": 4,
   "metadata": {},
   "outputs": [
    {
     "name": "stdout",
     "output_type": "stream",
     "text": [
      "<GoogleNews.GoogleNews object at 0x112073b60>\n",
      "<class 'GoogleNews.GoogleNews'>\n",
      "可以使用的屬性與方法 : \n",
      "['_GoogleNews__encode', '_GoogleNews__end', '_GoogleNews__exception', '_GoogleNews__lang', '_GoogleNews__links', '_GoogleNews__period', '_GoogleNews__results', '_GoogleNews__section', '_GoogleNews__start', '_GoogleNews__texts', '_GoogleNews__topic', '_GoogleNews__totalcount', '_GoogleNews__version', '__class__', '__delattr__', '__dict__', '__dir__', '__doc__', '__eq__', '__format__', '__ge__', '__getattribute__', '__getstate__', '__gt__', '__hash__', '__init__', '__init_subclass__', '__le__', '__lt__', '__module__', '__ne__', '__new__', '__reduce__', '__reduce_ex__', '__repr__', '__setattr__', '__sizeof__', '__str__', '__subclasshook__', '__weakref__', 'build_response', 'clear', 'enableException', 'getVersion', 'get_links', 'get_news', 'get_page', 'get_texts', 'getpage', 'gettext', 'headers', 'page_at', 'remove_after_last_fullstop', 'result', 'results', 'search', 'setTimeRange', 'set_encode', 'set_lang', 'set_period', 'set_section', 'set_time_range', 'set_topic', 'setencode', 'setlang', 'setperiod', 'total_count', 'user_agent']\n"
     ]
    }
   ],
   "source": [
    "print(googlenews)\n",
    "print(type(googlenews))\n",
    "print(\"可以使用的屬性與方法 : \")\n",
    "print(dir(googlenews))\n",
    "\n",
    "# 觀察 class 類別 擁有的屬性與方法\n",
    "\n",
    "# class 類別 說明文章：\n",
    "# https://utrustcorp.com/python-class/\n",
    "# https://steam.oxxostudio.tw/category/python/basic/class.html#google_vignette"
   ]
  },
  {
   "cell_type": "markdown",
   "metadata": {},
   "source": [
    "(移除底線魔法函式後)\n",
    "\n",
    "['build_response', 'clear', 'content', 'enableException', 'getVersion', 'get_links', 'get_news', 'get_page', 'get_texts', 'getpage', 'gettext', 'headers', 'page', 'page_at', 'remove_after_last_fullstop', 'req', 'response', 'result', 'results', 'search', 'setTimeRange', 'set_encode', 'set_lang', 'set_period', 'set_section', 'set_time_range', 'set_topic', 'setencode', 'setlang', 'setperiod', 'total_count', 'url', 'user_agent']"
   ]
  },
  {
   "cell_type": "markdown",
   "metadata": {},
   "source": [
    "## 建構物件 設定參數"
   ]
  },
  {
   "cell_type": "code",
   "execution_count": 5,
   "metadata": {},
   "outputs": [],
   "source": [
    "# 設定搜尋新聞日期 特定語言的新聞 zh-TW\n",
    "# 使用屬性設定參數\n",
    "googlenews = GoogleNews(lang='zh-tw', region='TW', encode='utf-8', period='1d')\n",
    "# googlenews = GoogleNews(encode='utf-8')\n",
    "# googlenews = GoogleNews(period='7d')\n",
    "# googlenews = GoogleNews(start='02/01/2020',end='02/28/2020')\n",
    "# 或是使用方法來設定參數\n",
    "# googlenews.set_encode('utf-8')\n",
    "# googlenews.set_period('7d')"
   ]
  },
  {
   "cell_type": "markdown",
   "metadata": {},
   "source": [
    "## 開啟除錯模式"
   ]
  },
  {
   "cell_type": "code",
   "execution_count": 6,
   "metadata": {},
   "outputs": [],
   "source": [
    "googlenews.enableException(True)"
   ]
  },
  {
   "cell_type": "markdown",
   "metadata": {},
   "source": [
    "延伸學習：Try...except\n",
    "\n",
    "https://hackmd.io/@DCT/python-function-object-exception\n"
   ]
  },
  {
   "cell_type": "markdown",
   "metadata": {},
   "source": [
    "## Google 搜尋網址參數設定"
   ]
  },
  {
   "cell_type": "markdown",
   "metadata": {},
   "source": [
    "查看該套件的部分程式碼 觀察參數如何對應 google 搜尋網址\n",
    "\n",
    "```python=\n",
    "    def page_at(self, page=1):\n",
    "        \"\"\"\n",
    "        Retrieves a specific page from google.com in the news sections into __results.\n",
    "        Parameter:\n",
    "        page = number of the page to be retrieved\n",
    "        \"\"\"\n",
    "        results = []\n",
    "        try:\n",
    "            if self.__start != \"\" and self.__end != \"\":\n",
    "                self.url = \"https://www.google.com/search?q={}&lr=lang_{}&biw=1920&bih=976&source=lnt&&tbs=lr:lang_1{},cdr:1,cd_min:{},cd_max:{},sbd:1&tbm=nws&start={}\".format(self.__key,self.__lang,self.__lang,self.__start,self.__end,(10 * (page - 1)))\n",
    "            elif self.__period != \"\":\n",
    "                self.url = \"https://www.google.com/search?q={}&lr=lang_{}&biw=1920&bih=976&source=lnt&&tbs=lr:lang_1{},qdr:{},,sbd:1&tbm=nws&start={}\".format(self.__key,self.__lang,self.__lang,self.__period,(10 * (page - 1))) \n",
    "            else:\n",
    "                self.url = \"https://www.google.com/search?q={}&lr=lang_{}&biw=1920&bih=976&source=lnt&&tbs=lr:lang_1{},sbd:1&tbm=nws&start={}\".format(self.__key,self.__lang,self.__lang,(10 * (page - 1))) \n",
    "\n",
    "    ----\n",
    "\n",
    "\n",
    "            if region:\n",
    "            self.accept_language= lang + '-' + region + ',' + lang + ';q=0.9'\n",
    "            self.headers = {'User-Agent': self.user_agent, 'Accept-Language': self.accept_language}\n",
    "        else:\n",
    "            self.headers = {'User-Agent': self.user_agent}\n",
    "\n",
    "```"
   ]
  },
  {
   "cell_type": "markdown",
   "metadata": {},
   "source": [
    "延伸學習：format 字串格式化\n",
    "\n",
    "https://hackmd.io/@DCT/python-function-object-exception"
   ]
  },
  {
   "cell_type": "markdown",
   "metadata": {},
   "source": [
    "> 觀察網址結構，了解 Google 網址參數設定代表意義\n",
    "\n",
    "self.url = \"https://www.google.com/search?q={}&lr=lang_{}&tbs=lr:lang_1{},cdr:1,cd_min:{},cd_max:{}&tbm=nws&start={}\".format(self.__key,self.__lang,self.__lang,self.__start,self.__end,(10 * (page - 1)))\n",
    "\n",
    "\n",
    "> Google 官方搜尋網址參數說明：\n",
    "https://developers.google.com/custom-search/v1/reference/rest/v1/cse/list?hl=zh-tw\n",
    "\n",
    "hl 即 host language（設定使用者介面語言）\n",
    "\n",
    "gl 從使用者的地理位置搜尋相關新聞\n",
    "\n",
    "lr 僅回傳搜尋特定語言為主的網頁結果\n",
    "\n",
    "> hl 介面語言代號：\n",
    "https://developers.google.com/custom-search/docs/json_api_reference?hl=zh-tw#interfaceLanguages\n",
    "\n",
    "> gl 國家/地區代碼：\n",
    "https://developers.google.com/custom-search/docs/json_api_reference?hl=zh-tw#countryCodes\n",
    "\n",
    "> lr 篩選特定語言：\n",
    "https://developers.google.com/custom-search/v1/reference/rest/v1/cse/list?hl=zh-tw\n",
    "\n",
    "\n",
    "hl : \"zh-TW\" 中文 (繁體)\n",
    "\n",
    "gl : \"tw\" 台灣\n",
    "\n",
    "lr : \"lang_zh-TW\" 中文 (繁體)\n",
    "\n",
    "(可是我發現上述 google 提供的網址 hl 都是小寫 \"zh-tw\" 經測試都可以運作 0.0)\n",
    "\n",
    "https://www.google.com/search?q=搜尋&hl=zh-tw&lr=lang_zh-TW\n",
    "\n",
    "https://www.google.com/search?q=搜尋&hl=zh-tw&lr=lang_zh-CN\n",
    "\n",
    "https://www.google.com/search?q=搜尋&hl=zh-TW&lr=lang_zh-TW\n",
    "\n",
    "\n",
    ">中文說明講解：\n",
    "https://www.biaodianfu.com/google.html\n",
    "\n",
    ">英文對照表(使用同樣參數)：\n",
    "Supported Google Languages\n",
    "https://serpapi.com/google-languages\n",
    "\n",
    "發現到它是一家提供 google 服務 api 的服務\n",
    "https://serpapi.com/\n",
    "\n",
    "免費版本，有使用限制。\n",
    "https://serpapi.com/search.json?q=貪污&location=Taiwan&hl=zh-tw&gl=tw&google_domain=google.com.tw\n",
    "\n",
    "蠻方便的，直接回傳 json 檔案，給的資訊更多。\n"
   ]
  },
  {
   "cell_type": "markdown",
   "metadata": {},
   "source": [
    "Region 搜尋設定問題及討論：\n",
    "\n",
    "Region setting in Chinese\n",
    "\n",
    "https://github.com/Iceloof/GoogleNews/issues/76"
   ]
  },
  {
   "cell_type": "markdown",
   "metadata": {},
   "source": [
    "## 搜尋特定關鍵字"
   ]
  },
  {
   "cell_type": "markdown",
   "metadata": {},
   "source": [
    "> 用 get_news() or search() 搜尋\n",
    "\n",
    "> 搜尋結果透過 result() 讀取出來"
   ]
  },
  {
   "cell_type": "markdown",
   "metadata": {},
   "source": [
    "## get_news()"
   ]
  },
  {
   "cell_type": "code",
   "execution_count": null,
   "metadata": {},
   "outputs": [],
   "source": [
    "googlenews.get_news('柯文哲')\n",
    "gn_get = googlenews.results()\n",
    "# print ( gn_get )\n",
    "# print ( type(gn_get) )"
   ]
  },
  {
   "cell_type": "markdown",
   "metadata": {},
   "source": [
    "## search() "
   ]
  },
  {
   "cell_type": "code",
   "execution_count": null,
   "metadata": {},
   "outputs": [],
   "source": [
    "googlenews.clear()\n",
    "googlenews.search('柯文哲')\n",
    "result_search_news = googlenews.result()\n",
    "# print(result_search_news)"
   ]
  },
  {
   "cell_type": "markdown",
   "metadata": {},
   "source": [
    "## get_texts() 純文字資料"
   ]
  },
  {
   "cell_type": "code",
   "execution_count": 9,
   "metadata": {},
   "outputs": [
    {
     "name": "stdout",
     "output_type": "stream",
     "text": [
      "['影/柯文哲1句話切割京華城！鄭麗文看穿「心虛了」：聰明反被聰明誤', '【每日必看】白營集結令聲援柯文哲館長:我至少可幫5千人｜查無金流卻押柯文哲蔡正元:廢圖利罪免成鬥爭工具20240908', '柯文哲涉台大MG149案及教中國葉克膜技術真實率高不高？網友遲疑：從老實人變裝老實', '【每日必看】柯文哲後下一個輪到誰? 郭正亮示警:國民黨開始發抖｜台灣政壇讓人害怕? 陳琬惠質問賴清德:當總統開心嗎20240908', '柯文哲遭上銬收押…還信任黃珊珊？陳琬惠吐2人私下真實關係', '北檢辦柯文哲是政治追殺？蔡正元提2案：賴清德若敢辦，我支持他連任', '柯媽媽遭人無端騷擾 李忠憲：柯文哲很多事可能她都不知道', '鬥倒柯文哲換國民黨？他籲藍白「通殺3大案」：用野蠻反制民進黨│TVBS新聞網', '柯文哲USB「小沈1500」是金錢還時間？ 律師曝1招秒分辨│TVBS新聞網', '柯文哲案尚未「全劇終」 傳檢廉將祭出污點證人減刑優惠求突破']\n"
     ]
    }
   ],
   "source": [
    "gn_txt = googlenews.get_texts()\n",
    "print(gn_txt)"
   ]
  },
  {
   "cell_type": "markdown",
   "metadata": {},
   "source": [
    "# 實際測試 查看資料結構差異"
   ]
  },
  {
   "cell_type": "code",
   "execution_count": null,
   "metadata": {},
   "outputs": [],
   "source": [
    "import time\n",
    "\n",
    "from GoogleNews import GoogleNews\n",
    "\n",
    "# 創建一個 GoogleNews 物件，這個物件可以用來檢索 Google News 中的新聞\n",
    "googlenews = GoogleNews()\n",
    "\n",
    "# 當前使用的 GoogleNews 模組版本\n",
    "print(googlenews.getVersion())\n",
    "\n",
    "# 啟用異常處理，當發生錯誤時會拋出異常，方便調試\n",
    "googlenews.enableException(True)\n",
    "\n",
    "googlenews = GoogleNews(lang='zh-TW', region='TW', encode='utf-8')\n",
    "# 設置 GoogleNews 只搜尋語言為繁體中文的網站\n",
    "\n",
    "# 設定編碼為 'utf-8'，避免出現編碼問題\n",
    "# googlenews = GoogleNews(encode='utf-8')\n",
    "\n",
    "# (兩種搜尋特定時間方式不能混用)\n",
    "# 設定新聞搜尋時間範圍為過去 n 天\n",
    "# googlenews = GoogleNews(period='7d')\n",
    "\n",
    "# 指定開始和結束日期，搜尋特定日期範圍內的新聞\n",
    "# googlenews = GoogleNews(start='02/01/2020',end='02/28/2020')\n",
    "\n",
    "# 使用方法設定，避免覆蓋原有物件設定\n",
    "# googlenews.set_period('7d')\n",
    "# googlenews.set_time_range('02/01/2020','02/28/2020')\n",
    "\n",
    "\n",
    "# 清空物件暫存搜尋結果\n",
    "googlenews.clear()\n",
    "googlenews.get_news('台灣')\n",
    "result_get_news = googlenews.result()\n",
    "# print(result_get_news)\n",
    "\n",
    "time.sleep(5)\n",
    "\n",
    "googlenews.clear()\n",
    "googlenews.search('柯文哲')\n",
    "result_search_news = googlenews.result()\n",
    "# print(result_search_news)\n"
   ]
  },
  {
   "cell_type": "markdown",
   "metadata": {},
   "source": [
    "> 可使用 pretty code 線上工具方便查看資料結構\n",
    "\n",
    "> https://www.cleancss.com/python-beautify/\n",
    "\n",
    "```\n",
    "\n",
    "result_get_news\n",
    "\n",
    "[{\n",
    "    'title': '「台灣嚴選（Taiwan Select）」食品進駐馬來西亞AEON超市',\n",
    "    'desc': None,\n",
    "    'date': '昨天',\n",
    "    'datetime': nan,\n",
    "    'link': 'https://news.google.com/read/CBMijAFBVV95cUxPZGNtenpSb2swNDJhcFZ1ZjVjcE1RZ0VuMGlkNXhZUURtR1lfRERWeFprbWcyaWYxeVhwNkVwcXJFRGZXQnNLamEwendQbENlR0ZUSnN4QjB2MVZtUVNhaTNTQ00zcUF2ZW9RT2RNdUFSdVQyN3M0Q3g2SWE0RUR0YW9nNEF4dTV6akhzVg?hl=zh-TW&gl=TW&ceid=TW%3Azh-Hant',\n",
    "    'img': 'https://news.google.com/api/attachments/CC8iK0NnNDJVbDl4YWsxa2RYSmxRbTlJVFJDM0FSaVRBaWdCTWdZSk1JcUdGZ28=-w200-h112-p-df',\n",
    "    'media': '中華民國經濟部',\n",
    "    'site': None,\n",
    "    'reporter': None\n",
    "}, {\n",
    "    'title': '《臺灣米其林指南 2024》完整名單',\n",
    "    'desc': None,\n",
    "    'date': '8月27日',\n",
    "    'datetime': nan,\n",
    "    'link': 'https://news.google.com/read/CBMijAFBVV95cUxOazZlR2tuNFhqT01HVkx4Rk5JX2xxWVFsTnpmRUJzbGRlVF9CWlpxTlJBU2lZb3ViX2huSUVLeS1nYXJmRS1wUW1XaDYwT0t5X3RNVExEQ3BjWVA2S2hreVAzSU5icnRiRW5qM0F3LWE2d1Z3aWRPcVJXSzBXU3V6dkYtLTNDQi1KYTkzVQ?hl=zh-TW&gl=TW&ceid=TW%3Azh-Hant',\n",
    "    'img': 'https://news.google.com/api/attachments/CC8iK0NnNTFaSE5GU1Vzd1dtOUlTM2hyVFJDOUFSaUxBaWdCTWdZQmNJUXV3UU0=-w200-h112-p-df',\n",
    "    'media': 'Michelin.com',\n",
    "    'site': None,\n",
    "    'reporter': None\n",
    "},....]\n",
    "\n",
    "```"
   ]
  },
  {
   "cell_type": "markdown",
   "metadata": {},
   "source": [
    "# 將每一筆資料輸出儲存至檔案"
   ]
  },
  {
   "cell_type": "code",
   "execution_count": 11,
   "metadata": {},
   "outputs": [],
   "source": [
    "import time\n",
    "# 清空之前的結果\n",
    "googlenews.clear()\n",
    "\n",
    "# 搜尋關鍵字\n",
    "googlenews.search('柯文哲')\n",
    "\n",
    "# 取得前 2 頁的結果\n",
    "googlenews.get_page(2)\n",
    "\n",
    "result = googlenews.result()\n",
    "\n",
    "\n",
    "# 測試每個結果的索引和值\n",
    "# 將結果寫入文字檔案\n",
    "with open(\"./txt/results-page0to2.txt\", \"a+\", encoding=\"utf-8\") as file:\n",
    "    file.write(\"Results from get_page(2):\\n\")\n",
    "    for n in range(len(result)):\n",
    "        file.write(f\"Result {n}:\\n\")\n",
    "        for key, value in result[n].items():\n",
    "            file.write(f\"{key}: {value}\\n\")\n",
    "        file.write(\"\\n\")\n",
    "\n",
    "    \n",
    "# 清空之前的結果\n",
    "googlenews.clear()\n",
    "\n",
    "time.sleep(2)\n",
    "\n",
    "# googlenews.search('柯文哲')\n",
    "# # 取得第 2 頁的結果\n",
    "googlenews.page_at(2)\n",
    "\n",
    "result = googlenews.result()\n",
    "\n",
    "with open(\"./txt/results-pageonly2.txt\", \"a+\", encoding=\"utf-8\") as file:\n",
    "    file.write(\"Results from page_at(2):\\n\")\n",
    "    for n in range(len(result)):\n",
    "        file.write(f\"Result {n}:\\n\")\n",
    "        for key, value in result[n].items():\n",
    "            file.write(f\"{key}: {value}\\n\")\n",
    "        file.write(\"\\n\")\n"
   ]
  },
  {
   "cell_type": "markdown",
   "metadata": {},
   "source": [
    "# 資料清洗合併儲存"
   ]
  },
  {
   "cell_type": "code",
   "execution_count": 2,
   "metadata": {
    "ExecuteTime": {
     "end_time": "2024-09-08T09:51:03.511313Z",
     "start_time": "2024-09-08T09:50:58.674234Z"
    }
   },
   "outputs": [],
   "source": [
    "import time\n",
    "from GoogleNews import GoogleNews\n",
    "googlenews = GoogleNews()\n",
    "googlenews.clear()\n",
    "time.sleep(2)\n",
    "googlenews.search('柯文哲')\n",
    "googlenews.page_at(1)\n",
    "result = googlenews.result()"
   ]
  },
  {
   "cell_type": "code",
   "execution_count": 3,
   "metadata": {
    "ExecuteTime": {
     "end_time": "2024-09-08T11:04:29.533447Z",
     "start_time": "2024-09-08T11:04:29.529446Z"
    }
   },
   "outputs": [
    {
     "name": "stdout",
     "output_type": "stream",
     "text": [
      "10\n",
      "{'title': 'TPP supporters organize silent protest for detained party founder Ko Wen-je', 'media': 'Taiwan News', 'date': '1 day ago', 'datetime': datetime.datetime(2024, 9, 7, 19, 14, 52, 654259), 'desc': \"TAIPEI (Taiwan News) — A group of Taiwan People's Party (TPP) supporters held a silent protest Friday (Sept. 6) outside Taipei Detention Center to show...\", 'link': 'https://www.taiwannews.com.tw/en/news/5932189&ved=2ahUKEwju6p_-m7OIAxXHr1YBHedQC80QxfQBegQIABAC&usg=AOvVaw1F_wFtqND_jL7YuHemQM9d', 'img': 'data:image/gif;base64,R0lGODlhAQABAIAAAP///////yH5BAEKAAEALAAAAAABAAEAAAICTAEAOw=='}\n",
      "2024-09-07 19:14:52.654259\n",
      "<class 'datetime.datetime'>\n",
      "{'title': '《TAIPEI TIMES》 Court orders Ko Wen-je’s detention', 'media': '自由時報', 'date': '2 days ago', 'datetime': datetime.datetime(2024, 9, 6, 19, 14, 52, 688208), 'desc': \"'REGRETTABLE':TPP lawmaker Vivian Huang said that 'we will continue to support Chairman Ko and defend his innocence' as he was transferred to a detention...\", 'link': 'https://news.ltn.com.tw/news/focus/breakingnews/4791581&ved=2ahUKEwju6p_-m7OIAxXHr1YBHedQC80QxfQBegQIBRAC&usg=AOvVaw1RHiYXrjik-qPcMwownYhQ', 'img': 'data:image/gif;base64,R0lGODlhAQABAIAAAP///////yH5BAEKAAEALAAAAAABAAEAAAICTAEAOw=='}\n"
     ]
    }
   ],
   "source": [
    "print(len(result))\n",
    "print(result[0])\n",
    "print(result[0]['datetime'])\n",
    "print(type(result[0]['datetime']))\n",
    "print(result[9])"
   ]
  },
  {
   "cell_type": "code",
   "execution_count": 4,
   "metadata": {
    "ExecuteTime": {
     "end_time": "2024-09-08T11:00:51.799669Z",
     "start_time": "2024-09-08T11:00:51.793349Z"
    }
   },
   "outputs": [
    {
     "name": "stdout",
     "output_type": "stream",
     "text": [
      "['TPP supporters organize silent protest for detained party founder Ko Wen-je', 'TPP vows to mobilize party for Ko', 'Donovan’s Deep Dives: Ko raises bets on imprisonment or “swallowing a field hockey stick”', 'Appeals by Core Pacific suspects denied', \"Taiwan People's Party calls for protest in Taipei to support Ko Wen-je\", 'Ko Wen-je could remain in Taipei jail for 1 year', 'WATCH: Former Taipei Mayor Ko Wen-je transferred to detention facility 10 years into political career', 'KMT Chao criticizes selective judiciary approach in Taiwan', 'Former Taipei mayor’s wife visits him in detention', '《TAIPEI TIMES》 Court orders Ko Wen-je’s detention']\n",
      "10\n",
      "10\n",
      "10\n"
     ]
    }
   ],
   "source": [
    "title_tokens = []\n",
    "desc_tokens = []\n",
    "media_tokens = []\n",
    "\n",
    "for n in range(len(result)):\n",
    "\n",
    "    title = result[n]['title']\n",
    "    desc = result[n]['desc']  \n",
    "    link = result[n]['link'] \n",
    "    media = result[n]['media']\n",
    "    # print(f\"Result {n}:\")\n",
    "    # print(title)\n",
    "    # print(desc)\n",
    "    # print(link)\n",
    "    # print(media)\n",
    "\n",
    "    # 資料清洗預處理\n",
    "\n",
    "    if title:\n",
    "        title_tokens.append(title.strip())\n",
    "    else:\n",
    "        print(f\"There is no title at {n} news list\")\n",
    "    if desc:\n",
    "        desc_tokens.append(desc.strip())\n",
    "    else:\n",
    "        print(f\"There is no description at {n} news list\")\n",
    "    if link:\n",
    "        media_tokens.append(link.strip())\n",
    "    else:\n",
    "        print(f\"There is no link at {n} news list\")\n",
    "        \n",
    "    \n",
    "    \n",
    "    # link_tokens = re.split(r'[/?=&]', link) if link else []\n",
    "    # print(link_tokens)\n",
    "    \n",
    "print(title_tokens)\n",
    "print(len(title_tokens))\n",
    "print(len(desc_tokens))\n",
    "print(len(media_tokens))\n"
   ]
  },
  {
   "cell_type": "markdown",
   "metadata": {},
   "source": [
    "## 資料呈現方式\n",
    "\n",
    "思路：\n",
    "\n",
    "0. 媒體來源\n",
    "   - 圓餅圖呈現媒體來源類型 (左派右派)\n",
    "   - 條狀圖呈現媒體來源數量 (數量多寡)\n",
    "  \n",
    "1. 字詞頻率分析\n",
    "   - 對中文內容進行斷詞\n",
    "   - 停用詞過濾\n",
    "   - 按頻率高低排序\n",
    "   - 使用 jieba 的算法權重顯示關鍵字\n",
    "\n",
    "2. 討論熱度推論\n",
    "   - 使用 pandas 處理時間數據\n",
    "   - 分析 N 天內每天的新聞數量\n",
    "   - 基於關鍵字搜索結果,可能不具代表性\n",
    "\n",
    "3. 文字雲視覺化\n",
    "   - 自定義遮罩圖\n",
    "   - 根據詞頻調整字體大小\n",
    "   - 使用 wordcloud 生成文字雲\n",
    "\n",
    "4. 部署至平台\n",
    "   - 選項 A: 使用 IFTTT 發送到 Line (單次執行)\n",
    "   - 選項 B: 使用 discord.py 創建 Discord 機器人互動呈現\n",
    "   - 選項 C: 使用 Streamlit 建立網頁前端\n",
    "   - 選項 D: 串接 Siri 捷徑 朗讀新聞 (單次執行)"
   ]
  },
  {
   "cell_type": "code",
   "execution_count": null,
   "metadata": {},
   "outputs": [],
   "source": []
  }
 ],
 "metadata": {
  "kernelspec": {
   "display_name": "Python 3 (ipykernel)",
   "language": "python",
   "name": "python3"
  },
  "language_info": {
   "codemirror_mode": {
    "name": "ipython",
    "version": 3
   },
   "file_extension": ".py",
   "mimetype": "text/x-python",
   "name": "python",
   "nbconvert_exporter": "python",
   "pygments_lexer": "ipython3",
   "version": "3.12.5"
  }
 },
 "nbformat": 4,
 "nbformat_minor": 4
}
