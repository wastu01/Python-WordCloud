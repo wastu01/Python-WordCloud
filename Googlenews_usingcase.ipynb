{
 "cells": [
  {
   "cell_type": "markdown",
   "metadata": {},
   "source": [
    "# GoogleNews 套件語法測試"
   ]
  },
  {
   "cell_type": "markdown",
   "metadata": {},
   "source": [
    "> GoogleNews Version: 1.6.15\n",
    "\n",
    "> Python version : 3.12.4"
   ]
  },
  {
   "cell_type": "markdown",
   "metadata": {},
   "source": [
    "## 匯入模組"
   ]
  },
  {
   "cell_type": "code",
   "execution_count": 1,
   "metadata": {
    "jupyter": {
     "is_executing": true
    }
   },
   "outputs": [],
   "source": [
    "from GoogleNews import GoogleNews\n",
    "googlenews = GoogleNews()\n",
    "\n",
    "# 透過調用 GoogleNews 建構函數 產生一個 ”googlenews” 物件 "
   ]
  },
  {
   "cell_type": "markdown",
   "metadata": {},
   "source": [
    "```\n",
    "beautifulsoup4  網頁解析和數據提取\n",
    "dateparser      日期字符串解析\n",
    "GoogleNews      Google新聞搜索API\n",
    "pip             Python包管理工具\n",
    "python-dateutil 日期和時間操作擴展\n",
    "pytz            時區定義和轉換\n",
    "regex           增強的正則表達式功能\n",
    "six             Python 2和3兼容性庫\n",
    "soupsieve       CSS選擇器引擎，用於beautifulsoup4\n",
    "tzlocal         本地時區檢測\n",
    "```"
   ]
  },
  {
   "cell_type": "markdown",
   "metadata": {},
   "source": [
    "## 查看套件版本"
   ]
  },
  {
   "cell_type": "code",
   "execution_count": 2,
   "metadata": {
    "ExecuteTime": {
     "end_time": "2024-09-08T09:17:23.876018Z",
     "start_time": "2024-09-08T09:17:23.744317Z"
    }
   },
   "outputs": [
    {
     "name": "stdout",
     "output_type": "stream",
     "text": [
      "1.6.15\n"
     ]
    }
   ],
   "source": [
    "print(googlenews.getVersion())"
   ]
  },
  {
   "cell_type": "markdown",
   "metadata": {},
   "source": [
    "> or using pip show\n",
    "```python=\n",
    "(.venv) ➜  Python-WordCloud git:(master) ✗ pip show googlenews \n",
    "Name: GoogleNews\n",
    "Version: 1.6.15\n",
    "Summary: Google News search for Python\n",
    "Home-page: https://github.com/Iceloof/GoogleNews\n",
    "Author: Hurin Hu\n",
    "Author-email: hurin@live.ca\n",
    "License: \n",
    "Location: /.venv/lib/python3.12/site-packages\n",
    "Requires: beautifulsoup4, dateparser, python-dateutil\n",
    "```"
   ]
  },
  {
   "cell_type": "markdown",
   "metadata": {},
   "source": [
    "## 查看套件可使用參數"
   ]
  },
  {
   "cell_type": "code",
   "execution_count": 3,
   "metadata": {},
   "outputs": [
    {
     "name": "stdout",
     "output_type": "stream",
     "text": [
      "<GoogleNews.GoogleNews object at 0x105fb3770>\n",
      "<class 'GoogleNews.GoogleNews'>\n",
      "可以使用的屬性與方法 : \n",
      "['_GoogleNews__encode', '_GoogleNews__end', '_GoogleNews__exception', '_GoogleNews__lang', '_GoogleNews__links', '_GoogleNews__period', '_GoogleNews__results', '_GoogleNews__section', '_GoogleNews__start', '_GoogleNews__texts', '_GoogleNews__topic', '_GoogleNews__totalcount', '_GoogleNews__version', '__class__', '__delattr__', '__dict__', '__dir__', '__doc__', '__eq__', '__format__', '__ge__', '__getattribute__', '__getstate__', '__gt__', '__hash__', '__init__', '__init_subclass__', '__le__', '__lt__', '__module__', '__ne__', '__new__', '__reduce__', '__reduce_ex__', '__repr__', '__setattr__', '__sizeof__', '__str__', '__subclasshook__', '__weakref__', 'build_response', 'clear', 'enableException', 'getVersion', 'get_links', 'get_news', 'get_page', 'get_texts', 'getpage', 'gettext', 'headers', 'page_at', 'remove_after_last_fullstop', 'result', 'results', 'search', 'setTimeRange', 'set_encode', 'set_lang', 'set_period', 'set_section', 'set_time_range', 'set_topic', 'setencode', 'setlang', 'setperiod', 'total_count', 'user_agent']\n"
     ]
    }
   ],
   "source": [
    "print(googlenews)\n",
    "print(type(googlenews))\n",
    "print(\"可以使用的屬性與方法 : \")\n",
    "print(dir(googlenews))\n",
    "\n",
    "# 觀察 class 類別 擁有的屬性與方法\n",
    "\n",
    "# class 類別 說明文章：\n",
    "# https://utrustcorp.com/python-class/\n",
    "# https://steam.oxxostudio.tw/category/python/basic/class.html#google_vignette"
   ]
  },
  {
   "cell_type": "markdown",
   "metadata": {},
   "source": [
    "(移除底線魔法函式後)\n",
    "\n",
    "['build_response', 'clear', 'content', 'enableException', 'getVersion', 'get_links', 'get_news', 'get_page', 'get_texts', 'getpage', 'gettext', 'headers', 'page', 'page_at', 'remove_after_last_fullstop', 'req', 'response', 'result', 'results', 'search', 'setTimeRange', 'set_encode', 'set_lang', 'set_period', 'set_section', 'set_time_range', 'set_topic', 'setencode', 'setlang', 'setperiod', 'total_count', 'url', 'user_agent']"
   ]
  },
  {
   "cell_type": "markdown",
   "metadata": {},
   "source": [
    "## 建構物件 設定參數"
   ]
  },
  {
   "cell_type": "code",
   "execution_count": 4,
   "metadata": {},
   "outputs": [],
   "source": [
    "# 設定搜尋新聞日期 特定語言的新聞 zh-TW\n",
    "# 使用屬性設定參數\n",
    "googlenews = GoogleNews(lang='zh-tw', region='TW', encode='utf-8', period='1d')\n",
    "# googlenews = GoogleNews(encode='utf-8')\n",
    "# googlenews = GoogleNews(period='7d')\n",
    "# googlenews = GoogleNews(start='02/01/2020',end='02/28/2020')\n",
    "# 或是使用方法來設定參數\n",
    "# googlenews.set_encode('utf-8')\n",
    "# googlenews.set_period('7d')"
   ]
  },
  {
   "cell_type": "markdown",
   "metadata": {},
   "source": [
    "## 開啟除錯模式"
   ]
  },
  {
   "cell_type": "code",
   "execution_count": 5,
   "metadata": {},
   "outputs": [],
   "source": [
    "googlenews.enableException(True)"
   ]
  },
  {
   "cell_type": "markdown",
   "metadata": {},
   "source": [
    "延伸學習：Try...except\n",
    "\n",
    "https://hackmd.io/@DCT/python-function-object-exception\n"
   ]
  },
  {
   "cell_type": "markdown",
   "metadata": {},
   "source": [
    "## Google 搜尋網址參數設定"
   ]
  },
  {
   "cell_type": "markdown",
   "metadata": {},
   "source": [
    "查看該套件的部分程式碼 觀察參數如何對應 google 搜尋網址\n",
    "\n",
    "```python=\n",
    "    def page_at(self, page=1):\n",
    "        \"\"\"\n",
    "        Retrieves a specific page from google.com in the news sections into __results.\n",
    "        Parameter:\n",
    "        page = number of the page to be retrieved\n",
    "        \"\"\"\n",
    "        results = []\n",
    "        try:\n",
    "            if self.__start != \"\" and self.__end != \"\":\n",
    "                self.url = \"https://www.google.com/search?q={}&lr=lang_{}&biw=1920&bih=976&source=lnt&&tbs=lr:lang_1{},cdr:1,cd_min:{},cd_max:{},sbd:1&tbm=nws&start={}\".format(self.__key,self.__lang,self.__lang,self.__start,self.__end,(10 * (page - 1)))\n",
    "            elif self.__period != \"\":\n",
    "                self.url = \"https://www.google.com/search?q={}&lr=lang_{}&biw=1920&bih=976&source=lnt&&tbs=lr:lang_1{},qdr:{},,sbd:1&tbm=nws&start={}\".format(self.__key,self.__lang,self.__lang,self.__period,(10 * (page - 1))) \n",
    "            else:\n",
    "                self.url = \"https://www.google.com/search?q={}&lr=lang_{}&biw=1920&bih=976&source=lnt&&tbs=lr:lang_1{},sbd:1&tbm=nws&start={}\".format(self.__key,self.__lang,self.__lang,(10 * (page - 1))) \n",
    "\n",
    "    ----\n",
    "\n",
    "\n",
    "            if region:\n",
    "            self.accept_language= lang + '-' + region + ',' + lang + ';q=0.9'\n",
    "            self.headers = {'User-Agent': self.user_agent, 'Accept-Language': self.accept_language}\n",
    "        else:\n",
    "            self.headers = {'User-Agent': self.user_agent}\n",
    "\n",
    "```"
   ]
  },
  {
   "cell_type": "markdown",
   "metadata": {},
   "source": [
    "延伸學習：format 字串格式化\n",
    "\n",
    "https://hackmd.io/@DCT/python-function-object-exception"
   ]
  },
  {
   "cell_type": "markdown",
   "metadata": {},
   "source": [
    "> 觀察網址結構，了解 Google 網址參數設定代表意義\n",
    "\n",
    "self.url = \"https://www.google.com/search?q={}&lr=lang_{}&tbs=lr:lang_1{},cdr:1,cd_min:{},cd_max:{}&tbm=nws&start={}\".format(self.__key,self.__lang,self.__lang,self.__start,self.__end,(10 * (page - 1)))\n",
    "\n",
    "\n",
    "> Google 官方搜尋網址參數說明：\n",
    "https://developers.google.com/custom-search/v1/reference/rest/v1/cse/list?hl=zh-tw\n",
    "\n",
    "hl 即 host language（設定使用者介面語言）\n",
    "\n",
    "gl 從使用者的地理位置搜尋相關新聞\n",
    "\n",
    "lr 僅回傳搜尋特定語言為主的網頁結果\n",
    "\n",
    "> hl 介面語言代號：\n",
    "https://developers.google.com/custom-search/docs/json_api_reference?hl=zh-tw#interfaceLanguages\n",
    "\n",
    "> gl 國家/地區代碼：\n",
    "https://developers.google.com/custom-search/docs/json_api_reference?hl=zh-tw#countryCodes\n",
    "\n",
    "> lr 篩選特定語言：\n",
    "https://developers.google.com/custom-search/v1/reference/rest/v1/cse/list?hl=zh-tw\n",
    "\n",
    "\n",
    "hl : \"zh-TW\" 中文 (繁體)\n",
    "\n",
    "gl : \"tw\" 台灣\n",
    "\n",
    "lr : \"lang_zh-TW\" 中文 (繁體)\n",
    "\n",
    "(可是我發現上述 google 提供的網址 hl 都是小寫 \"zh-tw\" 經測試都可以運作 0.0)\n",
    "\n",
    "https://www.google.com/search?q=搜尋&hl=zh-tw&lr=lang_zh-TW\n",
    "\n",
    "https://www.google.com/search?q=搜尋&hl=zh-tw&lr=lang_zh-CN\n",
    "\n",
    "https://www.google.com/search?q=搜尋&hl=zh-TW&lr=lang_zh-TW\n",
    "\n",
    "\n",
    ">中文說明講解：\n",
    "https://www.biaodianfu.com/google.html\n",
    "\n",
    ">英文對照表(使用同樣參數)：\n",
    "Supported Google Languages\n",
    "https://serpapi.com/google-languages\n",
    "\n",
    "發現到它是一家提供 google 服務 api 的服務\n",
    "https://serpapi.com/\n",
    "\n",
    "免費版本，有使用限制。\n",
    "https://serpapi.com/search.json?q=貪污&location=Taiwan&hl=zh-tw&gl=tw&google_domain=google.com.tw\n",
    "\n",
    "蠻方便的，直接回傳 json 檔案，給的資訊更多。\n"
   ]
  },
  {
   "cell_type": "markdown",
   "metadata": {},
   "source": [
    "Region 搜尋設定問題及討論：\n",
    "\n",
    "Region setting in Chinese\n",
    "\n",
    "https://github.com/Iceloof/GoogleNews/issues/76"
   ]
  },
  {
   "cell_type": "markdown",
   "metadata": {},
   "source": [
    "## 搜尋特定關鍵字"
   ]
  },
  {
   "cell_type": "markdown",
   "metadata": {},
   "source": [
    "> 用 get_news() or search() 搜尋\n",
    "\n",
    "> 搜尋結果透過 result() 讀取出來"
   ]
  },
  {
   "cell_type": "markdown",
   "metadata": {},
   "source": [
    "## get_news()"
   ]
  },
  {
   "cell_type": "code",
   "execution_count": null,
   "metadata": {},
   "outputs": [],
   "source": [
    "googlenews.get_news('柯文哲')\n",
    "gn_get = googlenews.results()\n",
    "# print ( gn_get )\n",
    "# print ( type(gn_get) )"
   ]
  },
  {
   "cell_type": "markdown",
   "metadata": {},
   "source": [
    "## search() "
   ]
  },
  {
   "cell_type": "code",
   "execution_count": 6,
   "metadata": {},
   "outputs": [
    {
     "name": "stdout",
     "output_type": "stream",
     "text": [
      "[{'title': '爬梳柯文哲京華城案時序！吳靜怡：神秘便當會只剩黃珊珊沒事', 'media': '三立新聞網SETN.com', 'date': '7 分鐘前', 'datetime': nan, 'desc': '民眾黨主席柯文哲涉入京華城弊案，遭到收押禁見，中秋節也得在看守所度過。對此，政治評論員吳靜怡今（14）日從2020年關鍵的一場便當會議開始爬梳案情時序。7 分鐘前', 'link': 'https://www.setn.com/m/news.aspx%3Fnewsid%3D1529943&ved=2ahUKEwiUy7OwpsGIAxW-e_UHHeBJOjUQxfQBegQIBBAC&usg=AOvVaw231iP62fGO7bALPPJEOxT2', 'img': 'data:image/gif;base64,R0lGODlhAQABAIAAAP///////yH5BAEKAAEALAAAAAABAAEAAAICTAEAOw=='}, {'title': '檢提訊柯文哲追6000萬金流？陳佩琪還有現金庫沒有曝光？【新聞大白話】 @tvbstalk', 'media': 'YouTube', 'date': '1 分鐘前', 'datetime': nan, 'desc': '沈慶京#柯文哲#民眾黨#陳珮琪#TVBS新聞#TVBS直播#TVBS新聞網【 TVBS大運動+ APP】運動迷的殿堂 https://bit.ly/3VLJxkK ○TVBS新聞APP 快來下載 https://bit.ly/47n6SOm...', 'link': 'https://www.youtube.com/watch%3Fv%3DGZ8VTMffDrA&ved=2ahUKEwiUy7OwpsGIAxW-e_UHHeBJOjUQxfQBegQICRAC&usg=AOvVaw2LgOYx6r_ujEfvggEBL8Nf', 'img': 'data:image/gif;base64,R0lGODlhAQABAIAAAP///////yH5BAEKAAEALAAAAAABAAEAAAICTAEAOw=='}, {'title': '賴清德放行辦柯文哲？蕭旭岑示警：藍白若失守國會，洗滌人心恐難想像', 'media': 'Yahoo新聞', 'date': '2 分鐘前', 'datetime': nan, 'desc': '京華城容積獎勵爭議風暴延燒，民眾黨主席柯文哲因在北市長任內涉圖利，被台北地方法院裁定羈押禁見，但特定媒體持續披露檢廉偵辦內容，...', 'link': 'https://tw.news.yahoo.com/%25E8%25B3%25B4%25E6%25B8%2585%25E5%25BE%25B7%25E6%2594%25BE%25E8%25A1%258C%25E8%25BE%25A6%25E6%259F%25AF%25E6%2596%2587%25E5%2593%25B2-%25E8%2595%25AD%25E6%2597%25AD%25E5%25B2%2591%25E7%25A4%25BA%25E8%25AD%25A6-%25E8%2597%258D%25E7%2599%25BD%25E8%258B%25A5%25E5%25A4%25B1%25E5%25AE%2588%25E5%259C%258B%25E6%259C%2583-%25E6%25B4%2597%25E6%25BB%258C%25E4%25BA%25BA%25E5%25BF%2583%25E6%2581%2590%25E9%259B%25A3%25E6%2583%25B3%25E5%2583%258F-005001865.html&ved=2ahUKEwiUy7OwpsGIAxW-e_UHHeBJOjUQxfQBegQIAxAC&usg=AOvVaw0njINRZRM9-d_-7ls6ED1o', 'img': 'data:image/gif;base64,R0lGODlhAQABAIAAAP///////yH5BAEKAAEALAAAAAABAAEAAAICTAEAOw=='}, {'title': '「AIT關切百分之百是真的！」蕭旭岑揭柯文哲案效應：美國重量級學者都示警', 'media': '風傳媒', 'date': '9 分鐘前', 'datetime': nan, 'desc': '民眾黨主席柯文哲因在京華城容積獎勵爭議案中涉嫌圖利，被台北地方法院裁定羈押禁見，傳出美國希望總統賴清德有所節制，否則美國在台協會（AIT）將出手干預，但被行政院否認...', 'link': 'https://www.storm.mg/article/5238404&ved=2ahUKEwiUy7OwpsGIAxW-e_UHHeBJOjUQxfQBegQIBRAC&usg=AOvVaw38wnFbKKJabQo4vsSnCLs-', 'img': 'data:image/gif;base64,R0lGODlhAQABAIAAAP///////yH5BAEKAAEALAAAAAABAAEAAAICTAEAOw=='}, {'title': '柯文哲遭「政治迫害」？最新民調曝 林濁水驚：問題恐怕不簡單│TVBS新聞網', 'media': 'TVBS新聞網', 'date': '1 小時前', 'datetime': nan, 'desc': '民眾黨主席柯文哲因涉京華城弊案遭羈押禁見，台灣民意基金會昨天也公布「台灣社會對民眾黨主席柯文哲被收押的態度」最新民調，其中關於柯文哲遭羈押禁見，...', 'link': 'https://news.tvbs.com.tw/politics/2618508&ved=2ahUKEwiUy7OwpsGIAxW-e_UHHeBJOjUQxfQBegQIBhAC&usg=AOvVaw1a72B304Msu3xmWW_0390D', 'img': 'data:image/gif;base64,R0lGODlhAQABAIAAAP///////yH5BAEKAAEALAAAAAABAAEAAAICTAEAOw=='}, {'title': '《TVBS新聞網》網路投票／相不相信柯文哲是清白的？│TVBS新聞網', 'media': 'TVBS新聞網', 'date': '1 小時前', 'datetime': nan, 'desc': '民眾黨主席柯文哲涉嫌在台北市長任內，圖利京華城案遭到羈押禁見，日前委由律師宣布不提抗告，希望檢察官窮盡調查義務，確定會在台北看守所押滿2個月。《TVBS新聞網》舉辦...', 'link': 'https://news.tvbs.com.tw/politics/2618501&ved=2ahUKEwiUy7OwpsGIAxW-e_UHHeBJOjUQxfQBegQIABAC&usg=AOvVaw3y-ynMLzFfnSmWnkRy_VXk', 'img': 'data:image/gif;base64,R0lGODlhAQABAIAAAP///////yH5BAEKAAEALAAAAAABAAEAAAICTAEAOw=='}, {'title': '陳佩琪說補助款「結餘230萬」 張益贍打臉：當年柯文哲還罵我一頓', 'media': 'Yahoo新聞', 'date': '3 小時前', 'datetime': nan, 'desc': '政治中心／林昀萱報導前台北市長柯文哲捲京華城弊案遭收押，還有政治獻金風波未釐清，以及用選舉補助款買4300萬商辦、妻子陳佩琪多筆金流不明等疑雲纏身。陳佩琪12日接受.', 'link': 'https://tw.news.yahoo.com/%25E9%2599%25B3%25E4%25BD%25A9%25E7%2590%25AA%25E8%25AA%25AA%25E8%25A3%259C%25E5%258A%25A9%25E6%25AC%25BE-%25E7%25B5%2590%25E9%25A4%2598230%25E8%2590%25AC-%25E5%25BC%25B5%25E7%259B%258A%25E8%25B4%258D%25E6%2589%2593%25E8%2587%2589-%25E7%2595%25B6%25E5%25B9%25B4%25E6%259F%25AF%25E6%2596%2587%25E5%2593%25B2%25E9%2582%2584%25E7%25BD%25B5%25E6%2588%2591-%25E9%25A0%2593-223007497.html&ved=2ahUKEwiUy7OwpsGIAxW-e_UHHeBJOjUQxfQBegQICBAC&usg=AOvVaw16RoDcFuXa2ALVRP8PZd6u', 'img': 'data:image/gif;base64,R0lGODlhAQABAIAAAP///////yH5BAEKAAEALAAAAAABAAEAAAICTAEAOw=='}, {'title': '柯文哲夫婦現金申報 多年「空白」', 'media': '自由時報', 'date': '4 小時前', 'datetime': nan, 'desc': '〔記者方瑋立、李文馨／台北報導〕民眾黨主席柯文哲妻子陳佩琪自曝其名下保險箱內含珠寶及合計百萬元現金，台北市議員簡舒培質疑柯陳財產申報不實，促監院調查。4 小時前', 'link': 'https://news.ltn.com.tw/news/politics/paper/1667000&ved=2ahUKEwiUy7OwpsGIAxW-e_UHHeBJOjUQxfQBegQIAhAC&usg=AOvVaw3YwWgLbMxlm6_JIHe7pHwR', 'img': 'data:image/gif;base64,R0lGODlhAQABAIAAAP///////yH5BAEKAAEALAAAAAABAAEAAAICTAEAOw=='}, {'title': '保險箱放什麼？檢追柯文哲關鍵金流 爆有「神秘文件」陳佩琪沒說', 'media': 'Yahoo新聞', 'date': '4 小時前', 'datetime': nan, 'desc': '政治中心／林昀萱報導民眾黨主席柯文哲涉京華城弊案被收押禁見，台北地檢署13日再度提訊，除要離繼續釐清京華城容積率暴增至840％過程，還有檢廉11日前往第一銀行等銀行查扣...', 'link': 'https://tw.news.yahoo.com/%25E4%25BF%259D%25E9%259A%25AA%25E7%25AE%25B1%25E6%2594%25BE%25E4%25BB%2580%25E9%25BA%25BC-%25E6%25AA%25A2%25E8%25BF%25BD%25E6%259F%25AF%25E6%2596%2587%25E5%2593%25B2%25E9%2597%259C%25E9%258D%25B5%25E9%2587%2591%25E6%25B5%2581-%25E7%2588%2586%25E6%259C%2589-%25E7%25A5%259E%25E7%25A7%2598%25E6%2596%2587%25E4%25BB%25B6-%25E9%2599%25B3%25E4%25BD%25A9%25E7%2590%25AA%25E6%25B2%2592%25E8%25AA%25AA-211506840.html&ved=2ahUKEwiUy7OwpsGIAxW-e_UHHeBJOjUQxfQBegQIBxAC&usg=AOvVaw3RjQ3db1Cn_eAAlEiujx6y', 'img': 'data:image/gif;base64,R0lGODlhAQABAIAAAP///////yH5BAEKAAEALAAAAAABAAEAAAICTAEAOw=='}, {'title': '「柯文哲遭政治迫害？」最新民調太震撼 林濁水看完驚呼1句', 'media': 'Yahoo新聞', 'date': '5 小時前', 'datetime': nan, 'desc': '政治中心／張家寧報導民眾黨主席柯文哲因捲入京華城案，本月5日被北院裁定羈押禁見，對此。台灣民意基金會昨（13）日公布的最新民調，有28.6％的人同意柯文哲如今的現況.', 'link': 'https://tw.news.yahoo.com/%25E6%259F%25AF%25E6%2596%2587%25E5%2593%25B2%25E9%2581%25AD%25E6%2594%25BF%25E6%25B2%25BB%25E8%25BF%25AB%25E5%25AE%25B3-%25E6%259C%2580%25E6%2596%25B0%25E6%25B0%2591%25E8%25AA%25BF%25E5%25A4%25AA%25E9%259C%2587%25E6%2592%25BC-%25E6%259E%2597%25E6%25BF%2581%25E6%25B0%25B4%25E7%259C%258B%25E5%25AE%258C%25E9%25A9%259A%25E5%2591%25BC1%25E5%258F%25A5-203505005.html&ved=2ahUKEwiUy7OwpsGIAxW-e_UHHeBJOjUQxfQBegQIARAC&usg=AOvVaw0XA6K6oX8oSKzF_0ah5zH9', 'img': 'data:image/gif;base64,R0lGODlhAQABAIAAAP///////yH5BAEKAAEALAAAAAABAAEAAAICTAEAOw=='}]\n"
     ]
    }
   ],
   "source": [
    "googlenews.clear()\n",
    "googlenews.search('柯文哲')\n",
    "result_search_news = googlenews.result()\n",
    "print(result_search_news)\n",
    "with open(\"./check-datatype/search-result.txt\", \"a+\", encoding=\"utf-8\") as file:\n",
    "    file.write(\"Results from search test:\\n\")\n",
    "    file.write(str(result_search_news))\n"
   ]
  },
  {
   "cell_type": "markdown",
   "metadata": {},
   "source": [
    "## get_texts() 純文字資料 標題"
   ]
  },
  {
   "cell_type": "code",
   "execution_count": 7,
   "metadata": {},
   "outputs": [
    {
     "name": "stdout",
     "output_type": "stream",
     "text": [
      "['爬梳柯文哲京華城案時序！吳靜怡：神秘便當會只剩黃珊珊沒事', '檢提訊柯文哲追6000萬金流？陳佩琪還有現金庫沒有曝光？【新聞大白話】 @tvbstalk', '賴清德放行辦柯文哲？蕭旭岑示警：藍白若失守國會，洗滌人心恐難想像', '「AIT關切百分之百是真的！」蕭旭岑揭柯文哲案效應：美國重量級學者都示警', '柯文哲遭「政治迫害」？最新民調曝 林濁水驚：問題恐怕不簡單│TVBS新聞網', '《TVBS新聞網》網路投票／相不相信柯文哲是清白的？│TVBS新聞網', '陳佩琪說補助款「結餘230萬」 張益贍打臉：當年柯文哲還罵我一頓', '柯文哲夫婦現金申報 多年「空白」', '保險箱放什麼？檢追柯文哲關鍵金流 爆有「神秘文件」陳佩琪沒說', '「柯文哲遭政治迫害？」最新民調太震撼 林濁水看完驚呼1句']\n"
     ]
    }
   ],
   "source": [
    "gn_txt = googlenews.get_texts()\n",
    "print(gn_txt)\n",
    "with open(\"./check-datatype/gn_text-result.txt\", \"a+\", encoding=\"utf-8\") as file:\n",
    "    file.write(\"Results from gn_text test:\\n\")\n",
    "    file.write(str(gn_txt))"
   ]
  },
  {
   "cell_type": "markdown",
   "metadata": {},
   "source": [
    "# 搜尋兩則新聞結果"
   ]
  },
  {
   "cell_type": "code",
   "execution_count": null,
   "metadata": {},
   "outputs": [],
   "source": [
    "import time\n",
    "\n",
    "from GoogleNews import GoogleNews\n",
    "\n",
    "# 創建一個 GoogleNews 物件，這個物件可以用來檢索 Google News 中的新聞\n",
    "googlenews = GoogleNews()\n",
    "\n",
    "# 當前使用的 GoogleNews 模組版本\n",
    "print(googlenews.getVersion())\n",
    "\n",
    "# 啟用異常處理，當發生錯誤時會拋出異常，方便調試\n",
    "googlenews.enableException(True)\n",
    "\n",
    "googlenews = GoogleNews(lang='zh-TW', region='TW', encode='utf-8')\n",
    "# 設置 GoogleNews 只搜尋語言為繁體中文的網站\n",
    "\n",
    "# 設定編碼為 'utf-8'，避免出現編碼問題\n",
    "# googlenews = GoogleNews(encode='utf-8')\n",
    "\n",
    "# (兩種搜尋特定時間方式不能混用)\n",
    "# 設定新聞搜尋時間範圍為過去 n 天\n",
    "# googlenews = GoogleNews(period='7d')\n",
    "\n",
    "# 指定開始和結束日期，搜尋特定日期範圍內的新聞\n",
    "# googlenews = GoogleNews(start='02/01/2020',end='02/28/2020')\n",
    "\n",
    "# 使用方法設定，避免覆蓋原有物件設定\n",
    "# googlenews.set_period('7d')\n",
    "# googlenews.set_time_range('02/01/2020','02/28/2020')\n",
    "\n",
    "\n",
    "# 清空物件暫存搜尋結果\n",
    "googlenews.clear()\n",
    "googlenews.get_news('台灣')\n",
    "result_get_news = googlenews.result()\n",
    "# print(result_get_news)\n",
    "\n",
    "time.sleep(5)\n",
    "\n",
    "googlenews.clear()\n",
    "googlenews.search('柯文哲')\n",
    "result_search_news = googlenews.result()\n",
    "# print(result_search_news)\n"
   ]
  },
  {
   "cell_type": "markdown",
   "metadata": {},
   "source": [
    "> 可使用 pretty code 線上工具方便查看資料結構\n",
    "\n",
    "> https://www.cleancss.com/python-beautify/\n",
    "\n",
    "```\n",
    "\n",
    "result_get_news\n",
    "\n",
    "[{\n",
    "    'title': '「台灣嚴選（Taiwan Select）」食品進駐馬來西亞AEON超市',\n",
    "    'desc': None,\n",
    "    'date': '昨天',\n",
    "    'datetime': nan,\n",
    "    'link': 'https://news.google.com/read/CBMijAFBVV95cUxPZGNtenpSb2swNDJhcFZ1ZjVjcE1RZ0VuMGlkNXhZUURtR1lfRERWeFprbWcyaWYxeVhwNkVwcXJFRGZXQnNLamEwendQbENlR0ZUSnN4QjB2MVZtUVNhaTNTQ00zcUF2ZW9RT2RNdUFSdVQyN3M0Q3g2SWE0RUR0YW9nNEF4dTV6akhzVg?hl=zh-TW&gl=TW&ceid=TW%3Azh-Hant',\n",
    "    'img': 'https://news.google.com/api/attachments/CC8iK0NnNDJVbDl4YWsxa2RYSmxRbTlJVFJDM0FSaVRBaWdCTWdZSk1JcUdGZ28=-w200-h112-p-df',\n",
    "    'media': '中華民國經濟部',\n",
    "    'site': None,\n",
    "    'reporter': None\n",
    "}, {\n",
    "    'title': '《臺灣米其林指南 2024》完整名單',\n",
    "    'desc': None,\n",
    "    'date': '8月27日',\n",
    "    'datetime': nan,\n",
    "    'link': 'https://news.google.com/read/CBMijAFBVV95cUxOazZlR2tuNFhqT01HVkx4Rk5JX2xxWVFsTnpmRUJzbGRlVF9CWlpxTlJBU2lZb3ViX2huSUVLeS1nYXJmRS1wUW1XaDYwT0t5X3RNVExEQ3BjWVA2S2hreVAzSU5icnRiRW5qM0F3LWE2d1Z3aWRPcVJXSzBXU3V6dkYtLTNDQi1KYTkzVQ?hl=zh-TW&gl=TW&ceid=TW%3Azh-Hant',\n",
    "    'img': 'https://news.google.com/api/attachments/CC8iK0NnNTFaSE5GU1Vzd1dtOUlTM2hyVFJDOUFSaUxBaWdCTWdZQmNJUXV3UU0=-w200-h112-p-df',\n",
    "    'media': 'Michelin.com',\n",
    "    'site': None,\n",
    "    'reporter': None\n",
    "},....]\n",
    "\n",
    "```"
   ]
  },
  {
   "cell_type": "markdown",
   "metadata": {},
   "source": [
    "# 將資料儲存至文字檔案 txt"
   ]
  },
  {
   "cell_type": "code",
   "execution_count": 11,
   "metadata": {},
   "outputs": [],
   "source": [
    "import time\n",
    "# 清空之前的結果\n",
    "googlenews.clear()\n",
    "\n",
    "# 搜尋關鍵字\n",
    "googlenews.search('柯文哲')\n",
    "\n",
    "# 取得 0 - 2 頁的結果\n",
    "googlenews.get_page(2)\n",
    "\n",
    "result = googlenews.result()\n",
    "\n",
    "\n",
    "# 測試每個結果的索引和值\n",
    "# 將結果寫入文字檔案\n",
    "with open(\"./check-datatype/txt/results-page0to2.txt\", \"a+\", encoding=\"utf-8\") as file:\n",
    "    file.write(\"Results from get_page(2):\\n\")\n",
    "    for n in range(len(result)):\n",
    "        file.write(f\"Result {n}:\\n\")\n",
    "        for key, value in result[n].items():\n",
    "            file.write(f\"{key}: {value}\\n\")\n",
    "        file.write(\"\\n\")\n",
    "        \n",
    "# item() 語法可以從字典中提取出來key value\n",
    "\n",
    "    \n",
    "# 清空之前的結果\n",
    "googlenews.clear()\n",
    "\n",
    "time.sleep(2)\n",
    "\n",
    "googlenews.search('柯文哲')\n",
    "\n",
    "# 取得第 2 頁的結果\n",
    "googlenews.page_at(2)\n",
    "\n",
    "result = googlenews.result()\n",
    "\n",
    "with open(\"./check-datatype/txt/results-pageonly-2.txt\", \"a+\", encoding=\"utf-8\") as file:\n",
    "    file.write(\"Results from page_at(2):\\n\")\n",
    "    for n in range(len(result)):\n",
    "        file.write(f\"Result {n}:\\n\")\n",
    "        for key, value in result[n].items():\n",
    "            file.write(f\"{key}: {value}\\n\")\n",
    "        file.write(\"\\n\")\n"
   ]
  },
  {
   "cell_type": "markdown",
   "metadata": {},
   "source": [
    "# 將資料分開儲存至串列"
   ]
  },
  {
   "cell_type": "code",
   "execution_count": null,
   "metadata": {},
   "outputs": [],
   "source": [
    "title_tokens = []\n",
    "desc_tokens = []\n",
    "link_tokens = []\n",
    "media_tokens = []\n",
    "datetime_tokens = []\n",
    "\n",
    "for n in range(len(result)):\n",
    "\n",
    "    title = result[n]['title']\n",
    "    desc = result[n]['desc']  \n",
    "    link = result[n]['link'] \n",
    "    media = result[n]['media']\n",
    "    datetime = result[n]['datetime']\n",
    "    # print(f\"Result {n}:\")\n",
    "    # print(title)\n",
    "    # print(desc)\n",
    "    # print(link)\n",
    "    # print(media)\n",
    "\n",
    "    # 資料清洗預處理\n",
    "\n",
    "    if title:\n",
    "        title_tokens.append(title.strip())\n",
    "    else:\n",
    "        print(f\"There is no title at {n} news list\")\n",
    "    if desc:\n",
    "        desc_tokens.append(desc.strip())\n",
    "    else:\n",
    "        print(f\"There is no description at {n} news list\")\n",
    "    if link:\n",
    "        link_tokens.append(link.strip())\n",
    "    else:\n",
    "        print(f\"There is no link at {n} news list\")\n",
    "    if media:\n",
    "        media_tokens.append(media.strip())\n",
    "    else:\n",
    "        print(f\"There is no media at {n} news list\")\n",
    "    if datetime:\n",
    "        datetime_tokens.append(datetime.strip())\n",
    "    else:\n",
    "        print(f\"There is no datetime at {n} news list\")\n",
    "        \n",
    "    \n",
    "print(title_tokens)\n",
    "print(len(title_tokens))\n",
    "print(len(desc_tokens))\n",
    "print(len(media_tokens))\n"
   ]
  },
  {
   "cell_type": "markdown",
   "metadata": {},
   "source": [
    "# 將資料儲存至 CSV 檔案格式"
   ]
  },
  {
   "cell_type": "code",
   "execution_count": 2,
   "metadata": {
    "ExecuteTime": {
     "end_time": "2024-09-08T09:51:03.511313Z",
     "start_time": "2024-09-08T09:50:58.674234Z"
    }
   },
   "outputs": [],
   "source": [
    "import time\n",
    "from GoogleNews import GoogleNews\n",
    "googlenews = GoogleNews()\n",
    "googlenews.clear()\n",
    "time.sleep(2)\n",
    "googlenews.search('柯文哲')\n",
    "googlenews.page_at(1)\n",
    "result_search_news = googlenews.result()"
   ]
  },
  {
   "cell_type": "code",
   "execution_count": 9,
   "metadata": {
    "ExecuteTime": {
     "end_time": "2024-09-08T11:04:29.533447Z",
     "start_time": "2024-09-08T11:04:29.529446Z"
    }
   },
   "outputs": [
    {
     "name": "stdout",
     "output_type": "stream",
     "text": [
      "10\n",
      "{'title': '爬梳柯文哲京華城案時序！吳靜怡：神秘便當會只剩黃珊珊沒事', 'media': '三立新聞網SETN.com', 'date': '7 分鐘前', 'datetime': nan, 'desc': '民眾黨主席柯文哲涉入京華城弊案，遭到收押禁見，中秋節也得在看守所度過。對此，政治評論員吳靜怡今（14）日從2020年關鍵的一場便當會議開始爬梳案情時序。7 分鐘前', 'link': 'https://www.setn.com/m/news.aspx%3Fnewsid%3D1529943&ved=2ahUKEwiUy7OwpsGIAxW-e_UHHeBJOjUQxfQBegQIBBAC&usg=AOvVaw231iP62fGO7bALPPJEOxT2', 'img': 'data:image/gif;base64,R0lGODlhAQABAIAAAP///////yH5BAEKAAEALAAAAAABAAEAAAICTAEAOw=='}\n",
      "nan\n",
      "<class 'float'>\n",
      "{'title': '「柯文哲遭政治迫害？」最新民調太震撼 林濁水看完驚呼1句', 'media': 'Yahoo新聞', 'date': '5 小時前', 'datetime': nan, 'desc': '政治中心／張家寧報導民眾黨主席柯文哲因捲入京華城案，本月5日被北院裁定羈押禁見，對此。台灣民意基金會昨（13）日公布的最新民調，有28.6％的人同意柯文哲如今的現況.', 'link': 'https://tw.news.yahoo.com/%25E6%259F%25AF%25E6%2596%2587%25E5%2593%25B2%25E9%2581%25AD%25E6%2594%25BF%25E6%25B2%25BB%25E8%25BF%25AB%25E5%25AE%25B3-%25E6%259C%2580%25E6%2596%25B0%25E6%25B0%2591%25E8%25AA%25BF%25E5%25A4%25AA%25E9%259C%2587%25E6%2592%25BC-%25E6%259E%2597%25E6%25BF%2581%25E6%25B0%25B4%25E7%259C%258B%25E5%25AE%258C%25E9%25A9%259A%25E5%2591%25BC1%25E5%258F%25A5-203505005.html&ved=2ahUKEwiUy7OwpsGIAxW-e_UHHeBJOjUQxfQBegQIARAC&usg=AOvVaw0XA6K6oX8oSKzF_0ah5zH9', 'img': 'data:image/gif;base64,R0lGODlhAQABAIAAAP///////yH5BAEKAAEALAAAAAABAAEAAAICTAEAOw=='}\n"
     ]
    }
   ],
   "source": [
    "# result_search_news\n",
    "print(len(result_search_news))\n",
    "print(result_search_news[0])\n",
    "print(result_search_news[0]['datetime'])\n",
    "print(type(result_search_news[0]['datetime']))\n",
    "print(result_search_news[9])\n",
    "# 中文搜尋無法取得 datetime 資料"
   ]
  },
  {
   "cell_type": "code",
   "execution_count": null,
   "metadata": {},
   "outputs": [],
   "source": [
    "import csv\n",
    "import os\n",
    "from datetime import datetime\n",
    "\n",
    "# 確保輸出目錄存在\n",
    "output_dir = \"./csv_output\"\n",
    "os.makedirs(output_dir, exist_ok=True)\n",
    "\n",
    "# 生成檔案名稱，包含當前日期和時間\n",
    "current_time = datetime.now().strftime(\"%Y%m%d_%H%M%S\")\n",
    "filename = f\"news_data_{current_time}.csv\"\n",
    "filepath = os.path.join(output_dir, filename)\n",
    "\n",
    "# 將結果寫入 CSV 文件\n",
    "with open(filepath, 'w', newline='', encoding='utf-8') as file:\n",
    "    writer = csv.DictWriter(file, fieldnames=['title', 'desc', 'date', 'datetime', 'link', 'img', 'media', 'site'])\n",
    "    writer.writeheader()\n",
    "    for item in result:\n",
    "        writer.writerow(item)\n",
    "\n",
    "print(f\"Data has been saved to {filepath}\")\n",
    "\n",
    "# 如果之後需要讀取數據，可以使用以下代碼：\n",
    "# import pandas as pd\n",
    "# df = pd.read_csv(filepath)\n",
    "# 然後可以使用 df['column_name'] 來訪問特定列的數據"
   ]
  },
  {
   "cell_type": "markdown",
   "metadata": {},
   "source": [
    "# 資料清洗優化"
   ]
  },
  {
   "cell_type": "markdown",
   "metadata": {},
   "source": [
    "## 增加停用詞\n",
    "\n",
    "優點：可自行定義停用詞\n",
    "缺點：無法涵蓋所有情況\n",
    "\n",
    "## 去除英文數字\n",
    "\n",
    "AIT關切柯文哲案 ====> 標題本身內有英文\n",
    "2024-09-15Ep.204@TheStormMedia ====> 媒體名稱日期\n",
    "\n",
    "優點：過濾掉日期，媒體英文名稱\n",
    "缺點：當事件簡稱常用英文來代表，會被過濾掉\n",
    "\n",
    "\n",
    "\n"
   ]
  },
  {
   "cell_type": "markdown",
   "metadata": {},
   "source": [
    "## 資料呈現方式\n",
    "\n",
    "思路：\n",
    "\n",
    "0. 媒體來源\n",
    "   - 圓餅圖呈現媒體來源類型 (左派右派)\n",
    "   - 條狀圖呈現媒體來源數量 (數量多寡)\n",
    "  \n",
    "1. 字詞頻率分析\n",
    "   - 對中文內容進行斷詞\n",
    "   - 停用詞過濾\n",
    "   - 按頻率高低排序\n",
    "   - 使用 jieba 的算法權重顯示關鍵字\n",
    "\n",
    "2. 討論熱度推論\n",
    "   - 使用 pandas 處理時間數據\n",
    "   - 分析 N 天內每天的新聞數量\n",
    "   - 基於關鍵字搜索結果,可能不具代表性\n",
    "\n",
    "3. 文字雲視覺化\n",
    "   - 自定義遮罩圖\n",
    "   - 根據詞頻調整字體大小\n",
    "   - 使用 wordcloud 生成文字雲\n",
    "\n",
    "4. 部署至平台\n",
    "   - 選項 A: 使用 IFTTT 發送到 Line (單次執行)\n",
    "   - 選項 B: 使用 discord.py 創建 Discord 機器人互動呈現\n",
    "   - 選項 C: 使用 Streamlit 建立網頁前端\n",
    "   - 選項 D: 串接 Siri 捷徑 朗讀新聞 (單次執行)"
   ]
  },
  {
   "cell_type": "code",
   "execution_count": null,
   "metadata": {},
   "outputs": [],
   "source": [
    "import pandas as pd\n",
    "from datetime import datetime\n",
    "\n",
    "# 假設 result 是您之前獲得的新聞結果列表\n",
    "\n",
    "# 創建一個空的列表來存儲處理後的數據\n",
    "data = []\n",
    "\n",
    "for item in result:\n",
    "    # 檢查 datetime 是否存在且不為空\n",
    "    if item['datetime'] and not pd.isna(item['datetime']):\n",
    "        # 如果 datetime 已經是 datetime 對象，直接使用\n",
    "        if isinstance(item['datetime'], datetime):\n",
    "            date = item['datetime']\n",
    "        else:\n",
    "            # 否則，嘗試將字符串轉換為 datetime 對象\n",
    "            try:\n",
    "                date = pd.to_datetime(item['datetime'])\n",
    "            except:\n",
    "                # 如果轉換失敗，跳過這條記錄\n",
    "                continue\n",
    "        \n",
    "        # 將需要的數據添加到列表中\n",
    "        data.append({\n",
    "            'date': date,\n",
    "            'title': item['title'],\n",
    "            'media': item['media']\n",
    "        })\n",
    "\n",
    "# 創建 DataFrame\n",
    "df = pd.DataFrame(data)\n",
    "\n",
    "# 將 date 列設置為索引\n",
    "df.set_index('date', inplace=True)\n",
    "\n",
    "# 按日期排序\n",
    "df.sort_index(inplace=True)\n",
    "\n",
    "# 統計每天的新聞數量\n",
    "daily_news_count = df.resample('D').size()\n",
    "\n",
    "# 顯示結果\n",
    "print(\"每日新聞數量：\")\n",
    "print(daily_news_count)\n",
    "\n",
    "# 找出新聞最多的日期\n",
    "max_news_date = daily_news_count.idxmax()\n",
    "max_news_count = daily_news_count.max()\n",
    "\n",
    "print(f\"\\n新聞最多的日期是 {max_news_date.date()}，共有 {max_news_count} 條新聞。\")\n",
    "\n",
    "# 顯示DataFrame的前幾行，以檢查數據\n",
    "print(\"\\nDataFrame 預覽：\")\n",
    "print(df.head())"
   ]
  }
 ],
 "metadata": {
  "kernelspec": {
   "display_name": "Python 3 (ipykernel)",
   "language": "python",
   "name": "python3"
  },
  "language_info": {
   "codemirror_mode": {
    "name": "ipython",
    "version": 3
   },
   "file_extension": ".py",
   "mimetype": "text/x-python",
   "name": "python",
   "nbconvert_exporter": "python",
   "pygments_lexer": "ipython3",
   "version": "3.12.5"
  }
 },
 "nbformat": 4,
 "nbformat_minor": 4
}
