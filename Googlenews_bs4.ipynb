{
 "cells": [
  {
   "cell_type": "code",
   "execution_count": 1,
   "metadata": {},
   "outputs": [
    {
     "name": "stdout",
     "output_type": "stream",
     "text": [
      "標題: []\n",
      "描述: []\n",
      "連結: []\n",
      "ok fine. it is talking about Taiwan news\n"
     ]
    }
   ],
   "source": [
    "# 當時硬幹解析 Google 新聞版本，目前已失效\n",
    "\n",
    "import requests\n",
    "from bs4 import BeautifulSoup\n",
    "\n",
    "user_agent = {\n",
    "    'User-Agent': 'Mozilla/5.0 (Macintosh; Intel Mac OS X 10_15_7) AppleWebKit/537.36 (KHTML, like Gecko) Chrome/86.0.4240.111 Safari/537.36'\n",
    "}\n",
    "\n",
    "url = 'https://news.google.com/topics/CAAqJQgKIh9DQkFTRVFvSUwyMHZNRFptTXpJU0JYcG9MVlJYS0FBUAE'\n",
    "response = requests.get(url, headers=user_agent)\n",
    "web = response.text\n",
    "\n",
    "soup = BeautifulSoup(web, 'html.parser')\n",
    "\n",
    "titles = []\n",
    "dscps = []\n",
    "links = []\n",
    "\n",
    "title_elements = soup.find_all('div', class_='DY5T1d')\n",
    "\n",
    "for title_element in title_elements:\n",
    "    title = title_element.find('a', class_=\"DY5T1d\")\n",
    "    if title:\n",
    "        titles.append(title.text)\n",
    "    desc = title_element.find('span')\n",
    "    if desc:\n",
    "        dscps.append(desc.text)\n",
    "    link = title_element.find('a', href=True)\n",
    "    if link:\n",
    "        full_link = requests.get(link['href'].replace('.', 'https://news.google.com/')).url\n",
    "        links.append(full_link)\n",
    "\n",
    "print('標題:', titles)\n",
    "print('描述:', dscps)\n",
    "print('連結:', links)\n",
    "\n",
    "print('ok fine. it is talking about Taiwan news')"
   ]
  },
  {
   "cell_type": "code",
   "execution_count": 2,
   "metadata": {},
   "outputs": [
    {
     "name": "stdout",
     "output_type": "stream",
     "text": [
      "標題: 更多 - 京華城案柯文哲遭羈押律師聲明不提抗告| 社會\n",
      "描述: \n",
      "連結: https://news.google.com./read/CBMiX0FVX3lxTE1tOXk1Q215MlFfSUlMZ1dQWDk1U3NTclZMaXJNTzlmZTVQMWJfY3pJcmpFRjRrODNPREhpUk8tUllTVmJpWldKeGFNby1rN0tmTVR6MWd1YTNLRzI3TUtN?hl=zh-TW&gl=TW&ceid=TW%3Azh-Hant\n",
      "\n",
      "標題: 更多 - 柯文哲不提抗告 民眾黨：用實際行動表達「我跟你們槓上」\n",
      "描述: \n",
      "連結: https://news.google.com./read/CBMiX0FVX3lxTE9MTmZqZDd6aEFRelFROWc4WFljQW9XWGE0N0l6ZUd4dG9JZkNIWmlMRS1GaVBMN2x6U3FHbno3Z3NBaENLRlFqcmloRHZBUVpUckNiXzlDU21kVGNjQzBN?hl=zh-TW&gl=TW&ceid=TW%3Azh-Hant\n",
      "\n",
      "標題: 更多 - 柯文哲不抗告！史書華曝他「暗黑動機」：只剩純痴草會信\n",
      "描述: \n",
      "連結: https://news.google.com./read/CBMi3wJBVV95cUxNMEVKbTg4R0hSMGxIanYxN3Z4M25PdXA5ZXdRaFRpVmFHZ29jd1FwSi1BZC10U3lQRFQ3bm9nRXd5T25Hck56VVVMdkt5cFVhVFFzbklMemhwMXNheEpTSnFielVMR3NKWDIwdmsxOUY5eXF2a0ljT1p4dTN1TklGOGdxUlRielNrTjY4S1lFV0tBNk04aUh0OEVraXBjSkFkTXB4ckVQaDNCdkRiM2VDTHc0QlJSMloySDNEUEdSOHFERUpyM3VOd3BjR2FVZTVicWlvdVc2ZXB1ZUdQYWViQUVIa3U0VDRsN3NMS3QycVpXdXBOU2ZyMXM3WVFCVEczNDNnUGZqSW9ydlVPd05mN1o5dHg5WHNqb0hDcnVSQXhDTEZwRzFpMU1EcHhpVnhZTW9JelNELVh5bDQ4Q3I5N1A0Ty00NWx4ck5YM3Z3Yk1RWXB4YnBKdkN4UnF1WU0?hl=zh-TW&gl=TW&ceid=TW%3Azh-Hant\n",
      "\n",
      "標題: 更多 - 柯文哲為何不提抗告？周榆修：用實際行動槓上檢調\n",
      "描述: \n",
      "連結: https://news.google.com./read/CBMiUEFVX3lxTFB1dWVZSnVSQV9PS3AzaVJqbHNrdzVsMjRSZUlxVGJqTFpJc1RvcUlRV1FyZzhETENtRktKNk9FWFRXQ2xhX1VVdzh0V0UxTFp40gFYQVVfeXFMUENPbWlUWVN5M2pNOGZPM2E3UUVkbG9WYjM3SkpmejFObndSR3NiczdsN05rNHZSeGc5TEFaaGVIb3R4SnZsaVNYTmRGLUV6M28tcWZ0X2Q4dQ?hl=zh-TW&gl=TW&ceid=TW%3Azh-Hant\n",
      "\n",
      "標題: 更多 - 柯文哲「1500沈慶京」隨身碟洩密爭議 北檢：分他字案調查\n",
      "描述: \n",
      "連結: https://news.google.com./read/CBMi2gJBVV95cUxNSWFsR01SX0xSb3JiTzBXOGVmb24xTW9rb09scnB1MmJ0Y1ZSYmNXSUdzRmRSLUlEdUFIZlFQeDJvcUVYc3lBaFJNcDVwZ3NoTzJGeU9ZbFdoaWo1SUZZTTVsZ1MyRHVfY1pqU3lBYlFETElXZ242VndkVnRXbUs4ZmNBYXI3b2d0OEZKaTFCUDJJbVNtQWRsVHFFdVRSZXFHd0JkdS1DNENjTXpCbE9URUNZX051ZnhlUndINWhvZUJLZ0FCZjhyLW9LYzdHdFpuZExfWnBFN2RRcEtpZ09FWGloQnhobjk2RXJFQjNJOTF5SXlBWDAtUGx6akJteHlOczZpeUZUaDd6aG1PZW5XTDZWNTBuQ1dKck5JWi01b3pnSVlOU2h0VTlnYnBMWWRHU1dnRUlObUpReDlaYzdrQWthUXFURy1WYUhxb2JLNk1EMlFtRmZQQkJR?hl=zh-TW&gl=TW&ceid=TW%3Azh-Hant\n",
      "\n",
      "標題: 更多 - 誰把「沈慶京1500」餵給媒體？北檢否認圖利 要查洩密\n",
      "描述: \n",
      "連結: https://news.google.com./read/CBMiUEFVX3lxTFBuOVl2V19LSDEyd1VyRUFkdVBnaUFyMVVpMFlxM2pOLWxoZTdDSFZkUmpfRzhFVjF3N3lab21LeF80bl9Ua2JsczczNDdKTWxL?hl=zh-TW&gl=TW&ceid=TW%3Azh-Hant\n",
      "\n",
      "標題: 更多 - 「1500沈慶京」非見面時間！柯這時拜會里長\n",
      "描述: \n",
      "連結: https://news.google.com./read/CBMijwJBVV95cUxObTlMcm5GVVBsX2gzWWNjMklGcDRnZk1yMUpzSjFwb1BTdVFaSFZmZVFXVVdjSmNHaEJxNU1UOUxnUUU2RldrUU50N0tPVWhXcE5OS005NjJhLXN2UHpLN3NsU1BFTnQzczlDWVkwTV9Va1lBdVhvUEtWeDdKZ3ROVlFSQXhhRlctTmhHSUh4RGEzNmZRaHJfZ254Rk13eFdHV3BoVzQ1MkpOTG83ZWVSQ2FtRG83TFdndEhsMjZIN0p2UlJjUU9Fdmx3czhYWmJteGUzekxnZ3JlSTF6SlV3OUhiZmtITWpGRFA1UHV1LVFmVXNDeGtnQ0k0Rk5VMEhxMHotYVlvb0JGanA1ejRv?hl=zh-TW&gl=TW&ceid=TW%3Azh-Hant\n",
      "\n",
      "標題: 更多 - 柯文哲1500萬金流報導北檢強調無洩漏、分案查有無人員涉不法| 社會\n",
      "描述: \n",
      "連結: https://news.google.com./read/CBMiX0FVX3lxTE1laTRPdnZ0UjlqWTJfaS1UdGVoSzdtRlpTS2NXODBHU0pTVHNuVUNha3d2Uy1GUjloTVB0UnBwbTNOcnMyR1hLOEhQbEhGODJrempxc0txVG9OSUF0RC1j?hl=zh-TW&gl=TW&ceid=TW%3Azh-Hant\n",
      "\n",
      "標題: 更多 - 甩鍋彭振聲？陳佩琪：京華城案柯文哲不知情、市長甲章是他人幫蓋| 政治\n",
      "描述: \n",
      "連結: https://news.google.com./read/CBMiWkFVX3lxTFB2M2s0TG45X2Q4d2pMSjJzZktISXU1dnpscmkyWEJBOVdsM1FYMWxYTk5pNkFyM0VhRVhCRC1jeVl3U3BwUGNxT2oxOE02VUdsRmRGcVdLUnMwUQ?hl=zh-TW&gl=TW&ceid=TW%3Azh-Hant\n",
      "\n",
      "標題: 更多 - 華郵綜合123份民調結果曝光！賀錦麗支持趨緩 搖擺州與川普打平\n",
      "描述: \n",
      "連結: https://news.google.com./read/CBMiUEFVX3lxTFBZRko3UEVUQmw4ajRRaHdYME1hOVZiQWFVQTB1YnhYOUpMeFVZbzA2Q3NDRERwdXJxd1JYNXJPNjRpQlJyTU5PYkJQd1A5TEQw?hl=zh-TW&gl=TW&ceid=TW%3Azh-Hant\n",
      "\n"
     ]
    }
   ],
   "source": [
    "# 此部分基於上述程式架構，觀察目前 Google 新聞網頁內容結構，修改後的版本\n",
    "\n",
    "import requests\n",
    "from bs4 import BeautifulSoup\n",
    "\n",
    "user_agent = {\n",
    "    'User-Agent': 'Mozilla/5.0 (Macintosh; Intel Mac OS X 10_15_7) AppleWebKit/537.36 (KHTML, like Gecko) Chrome/86.0.4240.111 Safari/537.36'\n",
    "}\n",
    "\n",
    "url = 'https://news.google.com/home?hl=zh-TW&gl=TW&ceid=TW:zh-Hant'\n",
    "response = requests.get(url, headers=user_agent)\n",
    "web = response.text\n",
    "\n",
    "soup = BeautifulSoup(web, 'html.parser')\n",
    "\n",
    "data = []\n",
    "\n",
    "article_elements = soup.find_all('article')\n",
    "\n",
    "for article_element in article_elements:\n",
    "    title_element = article_element.find('button', class_='VfPpkd-Bz112c-LgbsSe')\n",
    "    if title_element:\n",
    "        title = title_element['aria-label']\n",
    "        desc = \"\"\n",
    "        link = \"\"\n",
    "        desc_element = article_element.find('p')\n",
    "        if desc_element:\n",
    "            desc = desc_element.text\n",
    "        link_element = article_element.find('a', href=True)\n",
    "        if link_element:\n",
    "            link = f'https://news.google.com{link_element[\"href\"]}'\n",
    "        data.append({\n",
    "            '標題': title,\n",
    "            '描述': desc,\n",
    "            '連結': link\n",
    "        })\n",
    "\n",
    "for item in data:\n",
    "    print('標題:', item['標題'])\n",
    "    print('描述:', item['描述'])\n",
    "    print('連結:', item['連結'])\n",
    "    print()\n"
   ]
  },
  {
   "cell_type": "markdown",
   "metadata": {},
   "source": [
    ">目前得到的是 google news 的網址\n",
    "\n",
    ">點擊後才會跳轉到正確的新聞網址\n",
    "\n",
    ">所以要得到真正新聞的內文要再處理\n"
   ]
  }
 ],
 "metadata": {
  "interpreter": {
   "hash": "aee8b7b246df8f9039afb4144a1f6fd8d2ca17a180786b69acc140d282b71a49"
  },
  "kernelspec": {
   "display_name": "Python 3.9.7 64-bit",
   "name": "python3"
  },
  "language_info": {
   "codemirror_mode": {
    "name": "ipython",
    "version": 3
   },
   "file_extension": ".py",
   "mimetype": "text/x-python",
   "name": "python",
   "nbconvert_exporter": "python",
   "pygments_lexer": "ipython3",
   "version": "3.12.5"
  }
 },
 "nbformat": 4,
 "nbformat_minor": 4
}
