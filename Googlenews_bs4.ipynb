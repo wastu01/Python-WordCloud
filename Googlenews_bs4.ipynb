{
 "cells": [
  {
   "cell_type": "code",
   "execution_count": 1,
   "metadata": {},
   "outputs": [
    {
     "name": "stdout",
     "output_type": "stream",
     "text": [
      "標題: []\n",
      "描述: []\n",
      "連結: []\n",
      "ok fine. it is talking about Taiwan news\n"
     ]
    }
   ],
   "source": [
    "# 當時硬幹解析 Google 新聞版本，目前已失效\n",
    "\n",
    "import requests\n",
    "from bs4 import BeautifulSoup\n",
    "\n",
    "user_agent = {\n",
    "    'User-Agent': 'Mozilla/5.0 (Macintosh; Intel Mac OS X 10_15_7) AppleWebKit/537.36 (KHTML, like Gecko) Chrome/86.0.4240.111 Safari/537.36'\n",
    "}\n",
    "\n",
    "url = 'https://news.google.com/topics/CAAqJQgKIh9DQkFTRVFvSUwyMHZNRFptTXpJU0JYcG9MVlJYS0FBUAE'\n",
    "response = requests.get(url, headers=user_agent)\n",
    "web = response.text\n",
    "\n",
    "soup = BeautifulSoup(web, 'html.parser')\n",
    "\n",
    "titles = []\n",
    "dscps = []\n",
    "links = []\n",
    "\n",
    "title_elements = soup.find_all('div', class_='DY5T1d')\n",
    "\n",
    "for title_element in title_elements:\n",
    "    title = title_element.find('a', class_=\"DY5T1d\")\n",
    "    if title:\n",
    "        titles.append(title.text)\n",
    "    desc = title_element.find('span')\n",
    "    if desc:\n",
    "        dscps.append(desc.text)\n",
    "    link = title_element.find('a', href=True)\n",
    "    if link:\n",
    "        full_link = requests.get(link['href'].replace('.', 'https://news.google.com/')).url\n",
    "        links.append(full_link)\n",
    "\n",
    "print('標題:', titles)\n",
    "print('描述:', dscps)\n",
    "print('連結:', links)\n",
    "\n",
    "print('ok fine. it is talking about Taiwan news')"
   ]
  },
  {
   "cell_type": "code",
   "execution_count": 2,
   "metadata": {},
   "outputs": [
    {
     "name": "stdout",
     "output_type": "stream",
     "text": [
      "標題: 更多 - 京華城案柯文哲無保請回北檢今提抗告| 社會\n",
      "描述: \n",
      "連結: https://news.google.com./read/CBMiX0FVX3lxTE5aVDRUeE9taHRoSXI3NWZ4d2prWEQ5OXVNUmoyTG5Pa1NKNGZ2emFjSXFEYjlPNFhtcWx1QTZobXlkYXY3SWUxRUx4NnktaFp6RGhSMzNteW9yS3hZeVU4?hl=zh-TW&gl=TW&ceid=TW%3Azh-Hant\n",
      "\n",
      "標題: 更多 - 京華城案柯文哲無保請回 北檢補強證據抗告請求撤銷原裁定\n",
      "描述: \n",
      "連結: https://news.google.com./read/CBMijANBVV95cUxPU1Zpd0JnMXNQZGxVRWJ5UDJNMGJTSDM5OHZQMmhOVUNmQjFYZExiZEpUWUM5SUZXNHhhWDhBTk1OQUZ0R0lmaFhFYXhvRTR2QThscGJ3MjhrR2FhYnhScXczOG5zc3VoU2V5c3BRT1YwdUQwVUF6ZGdTSnMwTjROdGZyUE5xZXpFU3VlS2pKQWZCYjhMb00zbjN4V0hoZndKSFppSUU2bjJ1NnQtMlpRcjM3dHJScmhFXzBEZGFVdUlQbF8zb0NDcGNZUW0tdXBwaXRPeEFsUWM0aGloR0FsVmplTlducVktQzJOSVNmRHVzbFN2RnZpLUVhNmhTcm1SZVp0YXpLbnNHSWVNTk1tUlAzeFF3R3ZQTk01VS1TVWRLWmRCTW0xUDlhNVBDRjMyVnFaMUtKdnMxZ00zSHRNVFRtVmJheTZKMUxxTDNSbkkzTUNfbGt6ekNPaU9GamE1MU9MbFdzUDRQUkVVZzhubmNYSjc5cEsxaG9XTTlJNUlMdTF1a1Y4dnY1N2U?hl=zh-TW&gl=TW&ceid=TW%3Azh-Hant\n",
      "\n",
      "標題: 更多 - 柯文哲70小時司法歷險控北檢「編故事」 裁定書曝露一件事\n",
      "描述: \n",
      "連結: https://news.google.com./read/CBMiUEFVX3lxTE9OUkZoeHdXa1F1alJhd2FJWjRROEVTMG1IYW95ZDFHZGdBaER1bGo2RktvSE5ZRlBBb3p5eEMyb24zOHZrUmNPZnZzRnotbWZn0gFYQVVfeXFMTkVQbVJUczkwZGs1VnNIckR5S2ZpbjhMQzdOd3JVRHFHb2dwWm9rMFF3NExFVGlQLTc5MWRxc0ppUmNCZHp1MGlLaU1za3piVmk1QTVpVDJpQw?hl=zh-TW&gl=TW&ceid=TW%3Azh-Hant\n",
      "\n",
      "標題: 更多 - 快訊／柯文哲無保請回！北檢抗告卷證送到高院了 法官閱卷中\n",
      "描述: \n",
      "連結: https://news.google.com./read/CBMiXkFVX3lxTE45TWRiVjlJa2I0YnBadTFTTFZUOVZfQkdFMEdJSlVtaGhTNmZXb3puektwZ2NIUUVHTmRqMjFSMGdNWXlvNkpmbC12YXh2X2pYSE5ZWGR6c2c2U205RXfSAWhBVV95cUxNU3E4UFBNLUFFMnM1ODVDSlhIVWpBajZQUlIyMzVvN2JXeUR6RGJnQThjU2JyN0hkWTY3RkhLdXBvZlFYQWY2Sy1DTE10VlFpZmZXZVJIYnVWcXlVX2xvRy0tMDF5MzNFQw?hl=zh-TW&gl=TW&ceid=TW%3Azh-Hant\n",
      "\n",
      "標題: 更多 - 柯文哲稱「不知京華城840％容積率」 黃暐瀚：怎麼可能、怎麼可以不知道？\n",
      "描述: \n",
      "連結: https://news.google.com./read/CBMiwAJBVV95cUxQbGVTOHZ0UGtkWUFhWmRQNE1wbVhxRXpjaXVKdnExOWlmUzlMZk5XLUZhbHJ0a08tQWpGVDZaM2lnQ0g4dS1lT0JsNHVSR1huMkFtbVRDWE5HX3FLRVp0dVBhRXpSaFdoR3B4dWU4cS1ySXJyOFhjYjF3SGFsV0gzZklzczBZdndZWFB0a0ZqMmQ1LWVBdmdKbXhDcVlhWWJFUHpPS0xKUHJQdTBaZzZQc1pWRkZpeVZKYTFLUllDRlYzLVU0MWVSeXQtbVQ5bWpLdHFUNUxWTzRWN0NHUnRyLUdWODhyYUo0UHFHUldYa1pvalBaUmZlN3ZTcy02V2dveVl0RlBIMk91N2xUQWJHZGNJQzZxSHNsNmNqZjFsaUM5bkxPdDFReEdPdlAzdHN6SUZaR1JRYjdKQkZKWDdacA?hl=zh-TW&gl=TW&ceid=TW%3Azh-Hant\n",
      "\n",
      "標題: 更多 - 柯文哲稱不知京華城容積840％ 黃珊珊：是指不可能干涉\n",
      "描述: \n",
      "連結: https://news.google.com./read/CBMiUEFVX3lxTE5KS0l4cWVDQ252elFhMkRjdzBwX0xqc2NXSTlkeDNXWkNvby1QLTNmZmk0dlpPbGNaR1VfUllFQ2k5a2g2cVlZVXRqcmQ3a0tu?hl=zh-TW&gl=TW&ceid=TW%3Azh-Hant\n",
      "\n",
      "標題: 更多 - 喊冤！京華城容積560% 劉德勳：沒逆轉結論\n",
      "描述: \n",
      "連結: https://news.google.com./read/CBMijwJBVV95cUxOZkFNQTJJOGp0WmE1TkFjZW9aYXFVWmxnVlZ5c1VoT08wNDZTZm15MnJ4bW1Wei15cnZLeW90TlFUVVl6eGQ5bl9iWEk3dkZ3WlZjU1hQV0pUd01IZkl5UzVIRk5VWkFmM19ZVFVEZHl3OTBwY3pFaGNrVWhjeEtyQ3FHdFhTczYxRm1LbTNNZzZ6NEd5bXY3UzB0am42RzFwNnZEMXNfa1YyQ05YXzViSGNJOUdCaTFrRmttZEFrM2VxZEtRSnBnWTNCSDE2c1hzZS04eGVvUGplRkNBRWxiTGRrUzV4TEpQOEJIWTF4cTdqb1VoZ2lTT2hYSG5sN1RhZmtMQ0NUMl9aQ1NwRXhN?hl=zh-TW&gl=TW&ceid=TW%3Azh-Hant\n",
      "\n",
      "標題: 更多 - 陳智菡批未算出京華城容積率840% 苗博雅：早提20%容積獎勵問題| 地方\n",
      "描述: \n",
      "連結: https://news.google.com./read/CBMiX0FVX3lxTE5wbkxOT0JUTnpjYmxaTnZVbFo5Z2VNZWJlc0pFNGMyT1dtbDEzNGJQQXowOHRrSlU3UW1pVGJrLUx6bVhLSEpUR0U1SE1KVGNSemJWTEJPekJvTDRMNEcw?hl=zh-TW&gl=TW&ceid=TW%3Azh-Hant\n",
      "\n",
      "標題: 更多 - 京華城弊案涉貪罪名10年起跳羈押禁見 彭振聲今提抗告\n",
      "描述: \n",
      "連結: https://news.google.com./read/CBMiUEFVX3lxTE9NWmFPeGNaT3ppcjI0ek9Lak1PX1NFRndscjlBcUN2bUcwY3FsbTl6S0FldV9aN3VIRm9STE5RZFJlUkZ6cndBSVFZTGpkd1gt?hl=zh-TW&gl=TW&ceid=TW%3Azh-Hant\n",
      "\n",
      "標題: 更多 - 吳德榮：9/6前後另有颱風生成影響待觀察| 生活\n",
      "描述: \n",
      "連結: https://news.google.com./read/CBMiX0FVX3lxTE9FZXhwQV92SWdlSURpdGZqNk5yalYtX1FReXgxRm1MSV81OHVhY0NabFlyZmFmTkY5OUwtdGNJTUhDY1dJUkcxaEVUdkg0MVpOVzZiaHp5TlQ5bXJCUF9v?hl=zh-TW&gl=TW&ceid=TW%3Azh-Hant\n",
      "\n"
     ]
    }
   ],
   "source": [
    "# 此部分由 ChatGPT 基於上述程式，修改完成更精簡版笨\n",
    "\n",
    "import requests\n",
    "from bs4 import BeautifulSoup\n",
    "\n",
    "user_agent = {\n",
    "    'User-Agent': 'Mozilla/5.0 (Macintosh; Intel Mac OS X 10_15_7) AppleWebKit/537.36 (KHTML, like Gecko) Chrome/86.0.4240.111 Safari/537.36'\n",
    "}\n",
    "\n",
    "url = 'https://news.google.com/home?hl=zh-TW&gl=TW&ceid=TW:zh-Hant'\n",
    "response = requests.get(url, headers=user_agent)\n",
    "web = response.text\n",
    "\n",
    "soup = BeautifulSoup(web, 'html.parser')\n",
    "\n",
    "data = []\n",
    "\n",
    "article_elements = soup.find_all('article')\n",
    "\n",
    "for article_element in article_elements:\n",
    "    title_element = article_element.find('button', class_='VfPpkd-Bz112c-LgbsSe')\n",
    "    if title_element:\n",
    "        title = title_element['aria-label']\n",
    "        desc = \"\"\n",
    "        link = \"\"\n",
    "        desc_element = article_element.find('p')\n",
    "        if desc_element:\n",
    "            desc = desc_element.text\n",
    "        link_element = article_element.find('a', href=True)\n",
    "        if link_element:\n",
    "            link = f'https://news.google.com{link_element[\"href\"]}'\n",
    "        data.append({\n",
    "            '標題': title,\n",
    "            '描述': desc,\n",
    "            '連結': link\n",
    "        })\n",
    "\n",
    "for item in data:\n",
    "    print('標題:', item['標題'])\n",
    "    print('描述:', item['描述'])\n",
    "    print('連結:', item['連結'])\n",
    "    print()\n"
   ]
  },
  {
   "cell_type": "markdown",
   "metadata": {},
   "source": [
    ">目前得到的是 google news 的網址\n",
    "\n",
    ">點擊後才會跳轉到正確的新聞網址\n",
    "\n",
    ">所以要得到真正新聞的內文要再處理\n"
   ]
  }
 ],
 "metadata": {
  "interpreter": {
   "hash": "aee8b7b246df8f9039afb4144a1f6fd8d2ca17a180786b69acc140d282b71a49"
  },
  "kernelspec": {
   "display_name": "Python 3.9.7 64-bit",
   "name": "python3"
  },
  "language_info": {
   "codemirror_mode": {
    "name": "ipython",
    "version": 3
   },
   "file_extension": ".py",
   "mimetype": "text/x-python",
   "name": "python",
   "nbconvert_exporter": "python",
   "pygments_lexer": "ipython3",
   "version": "3.12.5"
  }
 },
 "nbformat": 4,
 "nbformat_minor": 4
}
