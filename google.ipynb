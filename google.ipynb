{
 "cells": [
  {
   "cell_type": "code",
   "execution_count": 1,
   "metadata": {},
   "outputs": [
    {
     "name": "stdout",
     "output_type": "stream",
     "text": [
      "<class 'requests.models.Response'>\n",
      "<class 'str'>\n",
      "['How Long Can the Biden Administration Stall a Crisis in Taiwan?']\n",
      "[<span class=\"xBbh9\">The U.S. has been putting off a showdown over Taiwan for 40 years. It won't wait forever.</span>]\n",
      "<class 'list'>\n",
      "['https://news.google.com/topstories?hl=en-US&gl=US&ceid=US:en']\n",
      "ok\n"
     ]
    }
   ],
   "source": [
    "\n",
    "\n",
    "# 硬幹解析 Google 失敗 :( \n",
    "# 請看另一個\n",
    "\n",
    "\n",
    "import requests \n",
    "from bs4 import BeautifulSoup\n",
    "import pandas as pd\n",
    " \n",
    "user_agent = {'User-Agent': 'Mozilla/5.0 (Macintosh; Intel Mac OS X 10_15_7) AppleWebKit/537.36 (KHTML, like Gecko) Chrome/86.0.4240.111 Safari/537.36'}\n",
    "\n",
    "    \n",
    "url = 'https://news.google.com/topics/CAAqJQgKIh9DQkFTRVFvSUwyMHZNRFptTXpJU0JYcG9MVlJYS0FBUAE'\n",
    "response = requests.get(url, headers=user_agent )\n",
    "web = response.text\n",
    "print(type(response))\n",
    "print(type(web))\n",
    "\n",
    "soup = BeautifulSoup(web,'html')\n",
    "\n",
    "\n",
    "\n",
    "title = soup.find_all('div', class_='DBQmFf NclIid BL5WZb Oc0wGc xP6mwf j7vNaf')\n",
    "# print(title)\n",
    "\n",
    "titles = [t.find('a', class_=\"DY5T1d\").text for t in title]\n",
    "print(titles)\n",
    "\n",
    "dscps = [d.find('span') for d in title]\n",
    "print(dscps)\n",
    "\n",
    "\n",
    "\n",
    "links = [ requests.get(a.find('a')['href'].replace('.','https://news.google.com/')).url for a in title]\n",
    "print(type(links))\n",
    "print(links)\n",
    "\n",
    "\n",
    "print('ok')\n",
    "\n",
    "\n",
    "\n",
    "\n",
    "\n",
    "\n",
    "\n",
    "\n"
   ]
  },
  {
   "cell_type": "code",
   "execution_count": null,
   "metadata": {},
   "outputs": [],
   "source": []
  }
 ],
 "metadata": {
  "kernelspec": {
   "display_name": "Python 3",
   "language": "python",
   "name": "python3"
  },
  "language_info": {
   "codemirror_mode": {
    "name": "ipython",
    "version": 3
   },
   "file_extension": ".py",
   "mimetype": "text/x-python",
   "name": "python",
   "nbconvert_exporter": "python",
   "pygments_lexer": "ipython3",
   "version": "3.8.3"
  }
 },
 "nbformat": 4,
 "nbformat_minor": 4
}
