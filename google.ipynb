{
 "cells": [
  {
   "cell_type": "code",
   "execution_count": 2,
   "metadata": {},
   "outputs": [
    {
     "name": "stdout",
     "output_type": "stream",
     "text": [
      "<class 'requests.models.Response'>\n",
      "<class 'str'>\n",
      "[\"Taiwan just went 200 days without a locally transmitted Covid-19 case. Here's how they did it\", \"Same sex couples marry in mass military wedding -- a first for Taiwan's armed forces\", 'China sanctions major US defence companies after arms sales to Taiwan', 'Taiwan’s UMC to Aid U.S. Pursuit of Chinese Firm for Theft', 'Taiwan Shrugs Off Pandemic to Deliver Surprise Growth', 'Taiwan Fighter Jet Crashes, Fueling Worries About Aging Fleet']\n",
      "[<span aria-hidden=\"true\" class=\"DPvwYc azh0pe\">play_arrow</span>, <span class=\"xBbh9\">Two women became the first military officers to marry their same-sex civilian partners at a mass military wedding in Taiwan on Friday, marking another landmark ...</span>, <span class=\"fyxBIe\">A Taiwanese F-16 fighter jet flies next to a Chinese H-6 bomber (top) in Taiwan airspace. China has sanctioned major US defence companies for selling weapons to Taipei.</span>, <span class=\"fyxBIe\">JAPAN - MARCH 05: Various types of memory chips are stacked at an electronics shop in Tokyo, Japan, on Thursday, March 5, 2009. Taiwan, producer of more than 20 percent of the world's computer-memory chips, named John Hsuan, honorary vice chairman of United Microelectronics Corp., to oversee the formation of a state-owned semiconductor maker. (Photo by Tomohiro Ohsumi/Bloomberg via Getty Images) Photographer: Tomohiro Ohsumi/Bloomberg/Bloomberg</span>, <span class=\"sqLK1d\" rel=\"author\">david chang/Shutterstock</span>, <span class=\"fyxBIe\">F-5 fighters perform a formation fly by during rehearsals for a public airshow at a military airbase in Taitung. 9th Jily 2018. Photographer: Chris Stowers/AFP via Getty Images</span>]\n",
      "<class 'list'>\n",
      "['https://news.google.com/topstories?hl=en-US&gl=US&ceid=US:en', 'https://news.google.com/topstories?hl=en-US&gl=US&ceid=US:en', 'https://news.google.com/topstories?hl=en-US&gl=US&ceid=US:en', 'https://news.google.com/topstories?hl=en-US&gl=US&ceid=US:en', 'https://news.google.com/topstories?hl=en-US&gl=US&ceid=US:en', 'https://news.google.com/topstories?hl=en-US&gl=US&ceid=US:en']\n",
      "ok\n"
     ]
    }
   ],
   "source": [
    "\n",
    "\n",
    "# 硬幹解析 Google 失敗 :( \n",
    "# 請看另一個\n",
    "\n",
    "\n",
    "import requests \n",
    "from bs4 import BeautifulSoup\n",
    "import pandas as pd\n",
    " \n",
    "user_agent = {'User-Agent': 'Mozilla/5.0 (Macintosh; Intel Mac OS X 10_15_7) AppleWebKit/537.36 (KHTML, like Gecko) Chrome/86.0.4240.111 Safari/537.36'}\n",
    "\n",
    "    \n",
    "url = 'https://news.google.com/topics/CAAqJQgKIh9DQkFTRVFvSUwyMHZNRFptTXpJU0JYcG9MVlJYS0FBUAE'\n",
    "response = requests.get(url, headers=user_agent )\n",
    "web = response.text\n",
    "print(type(response))\n",
    "print(type(web))\n",
    "\n",
    "soup = BeautifulSoup(web,'html')\n",
    "\n",
    "\n",
    "\n",
    "title = soup.find_all('div', class_='DBQmFf NclIid BL5WZb Oc0wGc xP6mwf j7vNaf')\n",
    "# print(title)\n",
    "\n",
    "titles = [t.find('a', class_=\"DY5T1d\").text for t in title]\n",
    "print(titles)\n",
    "\n",
    "dscps = [d.find('span') for d in title]\n",
    "print(dscps)\n",
    "\n",
    "\n",
    "\n",
    "links = [ requests.get(a.find('a')['href'].replace('.','https://news.google.com/')).url for a in title]\n",
    "print(type(links))\n",
    "print(links)\n",
    "\n",
    "\n",
    "print('ok')\n",
    "\n",
    "\n",
    "\n",
    "\n",
    "\n",
    "\n",
    "\n",
    "\n"
   ]
  },
  {
   "cell_type": "code",
   "execution_count": null,
   "metadata": {},
   "outputs": [],
   "source": []
  }
 ],
 "metadata": {
  "kernelspec": {
   "display_name": "Python 3",
   "language": "python",
   "name": "python3"
  },
  "language_info": {
   "codemirror_mode": {
    "name": "ipython",
    "version": 3
   },
   "file_extension": ".py",
   "mimetype": "text/x-python",
   "name": "python",
   "nbconvert_exporter": "python",
   "pygments_lexer": "ipython3",
   "version": "3.8.3"
  }
 },
 "nbformat": 4,
 "nbformat_minor": 4
}
