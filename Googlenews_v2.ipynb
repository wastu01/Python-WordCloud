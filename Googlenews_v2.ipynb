{
 "cells": [
  {
   "cell_type": "markdown",
   "metadata": {},
   "source": [
    "# 匯入模組"
   ]
  },
  {
   "cell_type": "markdown",
   "metadata": {},
   "source": [
    "```\n",
    "pip install pandas\n",
    "pip install jieba\n",
    "pip install GoogleNews\n",
    "pip install matplotlib\n",
    "pip install Pillow\n",
    "pip install numpy\n",
    "pip install scipy\n",
    "pip install wordcloud\n",
    "```"
   ]
  },
  {
   "cell_type": "code",
   "execution_count": 1,
   "metadata": {},
   "outputs": [],
   "source": [
    "# 匯入模組\n",
    "import pandas as pd\n",
    "import jieba\n",
    "from GoogleNews import GoogleNews\n",
    "from collections import Counter\n",
    "import matplotlib.pyplot as plt\n",
    "from datetime import datetime\n",
    "from PIL import Image\n",
    "import numpy as np\n",
    "from scipy.ndimage import gaussian_gradient_magnitude\n",
    "from wordcloud import WordCloud, ImageColorGenerator\n"
   ]
  },
  {
   "cell_type": "markdown",
   "metadata": {},
   "source": [
    "需要知道的觀念和套件：\n",
    "\n",
    "1. Pandas 資料處理\n",
    "2. GoogleNews 爬蟲套件\n",
    "3. WordCloud 文字雲套件\n",
    "4. Image.open 讀取圖片\n",
    "5. numpy 陣列操作\n",
    "6. jieba 斷詞套件\n",
    "7. datetime 日期處理\n"
   ]
  },
  {
   "cell_type": "markdown",
   "metadata": {},
   "source": [
    "# 初始化 Google News 物件"
   ]
  },
  {
   "cell_type": "code",
   "execution_count": 2,
   "metadata": {},
   "outputs": [],
   "source": [
    "# Google News初始化設定\n",
    "googlenews = GoogleNews(lang='zh-tw', region='TW', encode='utf-8')\n",
    "\n",
    "# 啟用除錯模式 try except\n",
    "googlenews.enableException(True)"
   ]
  },
  {
   "cell_type": "markdown",
   "metadata": {},
   "source": [
    "# 使用者輸入關鍵字"
   ]
  },
  {
   "cell_type": "code",
   "execution_count": 3,
   "metadata": {},
   "outputs": [],
   "source": [
    "# , period='1d'\n",
    "set_time = input(\"請輸入要搜尋的時間 (1d, 7d, 30d): \")\n",
    "googlenews.set_period(set_time)\n",
    "# 使用者輸入關鍵字\n",
    "# keyword = input(\"請輸入要搜尋的關鍵字: \")\n",
    "keyword = \"柯文哲\"\n",
    "googlenews.search(keyword)"
   ]
  },
  {
   "cell_type": "code",
   "execution_count": 4,
   "metadata": {},
   "outputs": [
    {
     "name": "stdout",
     "output_type": "stream",
     "text": [
      "標題: 柯文哲案最新聲量曝光 TPOC評白營用盡招數聲援：輿情看法恐已定型\n"
     ]
    }
   ],
   "source": [
    "# test\n",
    "result = googlenews.result()\n",
    "print(f\"標題: {result[0]['title']}\")"
   ]
  },
  {
   "cell_type": "markdown",
   "metadata": {},
   "source": [
    "\n",
    "# 顯示搜尋結果"
   ]
  },
  {
   "cell_type": "code",
   "execution_count": 5,
   "metadata": {},
   "outputs": [
    {
     "name": "stdout",
     "output_type": "stream",
     "text": [
      "標題: 柯文哲案最新聲量曝光 TPOC評白營用盡招數聲援：輿情看法恐已定型\n",
      "連結: https://www.ettoday.net/news/20240918/2819212.htm&ved=2ahUKEwiBy6iPkMyIAxXxZvUHHdieCNkQxfQBegQIBRAC&usg=AOvVaw0iTmZHexOdR8y-IyfhX6e1\n",
      "---\n",
      "標題: 小草齊聚看守所「陪過中秋」 北檢追金流今再提訊柯文哲\n",
      "連結: https://www.mirrormedia.mg/story/20240918edi004&ved=2ahUKEwiBy6iPkMyIAxXxZvUHHdieCNkQxfQBegQICRAC&usg=AOvVaw2AfzxwuKrjqtiKKY_D-gVr\n",
      "---\n",
      "標題: 民眾黨護航柯文哲！黃智賢轟「史上最無恥政客集團」：黑社會都甘拜下風\n",
      "連結: https://tw.news.yahoo.com/%25E6%25B0%2591%25E7%259C%25BE%25E9%25BB%25A8%25E8%25AD%25B7%25E8%2588%25AA%25E6%259F%25AF%25E6%2596%2587%25E5%2593%25B2-%25E9%25BB%2583%25E6%2599%25BA%25E8%25B3%25A2%25E8%25BD%259F-%25E5%258F%25B2%25E4%25B8%258A%25E6%259C%2580%25E7%2584%25A1%25E6%2581%25A5%25E6%2594%25BF%25E5%25AE%25A2%25E9%259B%2586%25E5%259C%2598-%25E9%25BB%2591%25E7%25A4%25BE%25E6%259C%2583%25E9%2583%25BD%25E7%2594%2598%25E6%258B%259C%25E4%25B8%258B%25E9%25A2%25A8-081927568.html&ved=2ahUKEwiBy6iPkMyIAxXxZvUHHdieCNkQxfQBegQIBxAC&usg=AOvVaw2Xl3W8OKMtu7a7D1X9jlCp\n",
      "---\n",
      "標題: 北檢追柯匿名捐款 蔡正元算出「柯文哲行情價」：反而在表彰他多偉大\n",
      "連結: https://www.storm.mg/article/5240215&ved=2ahUKEwiBy6iPkMyIAxXxZvUHHdieCNkQxfQBegQIARAC&usg=AOvVaw2YN8CiLu78mVFeblIMqBsb\n",
      "---\n",
      "標題: 不信法院信鬼神？陳柏惟揭民眾黨開壇救柯文哲怪招：放生還阿北自由| 政治\n",
      "連結: https://www.setn.com/News.aspx%3FNewsID%3D1531835%26Area%3D8&ved=2ahUKEwiBy6iPkMyIAxXxZvUHHdieCNkQxfQBegQIAxAC&usg=AOvVaw0S3_MKUvfL6_lXiSN7e_c5\n",
      "---\n",
      "標題: 聲援柯文哲！民眾黨狂辦全國宣講 最新數據曝：網路聲量持續下跌\n",
      "連結: https://tw.news.yahoo.com/%25E8%2581%25B2%25E6%258F%25B4%25E6%259F%25AF%25E6%2596%2587%25E5%2593%25B2-%25E6%25B0%2591%25E7%259C%25BE%25E9%25BB%25A8%25E7%258B%2582%25E8%25BE%25A6%25E5%2585%25A8%25E5%259C%258B%25E5%25AE%25A3%25E8%25AC%259B-%25E6%259C%2580%25E6%2596%25B0%25E6%2595%25B8%25E6%2593%259A%25E6%259B%259D-%25E7%25B6%25B2%25E8%25B7%25AF%25E8%2581%25B2%25E9%2587%258F%25E6%258C%2581%25E7%25BA%258C%25E4%25B8%258B%25E8%25B7%258C-080007883.html&ved=2ahUKEwiBy6iPkMyIAxXxZvUHHdieCNkQxfQBegQIBhAC&usg=AOvVaw0VqNN1VHZW4Ft5RztI7fux\n",
      "---\n",
      "標題: 週刊爆柯文哲金流民眾黨嗆：寫故事也要有邏輯| 政治\n",
      "連結: https://newtalk.tw/news/view/2024-09-18/936810&ved=2ahUKEwiBy6iPkMyIAxXxZvUHHdieCNkQxfQBegQIAhAC&usg=AOvVaw3nGgJEzi0IOp0K2XMi6ivv\n",
      "---\n",
      "標題: 柯文哲 1500 是收以太幣？鬼才阿水上政論節目：價值1.1億元較合理\n",
      "連結: https://www.blocktempo.com/does-ke-wenzhes-1500-refers-to-eth/&ved=2ahUKEwiBy6iPkMyIAxXxZvUHHdieCNkQxfQBegQICBAC&usg=AOvVaw06cowk0IUgwEz-FfGc1cry\n",
      "---\n",
      "標題: 見北檢辦柯文哲案舉動 黃暐瀚點名這4人：為是否涉犯圖利關鍵\n",
      "連結: https://www.nownews.com/news/6528244&ved=2ahUKEwiBy6iPkMyIAxXxZvUHHdieCNkQxfQBegQIBBAC&usg=AOvVaw1LqpCURlystAmfKQRau_ZP\n",
      "---\n",
      "標題: 今天是專攻柯文哲Day「訊問進入第4小時」！9萬多筆「匿名捐獻金」能說明白？ @newsebc\n",
      "連結: https://www.youtube.com/watch%3Fv%3D98qdnwkmTck&ved=2ahUKEwiBy6iPkMyIAxXxZvUHHdieCNkQxfQBegQIABAC&usg=AOvVaw3UMLAp5zgPH6b6bxeNe_El\n",
      "---\n"
     ]
    }
   ],
   "source": [
    "# 獲取搜尋結果\n",
    "result = googlenews.result()\n",
    "\n",
    "# 顯示新聞標題和連結\n",
    "for item in result:\n",
    "    print(f\"標題: {item['title']}\")\n",
    "    print(f\"連結: {item['link']}\")\n",
    "    print('---')"
   ]
  },
  {
   "cell_type": "markdown",
   "metadata": {},
   "source": [
    "# 儲存成靜態文字檔案 Json 格式"
   ]
  },
  {
   "cell_type": "code",
   "execution_count": 6,
   "metadata": {},
   "outputs": [
    {
     "name": "stdout",
     "output_type": "stream",
     "text": [
      "搜尋結果已儲存為: ./json_output/20240918_柯文哲_7d.json\n"
     ]
    }
   ],
   "source": [
    "# <!-- 儲存至 Json -->\n",
    "import json\n",
    "from datetime import datetime\n",
    "\n",
    "# 獲取當前日期\n",
    "today = datetime.now().strftime('%Y%m%d')\n",
    "\n",
    "# 生成文件名\n",
    "filename = f\"./json_output/{today}_{keyword}_{set_time}.json\"\n",
    "\n",
    "# 將 result 寫入 JSON 文件\n",
    "with open(filename, 'w', encoding='utf-8') as f:\n",
    "    json.dump(result, f, ensure_ascii=False, indent=4)\n",
    "\n",
    "print(f\"搜尋結果已儲存為: {filename}\")\n"
   ]
  },
  {
   "cell_type": "code",
   "execution_count": 7,
   "metadata": {},
   "outputs": [
    {
     "name": "stdout",
     "output_type": "stream",
     "text": [
      "[{'title': '柯文哲案最新聲量曝光 TPOC評白營用盡招數聲援：輿情看法恐已定型', 'media': 'ETtoday新聞雲', 'date': '6 分鐘前', 'datetime': nan, 'desc': '民眾黨主席柯文哲因京華城案遭羈押已14天。對此，台灣議題研究中心（TPOC）18日分析「柯文哲網路聲量及好感度」，儘管民眾黨大力聲援，但相關議題網路聲量持續走低，...', 'link': 'https://www.ettoday.net/news/20240918/2819212.htm&ved=2ahUKEwiBy6iPkMyIAxXxZvUHHdieCNkQxfQBegQIBRAC&usg=AOvVaw0iTmZHexOdR8y-IyfhX6e1', 'img': 'data:image/gif;base64,R0lGODlhAQABAIAAAP///////yH5BAEKAAEALAAAAAABAAEAAAICTAEAOw=='}, {'title': '小草齊聚看守所「陪過中秋」 北檢追金流今再提訊柯文哲', 'media': '鏡週刊Mirror Media', 'date': '5 分鐘前', 'datetime': nan, 'desc': '台灣民眾黨主席柯文哲在台北市長任內通過的京華城容積案爭議持續延燒，柯文哲本月5日遭台北地院裁定羈押禁見，昨（17日）在台北看守所度過中秋節。檢察官持續追查京華城案...', 'link': 'https://www.mirrormedia.mg/story/20240918edi004&ved=2ahUKEwiBy6iPkMyIAxXxZvUHHdieCNkQxfQBegQICRAC&usg=AOvVaw2AfzxwuKrjqtiKKY_D-gVr', 'img': 'data:image/gif;base64,R0lGODlhAQABAIAAAP///////yH5BAEKAAEALAAAAAABAAEAAAICTAEAOw=='}, {'title': '民眾黨護航柯文哲！黃智賢轟「史上最無恥政客集團」：黑社會都甘拜下風', 'media': 'Yahoo新聞', 'date': '9 分鐘前', 'datetime': nan, 'desc': '民眾黨主席柯文哲在台北市長任內涉及京華城案，目前遭裁定收押禁見，案件發生至今，民眾黨全黨上下都力挺柯文哲清白。不過，資深媒體人黃智賢卻批評，民眾黨整天喊司法...', 'link': 'https://tw.news.yahoo.com/%25E6%25B0%2591%25E7%259C%25BE%25E9%25BB%25A8%25E8%25AD%25B7%25E8%2588%25AA%25E6%259F%25AF%25E6%2596%2587%25E5%2593%25B2-%25E9%25BB%2583%25E6%2599%25BA%25E8%25B3%25A2%25E8%25BD%259F-%25E5%258F%25B2%25E4%25B8%258A%25E6%259C%2580%25E7%2584%25A1%25E6%2581%25A5%25E6%2594%25BF%25E5%25AE%25A2%25E9%259B%2586%25E5%259C%2598-%25E9%25BB%2591%25E7%25A4%25BE%25E6%259C%2583%25E9%2583%25BD%25E7%2594%2598%25E6%258B%259C%25E4%25B8%258B%25E9%25A2%25A8-081927568.html&ved=2ahUKEwiBy6iPkMyIAxXxZvUHHdieCNkQxfQBegQIBxAC&usg=AOvVaw2Xl3W8OKMtu7a7D1X9jlCp', 'img': 'data:image/gif;base64,R0lGODlhAQABAIAAAP///////yH5BAEKAAEALAAAAAABAAEAAAICTAEAOw=='}, {'title': '北檢追柯匿名捐款 蔡正元算出「柯文哲行情價」：反而在表彰他多偉大', 'media': '風傳媒', 'date': '5 分鐘前', 'datetime': nan, 'desc': '民眾黨主席柯文哲因涉京華城案被羈押禁見，檢廉持續追查不法金流，根據《鏡週刊》報導，北檢目前鎖定柯文哲在選戰時湧入的近2億元現金捐款，將重點針對匿名捐款深入追查。55 分鐘前', 'link': 'https://www.storm.mg/article/5240215&ved=2ahUKEwiBy6iPkMyIAxXxZvUHHdieCNkQxfQBegQIARAC&usg=AOvVaw2YN8CiLu78mVFeblIMqBsb', 'img': 'data:image/gif;base64,R0lGODlhAQABAIAAAP///////yH5BAEKAAEALAAAAAABAAEAAAICTAEAOw=='}, {'title': '不信法院信鬼神？陳柏惟揭民眾黨開壇救柯文哲怪招：放生還阿北自由| 政治', 'media': '三立新聞網', 'date': '7 分鐘前', 'datetime': nan, 'desc': '民眾黨主席柯文哲因涉京華城弊案遭羈押禁見，台中市府顧問蔡壁如、民眾黨立委麥玉珍、台中市議員江和樹等人昨（17）日召集上百名小草在台中大肚山為柯祈福，幾人還請來一位...', 'link': 'https://www.setn.com/News.aspx%3FNewsID%3D1531835%26Area%3D8&ved=2ahUKEwiBy6iPkMyIAxXxZvUHHdieCNkQxfQBegQIAxAC&usg=AOvVaw0S3_MKUvfL6_lXiSN7e_c5', 'img': 'data:image/gif;base64,R0lGODlhAQABAIAAAP///////yH5BAEKAAEALAAAAAABAAEAAAICTAEAOw=='}, {'title': '聲援柯文哲！民眾黨狂辦全國宣講 最新數據曝：網路聲量持續下跌', 'media': 'Yahoo新聞', 'date': '8 分鐘前', 'datetime': nan, 'desc': '記者詹宜庭／台北報導民眾黨主席柯文哲因京華城案遭羈押禁見，民眾黨啟動全台宣講，號召支持者站出來控訴司法不公。不過，TPOC台灣議題研究中心今（18日）公布柯文哲確定.', 'link': 'https://tw.news.yahoo.com/%25E8%2581%25B2%25E6%258F%25B4%25E6%259F%25AF%25E6%2596%2587%25E5%2593%25B2-%25E6%25B0%2591%25E7%259C%25BE%25E9%25BB%25A8%25E7%258B%2582%25E8%25BE%25A6%25E5%2585%25A8%25E5%259C%258B%25E5%25AE%25A3%25E8%25AC%259B-%25E6%259C%2580%25E6%2596%25B0%25E6%2595%25B8%25E6%2593%259A%25E6%259B%259D-%25E7%25B6%25B2%25E8%25B7%25AF%25E8%2581%25B2%25E9%2587%258F%25E6%258C%2581%25E7%25BA%258C%25E4%25B8%258B%25E8%25B7%258C-080007883.html&ved=2ahUKEwiBy6iPkMyIAxXxZvUHHdieCNkQxfQBegQIBhAC&usg=AOvVaw0VqNN1VHZW4Ft5RztI7fux', 'img': 'data:image/gif;base64,R0lGODlhAQABAIAAAP///////yH5BAEKAAEALAAAAAABAAEAAAICTAEAOw=='}, {'title': '週刊爆柯文哲金流民眾黨嗆：寫故事也要有邏輯| 政治', 'media': 'Newtalk新聞', 'date': '1 小時前', 'datetime': nan, 'desc': '民眾黨主席柯文哲涉京華城弊案遭羈押中，近日不斷有媒體、週刊爆出檢調進度，有週刊今（18日）又爆，追查柯的政治獻金後，發現柯「個人捐款」項目多達14萬6000多筆，...', 'link': 'https://newtalk.tw/news/view/2024-09-18/936810&ved=2ahUKEwiBy6iPkMyIAxXxZvUHHdieCNkQxfQBegQIAhAC&usg=AOvVaw3nGgJEzi0IOp0K2XMi6ivv', 'img': 'data:image/gif;base64,R0lGODlhAQABAIAAAP///////yH5BAEKAAEALAAAAAABAAEAAAICTAEAOw=='}, {'title': '柯文哲 1500 是收以太幣？鬼才阿水上政論節目：價值1.1億元較合理', 'media': '動區動趨', 'date': '1 小時前', 'datetime': nan, 'desc': '幣圈KOL 鬼才阿水週二在三立政論節目上表示，柯文哲USDT 所記載的1500 不太可能是指1500 顆比特幣（29 億新台幣），更有可能是1500 顆以太幣，因為換算價格新台幣1.1 億...', 'link': 'https://www.blocktempo.com/does-ke-wenzhes-1500-refers-to-eth/&ved=2ahUKEwiBy6iPkMyIAxXxZvUHHdieCNkQxfQBegQICBAC&usg=AOvVaw06cowk0IUgwEz-FfGc1cry', 'img': 'data:image/gif;base64,R0lGODlhAQABAIAAAP///////yH5BAEKAAEALAAAAAABAAEAAAICTAEAOw=='}, {'title': '見北檢辦柯文哲案舉動 黃暐瀚點名這4人：為是否涉犯圖利關鍵', 'media': 'NOWnews今日新聞', 'date': '1 小時前', 'datetime': nan, 'desc': '民眾黨主席柯文哲捲入京華城弊案遭收押禁見，北檢近日傳喚前後任都發局長林洲民、黃景茂等人釐清案情。對此，資深媒體人黃暐瀚表示，從北檢的動作來看，「鞏固圖利證據...', 'link': 'https://www.nownews.com/news/6528244&ved=2ahUKEwiBy6iPkMyIAxXxZvUHHdieCNkQxfQBegQIBBAC&usg=AOvVaw1LqpCURlystAmfKQRau_ZP', 'img': 'data:image/gif;base64,R0lGODlhAQABAIAAAP///////yH5BAEKAAEALAAAAAABAAEAAAICTAEAOw=='}, {'title': '今天是專攻柯文哲Day「訊問進入第4小時」！9萬多筆「匿名捐獻金」能說明白？ @newsebc', 'media': 'YouTube', 'date': '1 小時前', 'datetime': nan, 'desc': '今天是專攻柯文哲Day「訊問進入第4小時」！9萬多筆「匿名捐獻金」能說明白？ \\u202a@newsebc\\u202c. 142 views · 3 minutes ago #柯文哲 #USB #隨身碟 ...more...', 'link': 'https://www.youtube.com/watch%3Fv%3D98qdnwkmTck&ved=2ahUKEwiBy6iPkMyIAxXxZvUHHdieCNkQxfQBegQIABAC&usg=AOvVaw3UMLAp5zgPH6b6bxeNe_El', 'img': 'data:image/gif;base64,R0lGODlhAQABAIAAAP///////yH5BAEKAAEALAAAAAABAAEAAAICTAEAOw=='}]\n",
      "<class 'list'>\n"
     ]
    }
   ],
   "source": [
    "# <!-- 讀取 Json檔案 -->\n",
    "\n",
    "# 讀取 JSON 文件\n",
    "with open(filename, 'r', encoding='utf-8') as f:\n",
    "    loaded_result = json.load(f)\n",
    "\n",
    "print(loaded_result)\n",
    "print(type(loaded_result))\n"
   ]
  },
  {
   "cell_type": "markdown",
   "metadata": {},
   "source": [
    "# 停用詞過濾"
   ]
  },
  {
   "cell_type": "code",
   "execution_count": 8,
   "metadata": {},
   "outputs": [
    {
     "name": "stderr",
     "output_type": "stream",
     "text": [
      "Building prefix dict from the default dictionary ...\n",
      "DEBUG:jieba:Building prefix dict from the default dictionary ...\n",
      "Loading model from cache /var/folders/bq/x7m_syf57yz69kw1ysgwhbv40000gp/T/jieba.cache\n",
      "DEBUG:jieba:Loading model from cache /var/folders/bq/x7m_syf57yz69kw1ysgwhbv40000gp/T/jieba.cache\n"
     ]
    },
    {
     "name": "stdout",
     "output_type": "stream",
     "text": [
      "原始標題:\n",
      "柯文哲案最新聲量曝光 TPOC評白營用盡招數聲援：輿情看法恐已定型\n",
      "小草齊聚看守所「陪過中秋」 北檢追金流今再提訊柯文哲\n",
      "民眾黨護航柯文哲！黃智賢轟「史上最無恥政客集團」：黑社會都甘拜下風\n",
      "北檢追柯匿名捐款 蔡正元算出「柯文哲行情價」：反而在表彰他多偉大\n",
      "不信法院信鬼神？陳柏惟揭民眾黨開壇救柯文哲怪招：放生還阿北自由| 政治\n",
      "聲援柯文哲！民眾黨狂辦全國宣講 最新數據曝：網路聲量持續下跌\n",
      "週刊爆柯文哲金流民眾黨嗆：寫故事也要有邏輯| 政治\n",
      "柯文哲 1500 是收以太幣？鬼才阿水上政論節目：價值1.1億元較合理\n",
      "見北檢辦柯文哲案舉動 黃暐瀚點名這4人：為是否涉犯圖利關鍵\n",
      "今天是專攻柯文哲Day「訊問進入第4小時」！9萬多筆「匿名捐獻金」能說明白？ @newsebc\n",
      "斷詞結果:\n"
     ]
    },
    {
     "name": "stderr",
     "output_type": "stream",
     "text": [
      "Loading model cost 0.383 seconds.\n",
      "DEBUG:jieba:Loading model cost 0.383 seconds.\n",
      "Prefix dict has been built successfully.\n",
      "DEBUG:jieba:Prefix dict has been built successfully.\n"
     ]
    },
    {
     "name": "stdout",
     "output_type": "stream",
     "text": [
      "['柯文', '哲案', '最新', '聲量', '曝光', ' ', 'TPOC', '評白營', '用', '盡', '招數', '聲援', '：', '輿情', '看法', '恐已', '定型', '\\n', '小草', '齊聚', '看守所', '「', '陪過', '中秋', '」', ' ', '北檢', '追金流', '今', '再', '提訊', '柯文', '哲', '\\n', '民眾', '黨護航', '柯文', '哲', '！', '黃', '智賢', '轟', '「', '史上', '最無恥', '政客', '集團', '」', '：', '黑社會', '都', '甘拜', '下風', '\\n', '北檢', '追柯', '匿名', '捐款', ' ', '蔡正元算出', '「', '柯文', '哲', '行情', '價', '」', '：', '反而', '在', '表彰', '他', '多偉大', '\\n', '不', '信', '法院', '信', '鬼神', '？', '陳', '柏惟', '揭民眾', '黨', '開壇', '救', '柯文', '哲', '怪招', '：', '放生', '還阿北', '自由', '|', ' ', '政治', '\\n', '聲援', '柯文', '哲', '！', '民眾', '黨', '狂辦', '全國', '宣講', ' ', '最新', '數據', '曝', '：', '網路', '聲量', '持續', '下跌', '\\n', '週刊', '爆', '柯文', '哲金', '流民', '眾黨', '嗆', '：', '寫', '故事', '也', '要', '有', '邏輯', '|', ' ', '政治', '\\n', '柯文', '哲', ' ', '1500', ' ', '是', '收', '以太', '幣', '？', '鬼才', '阿', '水上', '政論', '節目', '：', '價值', '1.1', '億元', '較', '合理', '\\n', '見北', '檢辦', '柯文', '哲案', '舉動', ' ', '黃', '暐', '瀚', '點名', '這', '4', '人', '：', '為', '是否', '涉犯', '圖利', '關鍵', '\\n', '今天', '是', '專攻', '柯文', '哲', 'Day', '「', '訊', '問進入', '第', '4', '小時', '」', '！', '9', '萬多筆', '「', '匿名', '捐獻金', '」', '能', '說', '明白', '？', ' ', '@', 'newsebc']\n",
      "------------------------------------------------------------------------------------------------------------------------\n",
      "加入停用詞: \n",
      "柯文哲案最新聲量曝光評白營用盡招數聲援輿情看法恐已定型小草齊聚看守所陪過中秋北檢追金流今再提訊柯文哲民眾黨護航柯文哲黃智賢轟史上最無恥政客集團黑社會都甘拜下風北檢追柯匿名捐款蔡正元算出柯文哲行情價反而表彰多偉大不信法院信鬼神陳柏惟揭民眾黨開壇救柯文哲怪招放生還阿北自由政治聲援柯文哲民眾黨狂辦全國宣講最新數據曝網路聲量持續下跌週刊爆柯文哲金流民眾黨嗆寫故事要邏輯政治柯文哲1500收以太幣鬼才阿水上政論節目價值1.1億元較合理見北檢辦柯文哲案舉動黃暐瀚點名人為是否涉犯圖利關鍵今天專攻柯文哲訊問進入第小時萬多筆匿名捐獻金能說明白@\n",
      "------------------------------------------------------------------------------------------------------------------------\n"
     ]
    }
   ],
   "source": [
    "import re\n",
    "\n",
    "# 讀取停用詞\n",
    "with open(r'./stopword.txt', 'r', encoding='utf-8') as file:\n",
    "    stopword = file.read().splitlines() # BIF splitlines\n",
    "    # print(stopword)\n",
    "\n",
    "# 加入 \\n 換行方便閱讀\n",
    "all_titles = \"\\n\".join([item['title'] for item in result])\n",
    "print(\"原始標題:\")\n",
    "print(all_titles)\n",
    "# print(type(all_titles))\n",
    "# print(\"--\"*60)\n",
    "# seg_list = jieba.cut(all_titles)\n",
    "# print(type(seg_list))\n",
    "print(\"斷詞結果:\")\n",
    "seg_list = jieba.lcut(all_titles)\n",
    "print(seg_list)\n",
    "print(\"--\"*60)\n",
    "\n",
    "# 預編譯正則表達式\n",
    "english_pattern = re.compile(r'^[a-zA-Z]+$')\n",
    "\n",
    "def is_english(text):\n",
    "    return bool(english_pattern.match(text))\n",
    "\n",
    "# 過濾停用詞和空白字符\n",
    "filtered_words = []\n",
    "for word in seg_list:\n",
    "    # 去除詞的前後空白 跟上面產生的 \\n\n",
    "    cleaned_word = word.strip()\n",
    "    # 檢查詞是否為空且不在停用詞列表中\n",
    "    if cleaned_word and cleaned_word not in stopword and not is_english(cleaned_word):\n",
    "        filtered_words.append(cleaned_word)\n",
    "print('加入停用詞: ')\n",
    "print(\"\".join(filtered_words))\n",
    "print(\"--\"*60)"
   ]
  },
  {
   "cell_type": "markdown",
   "metadata": {},
   "source": [
    "\n",
    "   - `^` 表示字符串的開始\n",
    "   - `[a-zA-Z]` 表示任何英文字母（大寫或小寫）\n",
    "   - `+` 表示前面的字符至少出現一次\n",
    "   - `$` 表示字符串的結束\n",
    "   -  `.*`：匹配任意字符（除換行符外）零次或多次"
   ]
  },
  {
   "cell_type": "markdown",
   "metadata": {},
   "source": [
    "# 計算文字出現次數"
   ]
  },
  {
   "cell_type": "code",
   "execution_count": 9,
   "metadata": {},
   "outputs": [
    {
     "name": "stdout",
     "output_type": "stream",
     "text": [
      "Counter({'柯文': 10, '哲': 7, '哲案': 2, '最新': 2, '聲量': 2, '聲援': 2, '北檢': 2, '民眾': 2, '黃': 2, '匿名': 2, '信': 2, '黨': 2, '政治': 2, '曝光': 1, '評白營': 1, '用': 1, '盡': 1, '招數': 1, '輿情': 1, '看法': 1, '恐已': 1, '定型': 1, '小草': 1, '齊聚': 1, '看守所': 1, '陪過': 1, '中秋': 1, '追金流': 1, '今': 1, '再': 1, '提訊': 1, '黨護航': 1, '智賢': 1, '轟': 1, '史上': 1, '最無恥': 1, '政客': 1, '集團': 1, '黑社會': 1, '都': 1, '甘拜': 1, '下風': 1, '追柯': 1, '捐款': 1, '蔡正元算出': 1, '行情': 1, '價': 1, '反而': 1, '表彰': 1, '多偉大': 1, '不': 1, '法院': 1, '鬼神': 1, '陳': 1, '柏惟': 1, '揭民眾': 1, '開壇': 1, '救': 1, '怪招': 1, '放生': 1, '還阿北': 1, '自由': 1, '狂辦': 1, '全國': 1, '宣講': 1, '數據': 1, '曝': 1, '網路': 1, '持續': 1, '下跌': 1, '週刊': 1, '爆': 1, '哲金': 1, '流民': 1, '眾黨': 1, '嗆': 1, '寫': 1, '故事': 1, '要': 1, '邏輯': 1, '1500': 1, '收': 1, '以太': 1, '幣': 1, '鬼才': 1, '阿': 1, '水上': 1, '政論': 1, '節目': 1, '價值': 1, '1.1': 1, '億元': 1, '較': 1, '合理': 1, '見北': 1, '檢辦': 1, '舉動': 1, '暐': 1, '瀚': 1, '點名': 1, '人': 1, '為': 1, '是否': 1, '涉犯': 1, '圖利': 1, '關鍵': 1, '今天': 1, '專攻': 1, '訊': 1, '問進入': 1, '第': 1, '小時': 1, '萬多筆': 1, '捐獻金': 1, '能': 1, '說': 1, '明白': 1, '@': 1})\n",
      "<class 'collections.Counter'>\n",
      "['__add__', '__and__', '__class__', '__class_getitem__', '__contains__', '__delattr__', '__delitem__', '__dict__', '__dir__', '__doc__', '__eq__', '__format__', '__ge__', '__getattribute__', '__getitem__', '__getstate__', '__gt__', '__hash__', '__iadd__', '__iand__', '__init__', '__init_subclass__', '__ior__', '__isub__', '__iter__', '__le__', '__len__', '__lt__', '__missing__', '__module__', '__ne__', '__neg__', '__new__', '__or__', '__pos__', '__reduce__', '__reduce_ex__', '__repr__', '__reversed__', '__ror__', '__setattr__', '__setitem__', '__sizeof__', '__str__', '__sub__', '__subclasshook__', '__weakref__', '_keep_positive', 'clear', 'copy', 'elements', 'fromkeys', 'get', 'items', 'keys', 'most_common', 'pop', 'popitem', 'setdefault', 'subtract', 'total', 'update', 'values']\n",
      "------------------------------------------------------------------------------------------------------------------------\n",
      "word_count.items():\n",
      "dict_items([('柯文', 10), ('哲案', 2), ('最新', 2), ('聲量', 2), ('曝光', 1), ('評白營', 1), ('用', 1), ('盡', 1), ('招數', 1), ('聲援', 2), ('輿情', 1), ('看法', 1), ('恐已', 1), ('定型', 1), ('小草', 1), ('齊聚', 1), ('看守所', 1), ('陪過', 1), ('中秋', 1), ('北檢', 2), ('追金流', 1), ('今', 1), ('再', 1), ('提訊', 1), ('哲', 7), ('民眾', 2), ('黨護航', 1), ('黃', 2), ('智賢', 1), ('轟', 1), ('史上', 1), ('最無恥', 1), ('政客', 1), ('集團', 1), ('黑社會', 1), ('都', 1), ('甘拜', 1), ('下風', 1), ('追柯', 1), ('匿名', 2), ('捐款', 1), ('蔡正元算出', 1), ('行情', 1), ('價', 1), ('反而', 1), ('表彰', 1), ('多偉大', 1), ('不', 1), ('信', 2), ('法院', 1), ('鬼神', 1), ('陳', 1), ('柏惟', 1), ('揭民眾', 1), ('黨', 2), ('開壇', 1), ('救', 1), ('怪招', 1), ('放生', 1), ('還阿北', 1), ('自由', 1), ('政治', 2), ('狂辦', 1), ('全國', 1), ('宣講', 1), ('數據', 1), ('曝', 1), ('網路', 1), ('持續', 1), ('下跌', 1), ('週刊', 1), ('爆', 1), ('哲金', 1), ('流民', 1), ('眾黨', 1), ('嗆', 1), ('寫', 1), ('故事', 1), ('要', 1), ('邏輯', 1), ('1500', 1), ('收', 1), ('以太', 1), ('幣', 1), ('鬼才', 1), ('阿', 1), ('水上', 1), ('政論', 1), ('節目', 1), ('價值', 1), ('1.1', 1), ('億元', 1), ('較', 1), ('合理', 1), ('見北', 1), ('檢辦', 1), ('舉動', 1), ('暐', 1), ('瀚', 1), ('點名', 1), ('人', 1), ('為', 1), ('是否', 1), ('涉犯', 1), ('圖利', 1), ('關鍵', 1), ('今天', 1), ('專攻', 1), ('訊', 1), ('問進入', 1), ('第', 1), ('小時', 1), ('萬多筆', 1), ('捐獻金', 1), ('能', 1), ('說', 1), ('明白', 1), ('@', 1)])\n",
      "<class 'dict_items'>\n",
      "------------------------------------------------------------------------------------------------------------------------\n",
      "word_count_dict:\n",
      "OrderedDict({'柯文': 10, '哲': 7, '哲案': 2, '最新': 2, '聲量': 2, '聲援': 2, '北檢': 2, '民眾': 2, '黃': 2, '匿名': 2, '信': 2, '黨': 2, '政治': 2, '曝光': 1, '評白營': 1, '用': 1, '盡': 1, '招數': 1, '輿情': 1, '看法': 1, '恐已': 1, '定型': 1, '小草': 1, '齊聚': 1, '看守所': 1, '陪過': 1, '中秋': 1, '追金流': 1, '今': 1, '再': 1, '提訊': 1, '黨護航': 1, '智賢': 1, '轟': 1, '史上': 1, '最無恥': 1, '政客': 1, '集團': 1, '黑社會': 1, '都': 1, '甘拜': 1, '下風': 1, '追柯': 1, '捐款': 1, '蔡正元算出': 1, '行情': 1, '價': 1, '反而': 1, '表彰': 1, '多偉大': 1, '不': 1, '法院': 1, '鬼神': 1, '陳': 1, '柏惟': 1, '揭民眾': 1, '開壇': 1, '救': 1, '怪招': 1, '放生': 1, '還阿北': 1, '自由': 1, '狂辦': 1, '全國': 1, '宣講': 1, '數據': 1, '曝': 1, '網路': 1, '持續': 1, '下跌': 1, '週刊': 1, '爆': 1, '哲金': 1, '流民': 1, '眾黨': 1, '嗆': 1, '寫': 1, '故事': 1, '要': 1, '邏輯': 1, '1500': 1, '收': 1, '以太': 1, '幣': 1, '鬼才': 1, '阿': 1, '水上': 1, '政論': 1, '節目': 1, '價值': 1, '1.1': 1, '億元': 1, '較': 1, '合理': 1, '見北': 1, '檢辦': 1, '舉動': 1, '暐': 1, '瀚': 1, '點名': 1, '人': 1, '為': 1, '是否': 1, '涉犯': 1, '圖利': 1, '關鍵': 1, '今天': 1, '專攻': 1, '訊': 1, '問進入': 1, '第': 1, '小時': 1, '萬多筆': 1, '捐獻金': 1, '能': 1, '說': 1, '明白': 1, '@': 1})\n",
      "<class 'collections.OrderedDict'>\n",
      "------------------------------------------------------------------------------------------------------------------------\n"
     ]
    }
   ],
   "source": [
    "# 使用 BIF Counter 計算詞頻\n",
    "word_count = Counter(filtered_words)\n",
    "print(word_count)\n",
    "print(type(word_count))\n",
    "print(dir(word_count))\n",
    "\n",
    "print(\"--\"*60)\n",
    "\n",
    "print(\"word_count.items():\")\n",
    "print(word_count.items())\n",
    "print(type(word_count.items()))\n",
    "\n",
    "print(\"--\"*60)\n",
    "\n",
    "# 將 word_count 轉換為 dict\n",
    "word_count_dict = dict(word_count)\n",
    "\n",
    "# 欸？ counter 轉 dict 後，key 的順序改變了\n",
    "from collections import OrderedDict\n",
    "word_count_dict = OrderedDict(word_count.most_common())\n",
    "\n",
    "print(\"word_count_dict:\")\n",
    "print(word_count_dict)\n",
    "print(type(word_count_dict))\n",
    "\n",
    "print(\"--\"*60)\n",
    "\n",
    " "
   ]
  },
  {
   "cell_type": "markdown",
   "metadata": {},
   "source": [
    "# 從字典取出資料"
   ]
  },
  {
   "cell_type": "markdown",
   "metadata": {},
   "source": [
    "字典可以使用的方法\n",
    "['clear', 'copy', 'fromkeys', 'get', 'items', 'keys', \n",
    "\n",
    "'pop', 'popitem', 'setdefault', 'update', 'values']\n"
   ]
  },
  {
   "cell_type": "code",
   "execution_count": 10,
   "metadata": {},
   "outputs": [
    {
     "name": "stdout",
     "output_type": "stream",
     "text": [
      "------------------------------------------------------------------------------------------------------------------------\n",
      "柯文 10\n",
      "哲 7\n",
      "哲案 2\n",
      "最新 2\n",
      "聲量 2\n",
      "聲援 2\n",
      "北檢 2\n",
      "民眾 2\n",
      "黃 2\n",
      "匿名 2\n",
      "信 2\n",
      "黨 2\n",
      "政治 2\n",
      "曝光 1\n",
      "評白營 1\n",
      "用 1\n",
      "盡 1\n",
      "招數 1\n",
      "輿情 1\n",
      "看法 1\n",
      "恐已 1\n",
      "定型 1\n",
      "小草 1\n",
      "齊聚 1\n",
      "看守所 1\n",
      "陪過 1\n",
      "中秋 1\n",
      "追金流 1\n",
      "今 1\n",
      "再 1\n",
      "提訊 1\n",
      "黨護航 1\n",
      "智賢 1\n",
      "轟 1\n",
      "史上 1\n",
      "最無恥 1\n",
      "政客 1\n",
      "集團 1\n",
      "黑社會 1\n",
      "都 1\n",
      "甘拜 1\n",
      "下風 1\n",
      "追柯 1\n",
      "捐款 1\n",
      "蔡正元算出 1\n",
      "行情 1\n",
      "價 1\n",
      "反而 1\n",
      "表彰 1\n",
      "多偉大 1\n",
      "不 1\n",
      "法院 1\n",
      "鬼神 1\n",
      "陳 1\n",
      "柏惟 1\n",
      "揭民眾 1\n",
      "開壇 1\n",
      "救 1\n",
      "怪招 1\n",
      "放生 1\n",
      "還阿北 1\n",
      "自由 1\n",
      "狂辦 1\n",
      "全國 1\n",
      "宣講 1\n",
      "數據 1\n",
      "曝 1\n",
      "網路 1\n",
      "持續 1\n",
      "下跌 1\n",
      "週刊 1\n",
      "爆 1\n",
      "哲金 1\n",
      "流民 1\n",
      "眾黨 1\n",
      "嗆 1\n",
      "寫 1\n",
      "故事 1\n",
      "要 1\n",
      "邏輯 1\n",
      "1500 1\n",
      "收 1\n",
      "以太 1\n",
      "幣 1\n",
      "鬼才 1\n",
      "阿 1\n",
      "水上 1\n",
      "政論 1\n",
      "節目 1\n",
      "價值 1\n",
      "1.1 1\n",
      "億元 1\n",
      "較 1\n",
      "合理 1\n",
      "見北 1\n",
      "檢辦 1\n",
      "舉動 1\n",
      "暐 1\n",
      "瀚 1\n",
      "點名 1\n",
      "人 1\n",
      "為 1\n",
      "是否 1\n",
      "涉犯 1\n",
      "圖利 1\n",
      "關鍵 1\n",
      "今天 1\n",
      "專攻 1\n",
      "訊 1\n",
      "問進入 1\n",
      "第 1\n",
      "小時 1\n",
      "萬多筆 1\n",
      "捐獻金 1\n",
      "能 1\n",
      "說 1\n",
      "明白 1\n",
      "@ 1\n",
      "['柯文', '哲', '哲案', '最新', '聲量', '聲援', '北檢', '民眾', '黃', '匿名', '信', '黨', '政治', '曝光', '評白營', '用', '盡', '招數', '輿情', '看法', '恐已', '定型', '小草', '齊聚', '看守所', '陪過', '中秋', '追金流', '今', '再', '提訊', '黨護航', '智賢', '轟', '史上', '最無恥', '政客', '集團', '黑社會', '都', '甘拜', '下風', '追柯', '捐款', '蔡正元算出', '行情', '價', '反而', '表彰', '多偉大', '不', '法院', '鬼神', '陳', '柏惟', '揭民眾', '開壇', '救', '怪招', '放生', '還阿北', '自由', '狂辦', '全國', '宣講', '數據', '曝', '網路', '持續', '下跌', '週刊', '爆', '哲金', '流民', '眾黨', '嗆', '寫', '故事', '要', '邏輯', '1500', '收', '以太', '幣', '鬼才', '阿', '水上', '政論', '節目', '價值', '1.1', '億元', '較', '合理', '見北', '檢辦', '舉動', '暐', '瀚', '點名', '人', '為', '是否', '涉犯', '圖利', '關鍵', '今天', '專攻', '訊', '問進入', '第', '小時', '萬多筆', '捐獻金', '能', '說', '明白', '@']\n",
      "[10, 7, 2, 2, 2, 2, 2, 2, 2, 2, 2, 2, 2, 1, 1, 1, 1, 1, 1, 1, 1, 1, 1, 1, 1, 1, 1, 1, 1, 1, 1, 1, 1, 1, 1, 1, 1, 1, 1, 1, 1, 1, 1, 1, 1, 1, 1, 1, 1, 1, 1, 1, 1, 1, 1, 1, 1, 1, 1, 1, 1, 1, 1, 1, 1, 1, 1, 1, 1, 1, 1, 1, 1, 1, 1, 1, 1, 1, 1, 1, 1, 1, 1, 1, 1, 1, 1, 1, 1, 1, 1, 1, 1, 1, 1, 1, 1, 1, 1, 1, 1, 1, 1, 1, 1, 1, 1, 1, 1, 1, 1, 1, 1, 1, 1, 1, 1, 1]\n",
      "------------------------------------------------------------------------------------------------------------------------\n"
     ]
    }
   ],
   "source": [
    "# print(dir(word_count_dict))\n",
    "# print(word_count_dict.items())\n",
    "# print(type(word_count_dict.items()))\n",
    "# print(word_count_dict.keys())\n",
    "# words = list(word_count_dict.keys())\n",
    "# counts = list(word_count_dict.values())\n",
    "\n",
    "# items ===> 同時取出 key 和 value 就可以直接加入 dataframe\n",
    "\n",
    "words = []\n",
    "counts = []\n",
    "\n",
    "print(\"--\"*60)\n",
    "\n",
    "for key in word_count_dict:\n",
    "    print(key, word_count_dict[key])\n",
    "    words.append(key)\n",
    "    counts.append(word_count_dict[key])\n",
    "\n",
    "# words = [key for key in word_count_dict]\n",
    "# counts = [word_count_dict[key] for key in word_count_dict]\n",
    "\n",
    "print(words)\n",
    "print(counts)\n",
    "\n",
    "print(\"--\"*60)"
   ]
  },
  {
   "cell_type": "markdown",
   "metadata": {},
   "source": [
    "# 使用 Pandas 排序呈現資料"
   ]
  },
  {
   "cell_type": "markdown",
   "metadata": {},
   "source": [
    "練習用 Series 方式加入\n"
   ]
  },
  {
   "cell_type": "code",
   "execution_count": 11,
   "metadata": {},
   "outputs": [
    {
     "name": "stdout",
     "output_type": "stream",
     "text": [
      "<class 'pandas.core.series.Series'>\n",
      "Index: 118 entries, 柯文 to @\n",
      "Series name: 一維陣列詞頻Series\n",
      "Non-Null Count  Dtype\n",
      "--------------  -----\n",
      "118 non-null    int64\n",
      "dtypes: int64(1)\n",
      "memory usage: 1.8+ KB\n",
      "None\n",
      "<bound method NDFrame.head of 柯文     10\n",
      "哲       7\n",
      "哲案      2\n",
      "最新      2\n",
      "聲量      2\n",
      "       ..\n",
      "捐獻金     1\n",
      "能       1\n",
      "說       1\n",
      "明白      1\n",
      "@       1\n",
      "Name: 一維陣列詞頻Series, Length: 118, dtype: int64>\n",
      "------------------------------------------------------------------------------------------------------------------------\n"
     ]
    }
   ],
   "source": [
    "# 創建一個 pandas Series，使用單字作為索引，詞頻作為值\n",
    "word_count_series = pd.Series(data=counts, index=words, name='一維陣列詞頻Series')\n",
    "print(word_count_series.info())\n",
    "print(word_count_series.head)\n",
    "print(\"--\"*60)"
   ]
  },
  {
   "cell_type": "code",
   "execution_count": 12,
   "metadata": {},
   "outputs": [
    {
     "name": "stdout",
     "output_type": "stream",
     "text": [
      "<class 'pandas.core.series.Series'>\n",
      "RangeIndex: 118 entries, 0 to 117\n",
      "Series name: 一維陣列文字Series\n",
      "Non-Null Count  Dtype \n",
      "--------------  ----- \n",
      "118 non-null    object\n",
      "dtypes: object(1)\n",
      "memory usage: 1.1+ KB\n",
      "None\n",
      "------------------------------------------------------------------------------------------------------------------------\n",
      "<bound method NDFrame.head of 0       柯文\n",
      "1        哲\n",
      "2       哲案\n",
      "3       最新\n",
      "4       聲量\n",
      "      ... \n",
      "113    捐獻金\n",
      "114      能\n",
      "115      說\n",
      "116     明白\n",
      "117      @\n",
      "Name: 一維陣列文字Series, Length: 118, dtype: object>\n"
     ]
    }
   ],
   "source": [
    "word_text_series = pd.Series(data=words, name='一維陣列文字Series')\n",
    "print(word_text_series.info())\n",
    "\n",
    "print(\"--\"*60)\n",
    "print(word_text_series.head)"
   ]
  },
  {
   "cell_type": "code",
   "execution_count": 13,
   "metadata": {},
   "outputs": [
    {
     "name": "stdout",
     "output_type": "stream",
     "text": [
      "<class 'pandas.core.frame.DataFrame'>\n",
      "RangeIndex: 118 entries, 0 to 117\n",
      "Data columns (total 2 columns):\n",
      " #   Column  Non-Null Count  Dtype \n",
      "---  ------  --------------  ----- \n",
      " 0   word    118 non-null    object\n",
      " 1   count   118 non-null    int64 \n",
      "dtypes: int64(1), object(1)\n",
      "memory usage: 2.0+ KB\n",
      "None\n",
      "<bound method NDFrame.head of     word  count\n",
      "0     柯文     10\n",
      "1      哲      7\n",
      "2     哲案      2\n",
      "3     最新      2\n",
      "4     聲量      2\n",
      "..   ...    ...\n",
      "113  捐獻金      1\n",
      "114    能      1\n",
      "115    說      1\n",
      "116   明白      1\n",
      "117    @      1\n",
      "\n",
      "[118 rows x 2 columns]>\n"
     ]
    }
   ],
   "source": [
    "# 將單一 Series 轉換為 DataFrame\n",
    "df = word_count_series.reset_index()\n",
    "df.columns = ['word', 'count']  # 重命名列\n",
    "print(df.info())\n",
    "print(df.head)\n"
   ]
  },
  {
   "cell_type": "code",
   "execution_count": 14,
   "metadata": {},
   "outputs": [
    {
     "name": "stdout",
     "output_type": "stream",
     "text": [
      "<class 'pandas.core.frame.DataFrame'>\n",
      "RangeIndex: 118 entries, 0 to 117\n",
      "Data columns (total 2 columns):\n",
      " #   Column  Non-Null Count  Dtype \n",
      "---  ------  --------------  ----- \n",
      " 0   word    118 non-null    object\n",
      " 1   count   118 non-null    int64 \n",
      "dtypes: int64(1), object(1)\n",
      "memory usage: 2.0+ KB\n",
      "None\n",
      "\n",
      "DataFrame 預覽：\n",
      "  word  count\n",
      "0   柯文     10\n",
      "1    哲      7\n",
      "2   哲案      2\n",
      "3   最新      2\n",
      "4   聲量      2\n"
     ]
    }
   ],
   "source": [
    "# 將多個 Series 轉換為 DataFrame\n",
    "\n",
    "# 重置兩個 Series 的索引\n",
    "word_text_series = word_text_series.reset_index(drop=True)\n",
    "word_count_series = word_count_series.reset_index(drop=True)\n",
    "\n",
    "# 使用 concat 創建 DataFrame\n",
    "df = pd.concat([word_text_series, word_count_series], axis=1)\n",
    "\n",
    "# 重命名列\n",
    "df.columns = ['word', 'count']\n",
    "\n",
    "# 移除任何包含 NaN 的行\n",
    "df = df.dropna()\n",
    "\n",
    "# 顯示 DataFrame 的資訊\n",
    "print(df.info())\n",
    "\n",
    "# 顯示 DataFrame 的前幾行\n",
    "print(\"\\nDataFrame 預覽：\")\n",
    "print(df.head())\n",
    "\n",
    "# # 如果需要，可以按計數降序排序\n",
    "# df_sorted = df.sort_values('count', ascending=False).reset_index(drop=True)\n",
    "\n",
    "# # 顯示排序後的 DataFrame 前幾行\n",
    "# print(\"\\n排序後：\")\n",
    "# print(df_sorted.head())\n",
    "\n"
   ]
  },
  {
   "cell_type": "code",
   "execution_count": 15,
   "metadata": {},
   "outputs": [
    {
     "name": "stdout",
     "output_type": "stream",
     "text": [
      "df2:\n",
      "    word  count\n",
      "0     柯文     10\n",
      "1      哲      7\n",
      "2     哲案      2\n",
      "3     最新      2\n",
      "4     聲量      2\n",
      "..   ...    ...\n",
      "113  捐獻金      1\n",
      "114    能      1\n",
      "115    說      1\n",
      "116   明白      1\n",
      "117    @      1\n",
      "\n",
      "[118 rows x 2 columns]\n",
      "------------------------------------------------------------------------------------------------------------------------\n",
      "\n",
      "df_sorted 資料結構:\n",
      "<class 'pandas.core.frame.DataFrame'>\n",
      "RangeIndex: 118 entries, 0 to 117\n",
      "Data columns (total 2 columns):\n",
      " #   Column  Non-Null Count  Dtype \n",
      "---  ------  --------------  ----- \n",
      " 0   word    118 non-null    object\n",
      " 1   count   118 non-null    int64 \n",
      "dtypes: int64(1), object(1)\n",
      "memory usage: 2.0+ KB\n",
      "None\n",
      "\n",
      "df_sorted:\n",
      "<bound method NDFrame.head of     word  count\n",
      "0     柯文     10\n",
      "1      哲      7\n",
      "2     民眾      2\n",
      "3      黨      2\n",
      "4      信      2\n",
      "..   ...    ...\n",
      "113   捐款      1\n",
      "114   追柯      1\n",
      "115   下風      1\n",
      "116   甘拜      1\n",
      "117    @      1\n",
      "\n",
      "[118 rows x 2 columns]>\n",
      "\n",
      "df_sorted 索引:\n",
      "RangeIndex(start=0, stop=118, step=1)\n"
     ]
    }
   ],
   "source": [
    "# 將字典轉換為 DataFrame\n",
    "df2 = pd.DataFrame(list(word_count_dict.items()), columns=['word', 'count'])\n",
    "\n",
    "\n",
    "# df_sorted_org = df.sort_values(by='count', ascending=False)\n",
    "df_sorted = df2.sort_values(by='count', ascending=False).reset_index(drop=True)\n",
    "\n",
    "print(\"df2:\")\n",
    "print(df2)\n",
    "print(\"--\"*60)\n",
    "print(\"\\ndf_sorted 資料結構:\")\n",
    "print(df_sorted.info())\n",
    "print(\"\\ndf_sorted:\")\n",
    "print(df_sorted.head)\n",
    "print(\"\\ndf_sorted 索引:\")\n",
    "print(df_sorted.index)\n"
   ]
  },
  {
   "cell_type": "markdown",
   "metadata": {},
   "source": [
    "# 製作文字雲圖片遮罩"
   ]
  },
  {
   "cell_type": "code",
   "execution_count": 16,
   "metadata": {},
   "outputs": [
    {
     "name": "stdout",
     "output_type": "stream",
     "text": [
      "/Users/larry/Github/Python-WordCloud/TaipeiSansTCBeta-Bold.ttf\n",
      "Type of mask_color: <class 'numpy.ndarray'>\n",
      "Shape of mask_color: (540, 960)\n",
      "Data type of mask_color: uint8\n"
     ]
    },
    {
     "data": {
      "image/png": "[encoded data removed]",
      "text/plain": [
       "<Figure size 1000x500 with 2 Axes>"
      ]
     },
     "metadata": {},
     "output_type": "display_data"
    },
    {
     "name": "stdout",
     "output_type": "stream",
     "text": [
      "原始x色像素數量：198232，總像素數：518400（佔比：38.24%）\n",
      "處理後x色像素數量：445317，總像素數：518400（佔比：85.90%）\n"
     ]
    }
   ],
   "source": [
    "# 選擇黑色遮罩圖案練習處理圖片\n",
    "# 正常圖片張照把那些註解區域替換即可\n",
    "\n",
    "# from PIL import ImageOps # 反轉黑白\n",
    "# ImageOps.invert()\n",
    "\n",
    "# 詢問使用者字體檔案路徑\n",
    "# font_path_input = input(\"請輸入中文字體的檔案路徑: \")\n",
    "font_path_input = \"/Users/larry/Github/Python-WordCloud/TaipeiSansTCBeta-Bold.ttf\"\n",
    "print(font_path_input)\n",
    "# 文字雲圖片遮罩檔案路徑\n",
    "img_path = \"./Mask_Image/LeafDrak_mask.png\"\n",
    "\n",
    "# 讀取遮罩圖片，轉換為 RGB，調整大小，然後轉換為 numpy 陣列\n",
    "# mask_color = np.array(Image.open(img_path).convert(\"RGB\").resize((960, 540)))\n",
    "\n",
    "# 轉灰階\n",
    "mask_color = np.array((Image.open(img_path).convert(\"L\")).resize((960, 540)))\n",
    "# 查看 mask_color 的類型和屬性\n",
    "print(\"Type of mask_color:\", type(mask_color))\n",
    "print(\"Shape of mask_color:\", mask_color.shape)\n",
    "print(\"Data type of mask_color:\", mask_color.dtype)\n",
    "# print(\"Attributes and methods of array:\", dir(mask_color))\n",
    "total_pixels = mask_color.size\n",
    "# org_filtered_pixels = np.sum(np.all(mask_image == 255, axis=2))\n",
    "org_pixels = np.sum(mask_color == 255)\n",
    "\n",
    "# 高精度尺寸圖適用\n",
    "# # 每隔 n 個像素取一個像素\n",
    "# mask_color = mask_color[::2, ::2]\n",
    "\n",
    "# 二維陣列，因為模式 L\n",
    "# 簡單的縮小（每隔一個像素取樣）\n",
    "mask_color_small = mask_color[::4, ::4]\n",
    "# 簡單的放大（重複像素）\n",
    "mask_color_large = np.repeat(np.repeat(mask_color_small, 2, axis=0), 2, axis=1)\n",
    "\n",
    "# 進行二次處理，保留灰階\n",
    "mask_image = mask_color.copy()\n",
    "# 不使用模組，numpy 反轉處理方式\n",
    "# mask_image = 255 - mask_color\n",
    "# 去噪應用\n",
    "threshold = 15# 根據圖片調整閾值\n",
    "# mask_image[np.all(mask_image < threshold, axis=2)] = 255\n",
    "mask_image[mask_image > threshold] = 255\n",
    "# 只要是（偏）()色區域，都設為()色\n",
    "\n",
    "\n",
    "# 邊緣檢測 (進階用法，此部分為當初課堂老師提供)\n",
    "# 我的理解：將三個顏色通道做了某個處理，然後將三個通道的結果累加，最後除以 3 得到平均值\n",
    "# edges = np.mean([gaussian_gradient_magnitude(mask_color[:, :, i] / 255., 2) for i in range(3)], axis=0)\n",
    "\n",
    "# (請 AI 不用串列生成式語法糖的方式替換後的版本)\n",
    "# # 邊緣檢測\n",
    "# edges = np.zeros_like(mask_color[:,:,0], dtype=np.float64)  # 創建一個與遮罩圖片同大小的零矩陣\n",
    "\n",
    "# for i in range(3):  # 遍歷RGB三個通道\n",
    "#     # 對每個通道應用高斯梯度幅值\n",
    "#     # 255.0 用於將像素值歸一化到 0-1 範圍\n",
    "#     # 2 是高斯核的標準差，控制邊緣檢測的敏感度\n",
    "#     gradient = gaussian_gradient_magnitude(mask_color[:,:,i] / 255.0, sigma=2)\n",
    "#     edges += gradient  # 累加每個通道的梯度\n",
    "\n",
    "# edges /= 3  # 取三個通道的平均值\n",
    "\n",
    "# 將高於閾值的邊緣像素設為白色\n",
    "# mask_image[edges > 0.95] = 255\n",
    "\n",
    "\n",
    "fig, (ax1, ax2) = plt.subplots(1, 2, figsize=(10, 5))\n",
    "# 顯示原始遮罩圖片\n",
    "ax1.imshow(mask_color, cmap='gray')\n",
    "ax1.set_title(\"Original Mask\")\n",
    "ax1.axis('off')\n",
    "\n",
    "# 顯示處理後的遮罩圖片\n",
    "ax2.imshow(mask_image, cmap='gray')\n",
    "ax2.set_title(\"Processed Mask\")\n",
    "ax2.axis('off')\n",
    "\n",
    "plt.tight_layout()\n",
    "plt.show()\n",
    "\n",
    "\n",
    "\n",
    "# filtered_pixels = np.sum(np.all(mask_image == 255, axis=2))\n",
    "filtered_pixels = np.sum(mask_image == 255)\n",
    "# total_pixels = mask_image.shape[0] * mask_image.shape[1]\n",
    "\n",
    "\n",
    "print(f\"原始x色像素數量：{org_pixels}，總像素數：{total_pixels}（佔比：{org_pixels/total_pixels*100:.2f}%）\")\n",
    "print(f\"處理後x色像素數量：{filtered_pixels}，總像素數：{total_pixels}（佔比：{filtered_pixels/total_pixels*100:.2f}%）\")\n",
    "\n",
    "# 將高於閾值的邊緣像素設為白色\n",
    "\n",
    "# 顏色生成\n",
    "# image_colors = ImageColorGenerator(mask_image)\n",
    "# image_colors.default_color = [0.9,0.9,0.9]\n"
   ]
  },
  {
   "cell_type": "markdown",
   "metadata": {},
   "source": [
    "\"\"\"\n",
    "\n",
    "AI 回覆的內容，關於邊緣檢測：\n",
    "\n",
    "這個版本的代碼做了以下事情：\n",
    "\n",
    "1. 創建一個與單個顏色通道相同大小的零矩陣。\n",
    "2. 遍歷三個顏色通道（RGB）。\n",
    "3. 對每個通道計算高斯梯度幅值。\n",
    "4. 將每個通道的梯度累加到 `edges` 矩陣中。\n",
    "5. 最後，將累加的結果除以 3 來獲得平均值。\n",
    "\n",
    "這個方法實現了與原始代碼相同的功能，但避免了使用列表推導式和 `np.mean` 的 `axis` 參數，可能更容易理解每一步在做什麼。最後，仍然將高於閾值的邊緣像素設為白色，以在遮罩中突出顯示邊緣。\n",
    "\n",
    "\n",
    "- 高斯梯度幅值越低 → 越可能是平滑區域（非邊緣）\n",
    "\n",
    "- 高斯梯度幅值越高 → 越可能是邊緣\n",
    "\n",
    "我：邊緣設為白色不就是不明顯了嗎？\n",
    "\n",
    "您提出了一個很好的觀察。讓我解釋一下這個看似矛盾的做法的原因：\n",
    "\n",
    "1. 在生成詞雲的上下文中，白色（255）通常代表可以放置文字的區域。\n",
    "\n",
    "2. 將邊緣設為白色的目的不是為了在最終的詞雲中使邊緣更明顯，而是為了指導詞雲生成算法在哪裡可以放置文字。\n",
    "\n",
    "3. 通過將邊緣設為白色，我們實際上是告訴詞雲生成器：\"這些是圖像的重要特徵，你可以在這些地方放置文字\"。\n",
    "\n",
    "4. 這樣做的結果是，文字會傾向於沿著原始圖像的輪廓和主要特徵分布，而不是隨機分布或覆蓋重要的視覺元素。\n",
    "\n",
    "5. 在最終的詞雲中，這些邊緣不會直接可見，但它們會影響文字的排列方式，使得詞雲的整體形狀能夠反映原始圖像的輪廓。\n",
    "\n",
    "所以，雖然在遮罩圖像中邊緣被設為白色看起來不明顯，但這實際上是為了在生成詞雲時保留原始圖像的結構和形狀。最終的效果是，生成的詞雲會呈現出原始圖像的大致輪廓，而不是完全忽視圖像的特徵。\n",
    "\n",
    "如果您想要在最終的詞雲中使邊緣更加明顯，可以考慮相反的方法：將邊緣設為黑色或其他深色，這樣詞雲生成器就會避免在這些區域放置文字，從而在視覺上保留原始圖像的輪廓。\n",
    "\n",
    "\"\"\""
   ]
  },
  {
   "cell_type": "markdown",
   "metadata": {},
   "source": [
    "AI 回覆，關於 Pillow 的 Mode 參數\n",
    "\n",
    "\n",
    "1. \"L\" (Luminance) 模式：\n",
    "   - 每個像素用 0 到 255 的整數值表示，其中 0 是黑色，255 是白色。\n",
    "2. \"RGB\" (Red, Green, Blue) 模式：\n",
    "3. \"RGBA\" (Red, Green, Blue, Alpha) 模式：\n",
    "4. \"1\" (1-bit pixels, black and white) 模式：\n",
    "   - 每個像素只能是 0（黑）或 1（白）。\n",
    "\n",
    "<!-- 使用 Python Teseeract OCR OpenCV 模組處理圖片，有用過 -->"
   ]
  },
  {
   "cell_type": "code",
   "execution_count": 17,
   "metadata": {},
   "outputs": [
    {
     "name": "stdout",
     "output_type": "stream",
     "text": [
      "(540, 960, 3)\n",
      "[[[255 255 255]\n",
      "  [255 255 255]\n",
      "  [255 255 255]\n",
      "  ...\n",
      "  [255 255 255]\n",
      "  [255 255 255]\n",
      "  [255 255 255]]\n",
      "\n",
      " [[255 255 255]\n",
      "  [255 255 255]\n",
      "  [255 255 255]\n",
      "  ...\n",
      "  [255 255 255]\n",
      "  [255 255 255]\n",
      "  [255 255 255]]\n",
      "\n",
      " [[255 255 255]\n",
      "  [255 255 255]\n",
      "  [255 255 255]\n",
      "  ...\n",
      "  [255 255 255]\n",
      "  [255 255 255]\n",
      "  [255 255 255]]\n",
      "\n",
      " ...\n",
      "\n",
      " [[255 255 255]\n",
      "  [255 255 255]\n",
      "  [255 255 255]\n",
      "  ...\n",
      "  [255 255 255]\n",
      "  [255 255 255]\n",
      "  [255 255 255]]\n",
      "\n",
      " [[255 255 255]\n",
      "  [255 255 255]\n",
      "  [255 255 255]\n",
      "  ...\n",
      "  [255 255 255]\n",
      "  [255 255 255]\n",
      "  [255 255 255]]\n",
      "\n",
      " [[255 255 255]\n",
      "  [255 255 255]\n",
      "  [255 255 255]\n",
      "  ...\n",
      "  [255 255 255]\n",
      "  [255 255 255]\n",
      "  [255 255 255]]]\n"
     ]
    }
   ],
   "source": [
    "# 因為轉灰階變成二維，再轉回去三維\n",
    "if len(mask_image.shape) == 2:\n",
    "    mask_image = np.stack((mask_image,) * 3, axis=-1)\n",
    "    print(mask_image.shape)\n",
    "    print(mask_image)"
   ]
  },
  {
   "cell_type": "code",
   "execution_count": 18,
   "metadata": {},
   "outputs": [
    {
     "data": {
      "image/png": "[encoded data removed]",
      "text/plain": [
       "<Figure size 1000x600 with 1 Axes>"
      ]
     },
     "metadata": {},
     "output_type": "display_data"
    },
    {
     "name": "stdout",
     "output_type": "stream",
     "text": [
      "Mask shape: (540, 960, 3)\n",
      "Mask dtype: uint8\n",
      "Mask min value: 0\n",
      "Mask max value: 255\n"
     ]
    },
    {
     "data": {
      "image/png": "[encoded data removed]",
      "text/plain": [
       "<Figure size 1500x500 with 3 Axes>"
      ]
     },
     "metadata": {},
     "output_type": "display_data"
    }
   ],
   "source": [
    "import matplotlib.pyplot as plt\n",
    "\n",
    "# 檢查轉換後的遮罩圖片\n",
    "plt.figure(figsize=(10, 6))\n",
    "plt.imshow(mask_image, cmap='gray')  # 使用灰度顏色映射\n",
    "plt.title(\"Mask Image\")\n",
    "plt.axis('off')\n",
    "plt.show()\n",
    "\n",
    "# 打印遮罩圖片的形狀和一些基本統計信息\n",
    "print(\"Mask shape:\", mask_image.shape)\n",
    "print(\"Mask dtype:\", mask_image.dtype)\n",
    "print(\"Mask min value:\", mask_image.min())\n",
    "print(\"Mask max value:\", mask_image.max())\n",
    "\n",
    "# 如果需要查看 RGB 通道\n",
    "fig, (ax1, ax2, ax3) = plt.subplots(1, 3, figsize=(15, 5))\n",
    "ax1.imshow(mask_image[:,:,0], cmap='gray')\n",
    "ax1.set_title('Red Channel')\n",
    "ax1.axis('off')\n",
    "ax2.imshow(mask_image[:,:,1], cmap='gray')\n",
    "ax2.set_title('Green Channel')\n",
    "ax2.axis('off')\n",
    "ax3.imshow(mask_image[:,:,2], cmap='gray')\n",
    "ax3.set_title('Blue Channel')\n",
    "ax3.axis('off')\n",
    "plt.show()"
   ]
  },
  {
   "cell_type": "markdown",
   "metadata": {},
   "source": [
    "# 生成文字雲"
   ]
  },
  {
   "cell_type": "code",
   "execution_count": 24,
   "metadata": {},
   "outputs": [
    {
     "data": {
      "image/png": "[encoded data removed]",
      "text/plain": [
       "<Figure size 640x480 with 1 Axes>"
      ]
     },
     "metadata": {},
     "output_type": "display_data"
    },
    {
     "name": "stdout",
     "output_type": "stream",
     "text": [
      "文字雲圖片已儲存為: ./img/20240918_柯文哲_relative_scaling10%.png\n"
     ]
    }
   ],
   "source": [
    "# 生成文字雲\n",
    "\n",
    "# wordcloud = WordCloud(font_path=font_path_input, width=320, height=320,max_font_size=50,max_words=4000,color_func=image_colors).generate_from_frequencies(word_count)\n",
    "wordcloud = WordCloud(\n",
    "    font_path=font_path_input,\n",
    "    width=960,  # 增加寬度以提高畫質\n",
    "    height=540,  # 增加高度以提高畫質\n",
    "    mask=mask_image,\n",
    "    max_font_size=50,  # 增加最大字體大小\n",
    "    max_words=400,\n",
    "    # color_func=image_colors,\n",
    "    prefer_horizontal=0.99,  # 90% 的詞水平放置\n",
    "    scale=2,  # 增加縮放比例以提高畫質\n",
    "    min_font_size=2,  # 設置最小字體大小\n",
    "    background_color=\"black\",  # 設置背景顏色\n",
    "    mode=\"RGB\",\n",
    "    relative_scaling=0.1,  # 平衡詞頻和詞排名的重要性\n",
    "    collocations=True,  # 包含常見詞組\n",
    "    colormap=\"Spectral\",  # 使用 viridis 色彩映射\n",
    "    contour_width=1,  # 添加輪廓以增強視覺效果\n",
    "    contour_color=\"black\"# 設置輪廓顏色\n",
    ").generate_from_frequencies(word_count_dict)\n",
    "plt.imshow(wordcloud)\n",
    "plt.axis(\"off\")\n",
    "plt.show()\n",
    "\n",
    "\n",
    "# 儲存文字雲圖片 檔案名稱格式化\n",
    "today = datetime.now().strftime('%Y%m%d')\n",
    "image_filename = f\"./img/{today}_{keyword}_relative_scaling10%.png\"\n",
    "wordcloud.to_file(image_filename)\n",
    "print(f\"文字雲圖片已儲存為: {image_filename}\")"
   ]
  },
  {
   "cell_type": "markdown",
   "metadata": {},
   "source": [
    "## WordCloud 參數釐清\n",
    "\n",
    "AI 回覆的內容，關於參數說明：\n",
    "\n",
    "您提出了一個很好的問題，這確實需要進一步澄清。您是對的，排名通常是基於詞頻的，但它們在詞雲生成中的作用略有不同。讓我解釋得更清楚：\n",
    "\n",
    "1. 排名 vs 詞頻：\n",
    "   - 排名：詞的相對位置（第1常見、第2常見等）\n",
    "   - 詞頻：詞出現的實際次數\n",
    "\n",
    "2. 差異的重要性：\n",
    "   - 排名只反映相對順序，不顯示頻率差距\n",
    "   - 詞頻反映實際出現次數，顯示詞與詞之間的差距\n",
    "\n",
    "3. 舉例說明：\n",
    "   假設有三個詞：\n",
    "   - A：出現100次（排名1）\n",
    "   - B：出現99次（排名2）\n",
    "   - C：出現10次（排名3）\n",
    "\n",
    "   - 純基於排名（0.0）：A、B、C的大小差異很小\n",
    "   - 純基於詞頻（1.0）：A和B幾乎一樣大，C明顯小得多\n",
    "\n",
    "4. `relative_scaling` 的作用：\n",
    "   - 0.0：主要考慮排名，A、B、C大小差異不大\n",
    "   - 1.0：完全按詞頻，A、B很大且相近，C很小\n",
    "   - 0.5：平衡兩者，反映排名，也部分反映頻率差異\n",
    "\n",
    "所以，雖然排名確實基於詞頻，但 `relative_scaling` 參數允許您決定是更注重詞的相對順序（排名），還是更注重詞之間的實際頻率差異。這提供了在視覺呈現上的靈活性。"
   ]
  },
  {
   "cell_type": "markdown",
   "metadata": {},
   "source": [
    "# 其他資訊確認"
   ]
  },
  {
   "cell_type": "code",
   "execution_count": 20,
   "metadata": {},
   "outputs": [
    {
     "name": "stdout",
     "output_type": "stream",
     "text": [
      "Current working directory: /Users/larry/Github/Python-WordCloud\n",
      "Font file exists: True\n"
     ]
    }
   ],
   "source": [
    "import os\n",
    "\n",
    "print(\"Current working directory:\", os.getcwd())\n",
    "print(\"Font file exists:\", os.path.exists(font_path_input))"
   ]
  }
 ],
 "metadata": {
  "interpreter": {
   "hash": "aee8b7b246df8f9039afb4144a1f6fd8d2ca17a180786b69acc140d282b71a49"
  },
  "kernelspec": {
   "display_name": "Python 3.9.7 64-bit",
   "name": "python3"
  },
  "language_info": {
   "codemirror_mode": {
    "name": "ipython",
    "version": 3
   },
   "file_extension": ".py",
   "mimetype": "text/x-python",
   "name": "python",
   "nbconvert_exporter": "python",
   "pygments_lexer": "ipython3",
   "version": "3.12.5"
  }
 },
 "nbformat": 4,
 "nbformat_minor": 4
}
