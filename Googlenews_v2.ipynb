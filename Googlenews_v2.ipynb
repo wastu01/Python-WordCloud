{
 "cells": [
  {
   "cell_type": "markdown",
   "metadata": {},
   "source": [
    "# 安裝套件模組"
   ]
  },
  {
   "cell_type": "markdown",
   "metadata": {},
   "source": [
    "```\n",
    "pip install pandas\n",
    "pip install jieba\n",
    "pip install GoogleNews\n",
    "pip install matplotlib\n",
    "pip install Pillow\n",
    "pip install numpy\n",
    "pip install scipy\n",
    "pip install wordcloud\n",
    "```"
   ]
  },
  {
   "cell_type": "markdown",
   "metadata": {},
   "source": [
    "PYPI 對應套件簡介\n",
    "- [GoogleNews](https://pypi.org/project/GoogleNews/)\n",
    "- [jieba](https://pypi.org/project/jieba/)\n",
    "- [wordcloud](https://pypi.org/project/wordcloud/)\n",
    "- [matplotlib](https://pypi.org/project/matplotlib/)\n",
    "- [PIL](https://pypi.org/project/Pillow/)\n",
    "- [pandas](https://pypi.org/project/pandas/)\n",
    "- [numpy](https://pypi.org/project/numpy/)\n",
    "- [scipy](https://pypi.org/project/scipy/)\n",
    "\n"
   ]
  },
  {
   "cell_type": "code",
   "execution_count": 1,
   "metadata": {},
   "outputs": [],
   "source": [
    "# 匯入模組\n",
    "import pandas as pd\n",
    "import jieba\n",
    "from GoogleNews import GoogleNews\n",
    "from collections import Counter\n",
    "import matplotlib.pyplot as plt\n",
    "from datetime import datetime\n",
    "from PIL import Image\n",
    "import numpy as np\n",
    "from scipy.ndimage import gaussian_gradient_magnitude\n",
    "from wordcloud import WordCloud, ImageColorGenerator\n"
   ]
  },
  {
   "cell_type": "markdown",
   "metadata": {},
   "source": [
    "需要知道的觀念和套件：\n",
    "\n",
    "1. Pandas 資料處理\n",
    "2. GoogleNews 爬蟲套件\n",
    "3. WordCloud 文字雲套件\n",
    "4. Image.open 讀取圖片\n",
    "5. numpy 陣列操作\n",
    "6. jieba 斷詞套件\n",
    "7. datetime 日期處理\n"
   ]
  },
  {
   "cell_type": "markdown",
   "metadata": {},
   "source": [
    "# 初始化 Google News 物件"
   ]
  },
  {
   "cell_type": "code",
   "execution_count": 2,
   "metadata": {},
   "outputs": [],
   "source": [
    "# Google News初始化設定\n",
    "googlenews = GoogleNews(lang='zh-tw', region='TW', encode='utf-8')\n",
    "\n",
    "# 啟用除錯模式 try except\n",
    "googlenews.enableException(True)"
   ]
  },
  {
   "cell_type": "code",
   "execution_count": 3,
   "metadata": {},
   "outputs": [
    {
     "name": "stdout",
     "output_type": "stream",
     "text": [
      "<GoogleNews.GoogleNews object at 0x103785b70>\n",
      "<class 'GoogleNews.GoogleNews'>\n",
      "object 可以使用的屬性跟方法\n",
      "['_GoogleNews__encode', '_GoogleNews__end', '_GoogleNews__exception', '_GoogleNews__lang', '_GoogleNews__links', '_GoogleNews__period', '_GoogleNews__results', '_GoogleNews__section', '_GoogleNews__start', '_GoogleNews__texts', '_GoogleNews__topic', '_GoogleNews__totalcount', '_GoogleNews__version', '__class__', '__delattr__', '__dict__', '__dir__', '__doc__', '__eq__', '__format__', '__ge__', '__getattribute__', '__gt__', '__hash__', '__init__', '__init_subclass__', '__le__', '__lt__', '__module__', '__ne__', '__new__', '__reduce__', '__reduce_ex__', '__repr__', '__setattr__', '__sizeof__', '__str__', '__subclasshook__', '__weakref__', 'build_response', 'clear', 'enableException', 'getVersion', 'get_links', 'get_news', 'get_page', 'get_texts', 'getpage', 'gettext', 'headers', 'page_at', 'remove_after_last_fullstop', 'result', 'results', 'search', 'setTimeRange', 'set_encode', 'set_lang', 'set_period', 'set_section', 'set_time_range', 'set_topic', 'setencode', 'setlang', 'setperiod', 'total_count', 'user_agent']\n"
     ]
    }
   ],
   "source": [
    "object = GoogleNews()\n",
    "\n",
    "print(object)\n",
    "print(type(object))\n",
    "print(\"object 可以使用的屬性跟方法\")\n",
    "print(dir(object))"
   ]
  },
  {
   "cell_type": "code",
   "execution_count": 4,
   "metadata": {},
   "outputs": [
    {
     "name": "stdout",
     "output_type": "stream",
     "text": [
      "utf-8\n",
      "{'_GoogleNews__texts': [], '_GoogleNews__links': [], '_GoogleNews__results': [], '_GoogleNews__totalcount': 0, 'user_agent': 'Mozilla/5.0 (X11; Ubuntu; Linux i686; rv:64.0) Gecko/20100101 Firefox/64.0', '_GoogleNews__lang': 'en', 'headers': {'User-Agent': 'Mozilla/5.0 (X11; Ubuntu; Linux i686; rv:64.0) Gecko/20100101 Firefox/64.0'}, '_GoogleNews__period': '', '_GoogleNews__start': '', '_GoogleNews__end': '', '_GoogleNews__encode': 'utf-8', '_GoogleNews__exception': False, '_GoogleNews__version': '1.6.15', '_GoogleNews__topic': None, '_GoogleNews__section': None}\n"
     ]
    }
   ],
   "source": [
    "object.set_encode('utf-8')\n",
    "print(object._GoogleNews__encode)\n",
    "print(object.__dict__)"
   ]
  },
  {
   "cell_type": "markdown",
   "metadata": {},
   "source": [
    "<GoogleNews.GoogleNews object at 0x123a83d70> 物件 記憶體位置\n",
    "\n",
    "<class 'GoogleNews.GoogleNews'> 哪個類別 資料型態\n",
    "\n",
    "\n",
    "{'_GoogleNews__texts': [], '_GoogleNews__links': [], '_GoogleNews__results': [], '_GoogleNews__totalcount': 0, 'user_agent': 'Mozilla/5.0 (X11; Ubuntu; Linux i686; rv:64.0) Gecko/20100101 Firefox/64.0', '_GoogleNews__lang': 'en', 'headers': {'User-Agent': 'Mozilla/5.0 (X11; Ubuntu; Linux i686; rv:64.0) Gecko/20100101 Firefox/64.0'}, '_GoogleNews__period': '', '_GoogleNews__start': '', '_GoogleNews__end': '', '_GoogleNews__encode': 'utf-8', '_GoogleNews__exception': False, '_GoogleNews__version': '1.6.15', '_GoogleNews__topic': None, '_GoogleNews__section': None} 物件的屬性\n",
    "\n",
    "_ 底線開頭的，類似私有屬性，不希望被外部直接訪問，用方法存取"
   ]
  },
  {
   "cell_type": "markdown",
   "metadata": {},
   "source": [
    "物件的方法\n",
    "\n",
    "build_response', 'clear', 'enableException', 'getVersion', 'get_links', 'get_news', 'get_page', 'get_texts', 'getpage', 'gettext', 'headers', 'page_at', 'remove_after_last_fullstop', 'result', 'results', 'search', 'setTimeRange', 'set_encode', 'set_lang', 'set_period', 'set_section', 'set_time_range', 'set_topic', 'setencode', 'setlang', 'setperiod', 'total_count', 'user_agent'\n"
   ]
  },
  {
   "cell_type": "markdown",
   "metadata": {},
   "source": [
    "# 使用者輸入關鍵字"
   ]
  },
  {
   "cell_type": "code",
   "execution_count": 5,
   "metadata": {},
   "outputs": [],
   "source": [
    "# , period='1d'\n",
    "set_time = input(\"請輸入要搜尋的時間 (1d, 7d, 30d): \")\n",
    "googlenews.set_period(set_time)\n",
    "# 使用者輸入關鍵字\n",
    "keyword = input(\"請輸入要搜尋的關鍵字: \")\n",
    "# keyword = \"柯文哲\"\n",
    "googlenews.search(keyword)"
   ]
  },
  {
   "cell_type": "code",
   "execution_count": 6,
   "metadata": {},
   "outputs": [
    {
     "name": "stdout",
     "output_type": "stream",
     "text": [
      "標題: 罷免高虹安「風城安心上路」小蜜峰教師節將出擊 罷免背心首現身\n"
     ]
    }
   ],
   "source": [
    "# test\n",
    "result = googlenews.result()\n",
    "print(f\"標題: {result[0]['title']}\")"
   ]
  },
  {
   "cell_type": "markdown",
   "metadata": {},
   "source": [
    "\n",
    "# 顯示搜尋結果"
   ]
  },
  {
   "cell_type": "code",
   "execution_count": 7,
   "metadata": {},
   "outputs": [
    {
     "name": "stdout",
     "output_type": "stream",
     "text": [
      "標題: 罷免高虹安「風城安心上路」小蜜峰教師節將出擊 罷免背心首現身\n",
      "連結: https://news.ltn.com.tw/news/HsinchuCity/breakingnews/4812912&ved=2ahUKEwjH9PnJ4OKIAxUgk68BHVUZMmoQxfQBegQIABAC&usg=AOvVaw3RQXvJlEQbBdTaktodv1l4\n",
      "---\n",
      "標題: 竹市危險路口改善今年迄今掛零 竹市府：年底前可完成21處\n",
      "連結: https://hakkanews.tw/2024/09/27/bamboo-citys-dangerous-junction-to-be-improved-so-far-this-year-the-city-government-will-be-able-to-complete-21-places-by-the-end-of-the-year/&ved=2ahUKEwjH9PnJ4OKIAxUgk68BHVUZMmoQxfQBegQICRAC&usg=AOvVaw0JOfB7ZWbb8jzpuTDBXhPN\n",
      "---\n",
      "標題: 竹市「低收學生助學金」10／1開放申請！補助金額看這\n",
      "連結: https://news.housefun.com.tw/news/article/197070438904.html&ved=2ahUKEwjH9PnJ4OKIAxUgk68BHVUZMmoQxfQBegQIBRAC&usg=AOvVaw2pZ4z1zN_yEGxOeufpSxic\n",
      "---\n",
      "標題: 驚悚畫面曝！29歲女騎士上班閃臨停車 轎車突硬插「輾1圈」慘死\n",
      "連結: https://www.ettoday.net/news/20240927/2824858.htm&ved=2ahUKEwjH9PnJ4OKIAxUgk68BHVUZMmoQxfQBegQIBxAC&usg=AOvVaw1B9CSmaF91NFUz9KrhJodE\n",
      "---\n",
      "標題: T91步槍扛肩姿勢曝光 新竹市民政處長自嘲回應\n",
      "連結: https://tw.news.yahoo.com/t91%25E6%25AD%25A5%25E6%25A7%258D%25E6%2589%259B%25E8%2582%25A9%25E5%25A7%25BF%25E5%258B%25A2%25E6%259B%259D%25E5%2585%2589-%25E6%2596%25B0%25E7%25AB%25B9%25E5%25B8%2582%25E6%25B0%2591%25E6%2594%25BF%25E8%2599%2595%25E9%2595%25B7%25E8%2587%25AA%25E5%2598%25B2%25E5%259B%259E%25E6%2587%2589-060224712.html&ved=2ahUKEwjH9PnJ4OKIAxUgk68BHVUZMmoQxfQBegQIAhAC&usg=AOvVaw0ywR3B2Lt24585Vo_-zanP\n",
      "---\n",
      "標題: 新竹市辦低收戶學生獎學金 從小學到大學都有得領\n",
      "連結: https://udn.com/news/story/6898/8255295&ved=2ahUKEwjH9PnJ4OKIAxUgk68BHVUZMmoQxfQBegQIARAC&usg=AOvVaw3LJrYG8xzyWamZHHYq8W4w\n",
      "---\n",
      "標題: 提升偏鄉醫療 北榮新竹分院臨床教研善用AI科技\n",
      "連結: https://health.ltn.com.tw/article/breakingnews/4812828&ved=2ahUKEwjH9PnJ4OKIAxUgk68BHVUZMmoQxfQBegQICBAC&usg=AOvVaw0_WhNMXc5rNEh3UCg4AtsM\n",
      "---\n",
      "標題: 向全體教師致敬 北榮新竹分院AI歌曲大賽點燃創新火花\n",
      "連結: https://tw.news.yahoo.com/%25E5%2590%2591%25E5%2585%25A8%25E9%25AB%2594%25E6%2595%2599%25E5%25B8%25AB%25E8%2587%25B4%25E6%2595%25AC-%25E5%258C%2597%25E6%25A6%25AE%25E6%2596%25B0%25E7%25AB%25B9%25E5%2588%2586%25E9%2599%25A2ai%25E6%25AD%258C%25E6%259B%25B2%25E5%25A4%25A7%25E8%25B3%25BD%25E9%25BB%259E%25E7%2587%2583%25E5%2589%25B5%25E6%2596%25B0%25E7%2581%25AB%25E8%258A%25B1-041630199.html&ved=2ahUKEwjH9PnJ4OKIAxUgk68BHVUZMmoQxfQBegQIAxAC&usg=AOvVaw0ak6ccyBIbcNf08wlqI08J\n",
      "---\n",
      "標題: 抗癌生「最後的國文作業」激勵教學路 徐偉迪獲竹縣特殊優良教師\n",
      "連結: https://news.ltn.com.tw/news/HsinchuCounty/breakingnews/4812676&ved=2ahUKEwjH9PnJ4OKIAxUgk68BHVUZMmoQxfQBegQIBhAC&usg=AOvVaw14K_Kh1RthlDAZPhTXTTKv\n",
      "---\n",
      "標題: AI歌曲大賽點燃創新火花 北榮新竹分院教師節展望未來醫教新局\n",
      "連結: https://n.yam.com/Article/20240927938858&ved=2ahUKEwjH9PnJ4OKIAxUgk68BHVUZMmoQxfQBegQIBBAC&usg=AOvVaw0NPz-hkZK4pDl5AWNWF0Sg\n",
      "---\n"
     ]
    }
   ],
   "source": [
    "# 獲取搜尋結果\n",
    "result = googlenews.result()\n",
    "\n",
    "# 顯示新聞標題和連結\n",
    "for item in result:\n",
    "    print(f\"標題: {item['title']}\")\n",
    "    print(f\"連結: {item['link']}\")\n",
    "    print('---')"
   ]
  },
  {
   "cell_type": "markdown",
   "metadata": {},
   "source": [
    "# 儲存成 Json 格式檔案"
   ]
  },
  {
   "cell_type": "code",
   "execution_count": 14,
   "metadata": {},
   "outputs": [
    {
     "name": "stdout",
     "output_type": "stream",
     "text": [
      "搜尋結果已儲存為: ./json_output/20240927_新竹_10d.json\n"
     ]
    }
   ],
   "source": [
    "# <!-- 儲存至 Json -->\n",
    "import json\n",
    "\n",
    "from datetime import datetime\n",
    "\n",
    "# 獲取當前日期\n",
    "today = datetime.now().strftime('%Y%m%d')\n",
    "\n",
    "# 生成文件名\n",
    "filename = f\"./json_output/{today}_{keyword}_{set_time}.json\"\n",
    "\n",
    "# 將 result 寫入 JSON 文件\n",
    "with open(filename, 'w', encoding='utf-8') as f:\n",
    "    json.dump(result, f, ensure_ascii=False, indent=4)\n",
    "\n",
    "print(f\"搜尋結果已儲存為: {filename}\")\n"
   ]
  },
  {
   "cell_type": "markdown",
   "metadata": {},
   "source": [
    "# 讀取靜態 Json 格式檔案"
   ]
  },
  {
   "cell_type": "code",
   "execution_count": 2,
   "metadata": {},
   "outputs": [
    {
     "name": "stdout",
     "output_type": "stream",
     "text": [
      "[{'title': '問一整天！ 檢廉第3度提訊 柯文哲表情凝重', 'media': 'YouTube', 'date': '5 分鐘前', 'datetime': nan, 'desc': '檢廉追查京華城案，柯文哲被三度提訊，訊問進行了一整天，中午柯文哲在北檢吃了甜麵包果腹，下午才還押北所。提訊柯文哲期間，還同步約談曾經反對京華城增加容積獎勵的都委...', 'link': 'https://www.youtube.com/watch%3Fv%3Dno9uTfx8xeM&ved=2ahUKEwiHney9-MyIAxWTQPUHHdRRJOIQxfQBegQIBRAC&usg=AOvVaw3zadRkBc5IHmcyaDEAfo7D', 'img': 'data:image/gif;base64,R0lGODlhAQABAIAAAP///////yH5BAEKAAEALAAAAAABAAEAAAICTAEAOw=='}, {'title': '北檢三度提訊柯文哲 檢廉追查沈慶京5億犒賞金流向', 'media': 'Yahoo新聞', 'date': '3 分鐘前', 'datetime': nan, 'desc': '社會中心／綜合報導遭到收押禁見的民眾黨主席柯文哲，三度被借提訊問，根據週刊報導，威京集團子公司〝鼎越開發〞，標下京華城土地後，沈慶京疑似催促，急著要拿五億分潤價金，...', 'link': 'https://tw.news.yahoo.com/%25E5%258C%2597%25E6%25AA%25A2%25E4%25B8%2589%25E5%25BA%25A6%25E6%258F%2590%25E8%25A8%258A%25E6%259F%25AF%25E6%2596%2587%25E5%2593%25B2-%25E6%25AA%25A2%25E5%25BB%2589%25E8%25BF%25BD%25E6%259F%25A5%25E6%25B2%2588%25E6%2585%25B6%25E4%25BA%25AC5%25E5%2584%2584%25E7%258A%2592%25E8%25B3%259E%25E9%2587%2591%25E6%25B5%2581%25E5%2590%2591-160145805.html&ved=2ahUKEwiHney9-MyIAxWTQPUHHdRRJOIQxfQBegQICRAC&usg=AOvVaw2lsH7XEVXmbG74nVd0nNvC', 'img': 'data:image/gif;base64,R0lGODlhAQABAIAAAP///////yH5BAEKAAEALAAAAAABAAEAAAICTAEAOw=='}, {'title': '壹短蘋｜柯文哲被押小草仍死忠支持 但「超越藍綠」難再讓人期待', 'media': '壹蘋新聞網', 'date': '5 分鐘前', 'datetime': nan, 'desc': '民眾黨主席柯文哲因涉入京華城容積率弊案，被北院裁定羈押禁見。不過，早在京華城案之前，柯文哲與民眾黨就陷入政治獻金申報不實、選舉補助款買個人商辦、木可公司金流...', 'link': 'https://tw.nextapple.com/politics/20240919/B701281DF51FDAE7AF166622E6A6E7C0&ved=2ahUKEwiHney9-MyIAxWTQPUHHdRRJOIQxfQBegQIARAC&usg=AOvVaw2Msx2X58JtOpwsMLaiBTBC', 'img': 'data:image/gif;base64,R0lGODlhAQABAIAAAP///////yH5BAEKAAEALAAAAAABAAEAAAICTAEAOw=='}, {'title': '白色風暴／賴神立威？陳偉杰：辦鄭文燦、押柯文哲令人生畏', 'media': 'Yahoo新聞', 'date': '7 分鐘前', 'datetime': nan, 'desc': '總主筆李彥謀／專訪）民眾黨主席柯文哲因為京華城案被羈押在土城看守所，度過了難忘的中秋節，有人說這是賴清德政府的司法追殺；但其實最開始發難的是國民黨台北市議員...', 'link': 'https://tw.news.yahoo.com/%25E7%2599%25BD%25E8%2589%25B2%25E9%25A2%25A8%25E6%259A%25B4-%25E8%25B3%25B4%25E7%25A5%259E%25E7%25AB%258B%25E5%25A8%2581-%25E9%2599%25B3%25E5%2581%2589%25E6%259D%25B0-%25E8%25BE%25A6%25E9%2584%25AD%25E6%2596%2587%25E7%2587%25A6-%25E6%258A%25BC%25E6%259F%25AF%25E6%2596%2587%25E5%2593%25B2%25E4%25BB%25A4%25E4%25BA%25BA%25E7%2594%259F%25E7%2595%258F-155835179.html&ved=2ahUKEwiHney9-MyIAxWTQPUHHdRRJOIQxfQBegQIABAC&usg=AOvVaw2xOhJz9ozdQ1BmjhfPokmx', 'img': 'data:image/gif;base64,R0lGODlhAQABAIAAAP///////yH5BAEKAAEALAAAAAABAAEAAAICTAEAOw=='}, {'title': '姚惠珍曝「柯文哲想獲得中共青睞」靠沈慶京牽線！？2018剛好小沈缺錢...打開京華城契機？！【關鍵時刻】 @ebcCTime @57ETFN', 'media': 'YouTube', 'date': '2 分鐘前', 'datetime': nan, 'desc': '報導本於目前偵辦進度與披露資訊，任何人在依法被判決有罪確定前，均應推定為無罪※ 00:00:00 姚惠珍曝「柯文哲想獲得中共青睞」靠沈慶京牽線！？2018剛好小沈缺錢.', 'link': 'https://www.youtube.com/watch%3Fv%3DrndSKW2kqeo&ved=2ahUKEwiHney9-MyIAxWTQPUHHdRRJOIQxfQBegQIBxAC&usg=AOvVaw1ko4dkPpLdqDh_GnhW1q3y', 'img': 'data:image/gif;base64,R0lGODlhAQABAIAAAP///////yH5BAEKAAEALAAAAAABAAEAAAICTAEAOw=='}, {'title': '寶傑怒喊「柯文哲根本配合他洗錢」3大巧合曝！？京華城疑「左手賣右手」套現近百億...開工日全為沈慶京？【關鍵時刻】劉寶傑', 'media': 'YouTube', 'date': '6 分鐘前', 'datetime': nan, 'desc': '報導本於目前偵辦進度與披露資訊，任何人在依法被判決有罪確定前，均應推定為無罪* (00:00:00) 柯文哲涉貪虎頭鍘砍向沈慶京一張動土照恐重判21年不得不轉汙點證人咬柯？56 分鐘前', 'link': 'https://www.youtube.com/watch%3Fv%3Dt2cpJR63qjU&ved=2ahUKEwiHney9-MyIAxWTQPUHHdRRJOIQxfQBegQIAxAC&usg=AOvVaw0lu8cir4SluaFllLX93dop', 'img': 'data:image/gif;base64,R0lGODlhAQABAIAAAP///////yH5BAEKAAEALAAAAAABAAEAAAICTAEAOw=='}, {'title': '京華城協議書有貓膩 許淑華破解柯文哲的「放水」關鍵', 'media': '自由時報', 'date': '7 分鐘前', 'datetime': nan, 'desc': '相關新聞：獨家》柯文哲與京華城簽訂協議書曝光！ 竟先給建照後才簽約本報獨家揭露，前台北市長柯文哲代表北市府和京華城子公司「鼎越開發公司」簽訂京華城協議書，...', 'link': 'https://news.ltn.com.tw/news/politics/breakingnews/4804075&ved=2ahUKEwiHney9-MyIAxWTQPUHHdRRJOIQxfQBegQIBBAC&usg=AOvVaw0yJuLXIU_K2KfgCBxX7Yb0', 'img': 'data:image/gif;base64,R0lGODlhAQABAIAAAP///////yH5BAEKAAEALAAAAAABAAEAAAICTAEAOw=='}, {'title': '中秋後檢廉動起來！ 打「突襲戰」第三度提訊柯文哲', 'media': 'Yahoo新聞', 'date': '2 小時前', 'datetime': nan, 'desc': '中秋過後，檢方再打「突襲戰」，一早第三度提訊柯文哲，一路問到下午，逐一比對金流，根據週刊報導，檢方解密柯文哲的隨身碟，從相關記錄勾稽比對，疑似把隨身碟視為「索賄...', 'link': 'https://tw.news.yahoo.com/%25E4%25B8%25AD%25E7%25A7%258B%25E5%25BE%258C%25E6%25AA%25A2%25E5%25BB%2589%25E5%258B%2595%25E8%25B5%25B7%25E4%25BE%2586-%25E6%2589%2593-%25E7%25AA%2581%25E8%25A5%25B2%25E6%2588%25B0-%25E7%25AC%25AC%25E4%25B8%2589%25E5%25BA%25A6%25E6%258F%2590%25E8%25A8%258A%25E6%259F%25AF%25E6%2596%2587%25E5%2593%25B2-144700216.html&ved=2ahUKEwiHney9-MyIAxWTQPUHHdRRJOIQxfQBegQIAhAC&usg=AOvVaw0zcBUQOrMOwofOLXsQSuL9', 'img': 'data:image/gif;base64,R0lGODlhAQABAIAAAP///////yH5BAEKAAEALAAAAAABAAEAAAICTAEAOw=='}, {'title': '【袁紅冰熱點】獨家內幕：北京最高保密等級-對柯文哲統戰的一五七專案(視 - 內幕 - 李靜汝 - (移動版)', 'media': '看中国新闻网', 'date': '2 小時前', 'datetime': nan, 'desc': '美要想阻遏台海戰爭爆發現在就應曝光中共高官在海外財產(移動版)2 小時前', 'link': 'https://www.secretchina.com/news/b5/2024/09/18/1069557.html&ved=2ahUKEwiHney9-MyIAxWTQPUHHdRRJOIQxfQBegQIBhAC&usg=AOvVaw0LuGb-MzViQ1QvEuqHQVbi', 'img': 'data:image/gif;base64,R0lGODlhAQABAIAAAP///////yH5BAEKAAEALAAAAAABAAEAAAICTAEAOw=='}, {'title': '都委會瑟瑟發抖遭恐嚇「柯文哲有罪你們就有罪」！？誰用一篇新聞放風聲？【關鍵時刻】@ebcCTime @newsebc', 'media': 'YouTube', 'date': '2 小時前', 'datetime': nan, 'desc': '【無罪推定】 報導本於目前偵辦進度與披露資訊，任何人在依法被判決有罪確定前，均應推定為無罪00:00 有人故意放消息？ 「柯文哲有罪你們就有罪」一篇新聞來恐嚇都委會...', 'link': 'https://www.youtube.com/watch%3Fv%3Dq6cCjOsWEMc&ved=2ahUKEwiHney9-MyIAxWTQPUHHdRRJOIQxfQBegQICBAC&usg=AOvVaw17-V52dbjk7a-ZykK41uat', 'img': 'data:image/gif;base64,R0lGODlhAQABAIAAAP///////yH5BAEKAAEALAAAAAABAAEAAAICTAEAOw=='}]\n",
      "<class 'list'>\n"
     ]
    }
   ],
   "source": [
    "import json\n",
    "filename = \"./json_output/20240919_柯文哲_15d.json\"\n",
    "# 讀取 JSON 文件\n",
    "with open(filename, 'r', encoding='utf-8') as f:\n",
    "    loaded_result = json.load(f)\n",
    "\n",
    "print(loaded_result)\n",
    "print(type(loaded_result))\n"
   ]
  },
  {
   "cell_type": "code",
   "execution_count": 4,
   "metadata": {},
   "outputs": [
    {
     "name": "stdout",
     "output_type": "stream",
     "text": [
      "['問一整天！ 檢廉第3度提訊 柯文哲表情凝重', '北檢三度提訊柯文哲 檢廉追查沈慶京5億犒賞金流向', '壹短蘋｜柯文哲被押小草仍死忠支持 但「超越藍綠」難再讓人期待', '白色風暴／賴神立威？陳偉杰：辦鄭文燦、押柯文哲令人生畏', '姚惠珍曝「柯文哲想獲得中共青睞」靠沈慶京牽線！？2018剛好小沈缺錢...打開京華城契機？！【關鍵時刻】 @ebcCTime @57ETFN', '寶傑怒喊「柯文哲根本配合他洗錢」3大巧合曝！？京華城疑「左手賣右手」套現近百億...開工日全為沈慶京？【關鍵時刻】劉寶傑', '京華城協議書有貓膩 許淑華破解柯文哲的「放水」關鍵', '中秋後檢廉動起來！ 打「突襲戰」第三度提訊柯文哲', '【袁紅冰熱點】獨家內幕：北京最高保密等級-對柯文哲統戰的一五七專案(視 - 內幕 - 李靜汝 - (移動版)', '都委會瑟瑟發抖遭恐嚇「柯文哲有罪你們就有罪」！？誰用一篇新聞放風聲？【關鍵時刻】@ebcCTime @newsebc']\n",
      "['檢廉追查京華城案，柯文哲被三度提訊，訊問進行了一整天，中午柯文哲在北檢吃了甜麵包果腹，下午才還押北所。提訊柯文哲期間，還同步約談曾經反對京華城增加容積獎勵的都委...', '社會中心／綜合報導遭到收押禁見的民眾黨主席柯文哲，三度被借提訊問，根據週刊報導，威京集團子公司〝鼎越開發〞，標下京華城土地後，沈慶京疑似催促，急著要拿五億分潤價金，...', '民眾黨主席柯文哲因涉入京華城容積率弊案，被北院裁定羈押禁見。不過，早在京華城案之前，柯文哲與民眾黨就陷入政治獻金申報不實、選舉補助款買個人商辦、木可公司金流...', '總主筆李彥謀／專訪）民眾黨主席柯文哲因為京華城案被羈押在土城看守所，度過了難忘的中秋節，有人說這是賴清德政府的司法追殺；但其實最開始發難的是國民黨台北市議員...', '報導本於目前偵辦進度與披露資訊，任何人在依法被判決有罪確定前，均應推定為無罪※ 00:00:00 姚惠珍曝「柯文哲想獲得中共青睞」靠沈慶京牽線！？2018剛好小沈缺錢.', '報導本於目前偵辦進度與披露資訊，任何人在依法被判決有罪確定前，均應推定為無罪* (00:00:00) 柯文哲涉貪虎頭鍘砍向沈慶京一張動土照恐重判21年不得不轉汙點證人咬柯？56 分鐘前', '相關新聞：獨家》柯文哲與京華城簽訂協議書曝光！ 竟先給建照後才簽約本報獨家揭露，前台北市長柯文哲代表北市府和京華城子公司「鼎越開發公司」簽訂京華城協議書，...', '中秋過後，檢方再打「突襲戰」，一早第三度提訊柯文哲，一路問到下午，逐一比對金流，根據週刊報導，檢方解密柯文哲的隨身碟，從相關記錄勾稽比對，疑似把隨身碟視為「索賄...', '美要想阻遏台海戰爭爆發現在就應曝光中共高官在海外財產(移動版)2 小時前', '【無罪推定】 報導本於目前偵辦進度與披露資訊，任何人在依法被判決有罪確定前，均應推定為無罪00:00 有人故意放消息？ 「柯文哲有罪你們就有罪」一篇新聞來恐嚇都委會...']\n",
      "['問一整天！ 檢廉第3度提訊 柯文哲表情凝重 檢廉追查京華城案，柯文哲被三度提訊，訊問進行了一整天，中午柯文哲在北檢吃了甜麵包果腹，下午才還押北所。提訊柯文哲期間，還同步約談曾經反對京華城增加容積獎勵的都委...', '北檢三度提訊柯文哲 檢廉追查沈慶京5億犒賞金流向 社會中心／綜合報導遭到收押禁見的民眾黨主席柯文哲，三度被借提訊問，根據週刊報導，威京集團子公司〝鼎越開發〞，標下京華城土地後，沈慶京疑似催促，急著要拿五億分潤價金，...', '壹短蘋｜柯文哲被押小草仍死忠支持 但「超越藍綠」難再讓人期待 民眾黨主席柯文哲因涉入京華城容積率弊案，被北院裁定羈押禁見。不過，早在京華城案之前，柯文哲與民眾黨就陷入政治獻金申報不實、選舉補助款買個人商辦、木可公司金流...', '白色風暴／賴神立威？陳偉杰：辦鄭文燦、押柯文哲令人生畏 總主筆李彥謀／專訪）民眾黨主席柯文哲因為京華城案被羈押在土城看守所，度過了難忘的中秋節，有人說這是賴清德政府的司法追殺；但其實最開始發難的是國民黨台北市議員...', '姚惠珍曝「柯文哲想獲得中共青睞」靠沈慶京牽線！？2018剛好小沈缺錢...打開京華城契機？！【關鍵時刻】 @ebcCTime @57ETFN 報導本於目前偵辦進度與披露資訊，任何人在依法被判決有罪確定前，均應推定為無罪※ 00:00:00 姚惠珍曝「柯文哲想獲得中共青睞」靠沈慶京牽線！？2018剛好小沈缺錢.', '寶傑怒喊「柯文哲根本配合他洗錢」3大巧合曝！？京華城疑「左手賣右手」套現近百億...開工日全為沈慶京？【關鍵時刻】劉寶傑 報導本於目前偵辦進度與披露資訊，任何人在依法被判決有罪確定前，均應推定為無罪* (00:00:00) 柯文哲涉貪虎頭鍘砍向沈慶京一張動土照恐重判21年不得不轉汙點證人咬柯？56 分鐘前', '京華城協議書有貓膩 許淑華破解柯文哲的「放水」關鍵 相關新聞：獨家》柯文哲與京華城簽訂協議書曝光！ 竟先給建照後才簽約本報獨家揭露，前台北市長柯文哲代表北市府和京華城子公司「鼎越開發公司」簽訂京華城協議書，...', '中秋後檢廉動起來！ 打「突襲戰」第三度提訊柯文哲 中秋過後，檢方再打「突襲戰」，一早第三度提訊柯文哲，一路問到下午，逐一比對金流，根據週刊報導，檢方解密柯文哲的隨身碟，從相關記錄勾稽比對，疑似把隨身碟視為「索賄...', '【袁紅冰熱點】獨家內幕：北京最高保密等級-對柯文哲統戰的一五七專案(視 - 內幕 - 李靜汝 - (移動版) 美要想阻遏台海戰爭爆發現在就應曝光中共高官在海外財產(移動版)2 小時前', '都委會瑟瑟發抖遭恐嚇「柯文哲有罪你們就有罪」！？誰用一篇新聞放風聲？【關鍵時刻】@ebcCTime @newsebc 【無罪推定】 報導本於目前偵辦進度與披露資訊，任何人在依法被判決有罪確定前，均應推定為無罪00:00 有人故意放消息？ 「柯文哲有罪你們就有罪」一篇新聞來恐嚇都委會...']\n"
     ]
    }
   ],
   "source": [
    "# 查看資料 資料分類 資料合併 練習\n",
    "\n",
    "title_tokens = []\n",
    "desc_tokens = []\n",
    "\n",
    "all_content = []\n",
    "\n",
    "for n in range(len(loaded_result)):\n",
    "\n",
    "    title = loaded_result[n]['title']\n",
    "    desc = loaded_result[n]['desc']  \n",
    "    title_tokens.append(loaded_result[n]['title'])\n",
    "    desc_tokens.append(loaded_result[n]['desc'])\n",
    "    all_content.append(title + \" \" + desc)\n",
    "\n",
    "print(title_tokens)\n",
    "print(desc_tokens)\n",
    "print(all_content)\n",
    "# for item in all_content:\n",
    "#     print(\"\".join(item))\n",
    "    \n",
    "\n",
    "\n"
   ]
  },
  {
   "cell_type": "markdown",
   "metadata": {},
   "source": [
    "# 停用詞過濾"
   ]
  },
  {
   "cell_type": "code",
   "execution_count": null,
   "metadata": {},
   "outputs": [],
   "source": [
    "# ckip-transformers  0.3.4 "
   ]
  },
  {
   "cell_type": "code",
   "execution_count": 8,
   "metadata": {},
   "outputs": [
    {
     "name": "stdout",
     "output_type": "stream",
     "text": [
      "Initializing drivers ... WS\n",
      "Initializing drivers ... POS\n",
      "Initializing drivers ... NER\n",
      "Initializing drivers ... done\n",
      "問一整天 檢廉第3度提訊 柯文哲表情凝重 檢廉追查京華城案柯文哲被三度提訊訊問進行了一整天中午柯文哲在北檢吃了甜麵包果腹下午才還押北所提訊柯文哲期間還同步約談曾經反對京華城增加容積獎勵的都委\n",
      "北檢三度提訊柯文哲 檢廉追查沈慶京5億犒賞金流向 社會中心綜合報導遭到收押禁見的民眾黨主席柯文哲三度被借提訊問根據週刊報導威京集團子公司鼎越開發標下京華城土地後沈慶京疑似催促急著要拿五億分潤價金\n",
      "壹短蘋柯文哲被押小草仍死忠支持 但超越藍綠難再讓人期待 民眾黨主席柯文哲因涉入京華城容積率弊案被北院裁定羈押禁見不過早在京華城案之前柯文哲與民眾黨就陷入政治獻金申報不實選舉補助款買個人商辦木可公司金流\n",
      "白色風暴賴神立威陳偉杰辦鄭文燦押柯文哲令人生畏 總主筆李彥謀專訪民眾黨主席柯文哲因為京華城案被羈押在土城看守所度過了難忘的中秋節有人說這是賴清德政府的司法追殺但其實最開始發難的是國民黨台北市議員\n",
      "姚惠珍曝柯文哲想獲得中共青睞靠沈慶京牽線2018剛好小沈缺錢打開京華城契機關鍵時刻 ebcCTime 57ETFN 報導本於目前偵辦進度與披露資訊任何人在依法被判決有罪確定前均應推定為無罪 000000 姚惠珍曝柯文哲想獲得中共青睞靠沈慶京牽線2018剛好小沈缺錢\n",
      "寶傑怒喊柯文哲根本配合他洗錢3大巧合曝京華城疑左手賣右手套現近百億開工日全為沈慶京關鍵時刻劉寶傑 報導本於目前偵辦進度與披露資訊任何人在依法被判決有罪確定前均應推定為無罪 000000 柯文哲涉貪虎頭鍘砍向沈慶京一張動土照恐重判21年不得不轉汙點證人咬柯56 分鐘前\n",
      "京華城協議書有貓膩 許淑華破解柯文哲的放水關鍵 相關新聞獨家柯文哲與京華城簽訂協議書曝光 竟先給建照後才簽約本報獨家揭露前台北市長柯文哲代表北市府和京華城子公司鼎越開發公司簽訂京華城協議書\n",
      "中秋後檢廉動起來 打突襲戰第三度提訊柯文哲 中秋過後檢方再打突襲戰一早第三度提訊柯文哲一路問到下午逐一比對金流根據週刊報導檢方解密柯文哲的隨身碟從相關記錄勾稽比對疑似把隨身碟視為索賄\n",
      "袁紅冰熱點獨家內幕北京最高保密等級對柯文哲統戰的一五七專案視  內幕  李靜汝  移動版 美要想阻遏台海戰爭爆發現在就應曝光中共高官在海外財產移動版2 小時前\n",
      "都委會瑟瑟發抖遭恐嚇柯文哲有罪你們就有罪誰用一篇新聞放風聲關鍵時刻ebcCTime newsebc 無罪推定 報導本於目前偵辦進度與披露資訊任何人在依法被判決有罪確定前均應推定為無罪0000 有人故意放消息 柯文哲有罪你們就有罪一篇新聞來恐嚇都委會\n"
     ]
    },
    {
     "name": "stderr",
     "output_type": "stream",
     "text": [
      "Tokenization: 100%|██████████| 10/10 [00:00<00:00, 9584.79it/s]\n",
      "Inference: 100%|██████████| 1/1 [00:00<00:00,  2.19it/s]\n",
      "Tokenization: 100%|██████████| 10/10 [00:00<00:00, 19756.50it/s]\n",
      "Inference: 100%|██████████| 1/1 [00:00<00:00,  2.28it/s]"
     ]
    },
    {
     "name": "stdout",
     "output_type": "stream",
     "text": [
      "總詞性數: 557\n",
      "句子 0:['問', '一', '整', '天', ' ', '檢廉', '第3', '度', '提訊', ' ', '柯文哲', '表情', '凝重', ' ', '檢廉', '追查', '京華城案', '柯文哲', '被', '三', '度', '提訊', '訊問', '進行', '了', '一', '整', '天', '中午', '柯文哲', '在', '北檢', '吃', '了', '甜', '麵包', '果腹', '下午', '才', '還', '押', '北所', '提訊', '柯文哲', '期間', '還', '同步', '約談', '曾經', '反對', '京華城', '增加', '容積', '獎勵', '的', '都委']\n",
      "句子 1:['北檢', '三', '度', '提訊', '柯文哲', ' ', '檢廉', '追查', '沈慶京', '5億', '犒賞金', '流向', ' ', '社會', '中心', '綜合', '報導', '遭到', '收押', '禁見', '的', '民眾黨', '主席', '柯文哲', '三', '度', '被', '借提', '訊問', '根據', '週刊', '報導', '威京', '集團', '子公司', '鼎越', '開發', '標下', '京華城', '土地', '後', '沈慶京', '疑似', '催促', '急', '著', '要', '拿', '五億', '分', '潤', '價金']\n",
      "句子 2:['壹短蘋', '柯文哲', '被', '押', '小草', '仍', '死忠', '支持', ' ', '但', '超越', '藍綠', '難', '再', '讓', '人', '期待', ' ', '民眾黨', '主席', '柯文哲', '因', '涉入', '京華城', '容積率', '弊案', '被', '北院', '裁定', '羈押', '禁見', '不過', '早', '在', '京華城案', '之前', '柯文哲', '與', '民眾黨', '就', '陷入', '政治', '獻金', '申報', '不實', '選舉', '補助款', '買', '個人', '商辦', '木可', '公司', '金流']\n",
      "句子 3:['白色風暴', '賴', '神', '立', '威', '陳偉杰', '辦', '鄭文燦', '押', '柯文哲', '令', '人', '生畏', ' ', '總主筆', '李彥謀', '專訪', '民眾黨', '主席', '柯文哲', '因為', '京華城案', '被', '羈押', '在', '土城', '看守所', '度過', '了', '難忘', '的', '中秋節', '有', '人', '說', '這', '是', '賴清德', '政府', '的', '司法', '追殺', '但', '其實', '最', '開始', '發難', '的', '是', '國民黨', '台北市', '議員']\n",
      "句子 4:['姚惠珍', '曝', '柯文哲', '想', '獲得', '中共', '青睞', '靠', '沈慶京', '牽線', '2018', '剛好', '小沈', '缺', '錢', '打開', '京華城', '契機', '關鍵', '時刻', ' ebc', 'CTime', ' 57', 'ETFN ', '報導', '本於', '目前', '偵辦', '進度', '與', '披露', '資訊', '任何', '人', '在', '依法', '被', '判決', '有罪', '確定', '前', '均', '應', '推定為', '無罪', ' 000000 ', '姚惠珍', '曝', '柯文哲', '想', '獲得', '中共', '青睞', '靠', '沈慶京', '牽線', '2018', '剛好', '小沈', '缺', '錢']\n",
      "句子 5:['寶傑', '怒', '喊', '柯文哲', '根本', '配合', '他', '洗錢', '3', '大', '巧合', '曝', '京華城', '疑', '左手', '賣', '右手', '套現', '近', '百億', '開工', '日', '全', '為', '沈慶京', '關鍵', '時刻', '劉寶傑', ' ', '報導', '本於', '目前', '偵辦', '進度', '與', '披露', '資訊', '任何', '人', '在', '依法', '被', '判決', '有罪', '確定', '前', '均', '應', '推定為', '無罪', ' 000000', ' ', '柯文哲', '涉', '貪', '虎頭鍘', '砍', '向', '沈慶京', '一', '張', '動土照', '恐', '重判', '21', '年', '不得不', '轉', '汙點', '證人', '咬', '柯', '56 ', '分鐘', '前']\n",
      "句子 6:['京華城', '協議書', '有', '貓膩', ' ', '許淑華', '破解', '柯文哲', '的', '放水', '關鍵', ' ', '相關', '新聞', '獨家', '柯文哲', '與', '京華城', '簽訂', '協議書', '曝光', ' ', '竟', '先', '給', '建照', '後', '才', '簽約', '本', '報', '獨家', '揭露', '前', '台北', '市長', '柯文哲', '代表', '北市府', '和', '京華城', '子公司', '鼎越', '開發', '公司', '簽訂', '京華城', '協議書']\n",
      "句子 7:['中秋', '後', '檢廉', '動', '起來', ' ', '打', '突襲戰', '第三', '度', '提訊', '柯文哲', ' ', '中秋', '過後', '檢方', '再', '打', '突襲戰', '一早', '第三', '度', '提訊', '柯文哲', '一路', '問', '到', '下午', '逐一', '比對', '金流', '根據', '週刊', '報導', '檢方', '解密', '柯文哲', '的', '隨身碟', '從', '相關', '記錄', '勾稽', '比對', '疑似', '把', '隨身碟', '視為', '索', '賄']\n",
      "句子 8:['袁紅冰', '熱點', '獨家', '內幕', '北京', '最', '高', '保密', '等級', '對', '柯文哲', '統戰', '的', '一五七', '專案', '視', '  ', '內幕', ' ', ' ', '李靜汝', '  ', '移動版', ' ', '美', '要', '想', '阻遏', '台海', '戰爭', '爆發', '現在', '就', '應', '曝光', '中共', '高官', '在', '海外', '財產', '移動版', '2 ', '小時', '前']\n",
      "句子 9:['都委會', '瑟瑟', '發抖', '遭', '恐嚇', '柯文哲', '有罪', '你們', '就', '有罪', '誰', '用', '一', '篇', '新聞', '放', '風聲', '關鍵', '時刻', 'ebc', 'CTime', ' newsebc', ' ', '無罪', '推定', ' ', '報導', '本於', '目前', '偵辦', '進度', '與', '披露', '資訊', '任何', '人', '在', '依法', '被', '判決', '有罪', '確定', '前', '均', '應', '推定為', '無罪', '0000', ' ', '有', '人', '故意', '放', '消息', ' ', '柯文哲', '有罪', '你們', '就', '有罪', '一', '篇', '新聞', '來', '恐嚇', '都委會']\n",
      "\n",
      "所有詞的列表:\n",
      "['檢廉', '第3', '提訊', '柯文哲', '表情', '凝重', '檢廉', '追查', '京華城案', '柯文哲', '提訊', '訊問', '進行', '中午', '柯文哲', '北檢', '麵包', '果腹', '下午', '北所', '提訊', '柯文哲', '期間', '同步', '約談', '反對', '京華城', '增加', '容積', '獎勵', '都委', '北檢', '提訊', '柯文哲', '檢廉', '追查', '沈慶京', '5億', '犒賞金', '流向', '社會', '中心', '報導', '遭到', '收押', '禁見', '民眾黨', '主席', '柯文哲', '借提', '訊問', '週刊', '報導', '威京', '集團', '子公司', '鼎越', '開發', '標下', '京華城', '土地', '沈慶京', '疑似', '催促', '五億', '價金', '壹短蘋', '柯文哲', '小草', '死忠', '支持', '超越', '藍綠', '期待', '民眾黨', '主席', '柯文哲', '涉入', '京華城', '容積率', '弊案', '北院', '裁定', '羈押', '禁見', '京華城案', '之前', '柯文哲', '民眾黨', '陷入', '政治', '獻金', '申報', '不實', '選舉', '補助款', '個人', '商辦', '木可', '公司', '金流', '白色風暴', '陳偉杰', '鄭文燦', '柯文哲', '生畏', '總主筆', '李彥謀', '專訪', '民眾黨', '主席', '柯文哲', '京華城案', '羈押', '土城', '看守所', '度過', '難忘', '中秋節', '賴清德', '政府', '司法', '追殺', '開始', '發難', '國民黨', '台北市', '議員', '姚惠珍', '柯文哲', '獲得', '中共', '青睞', '沈慶京', '牽線', '2018', '剛好', '小沈', '打開', '京華城', '契機', '關鍵', '時刻', '報導', '本於', '目前', '偵辦', '進度', '披露', '資訊', '任何', '判決', '有罪', '確定', '推定為', '無罪', ' 000000 ', '姚惠珍', '柯文哲', '獲得', '中共', '青睞', '沈慶京', '牽線', '2018', '剛好', '小沈', '寶傑', '柯文哲', '配合', '洗錢', '巧合', '京華城', '左手', '右手', '套現', '百億', '開工', '沈慶京', '關鍵', '時刻', '劉寶傑', '報導', '目前', '偵辦', '進度', '披露', '資訊', '任何', '判決', '有罪', '確定', '推定為', '無罪', '柯文哲', '虎頭鍘', '沈慶京', '動土照', '重判', '21', '汙點', '證人', '56 ', '分鐘', '京華城', '協議書', '貓膩', '許淑華', '破解', '柯文哲', '放水', '關鍵', '相關', '新聞', '柯文哲', '京華城', '簽訂', '協議書', '曝光', '建照', '簽約', '揭露', '台北', '市長', '柯文哲', '代表', '北市府', '京華城', '子公司', '鼎越', '開發', '公司', '簽訂', '京華城', '協議書', '中秋', '檢廉', '突襲戰', '第三', '提訊', '柯文哲', '中秋', '過後', '檢方', '突襲戰', '第三', '提訊', '柯文哲', '下午', '比對', '金流', '週刊', '報導', '檢方', '解密', '柯文哲', '隨身碟', '相關', '記錄', '勾稽', '比對', '疑似', '隨身碟', '視為', '袁紅冰', '熱點', '內幕', '北京', '保密', '等級', '柯文哲', '統戰', '一五七', '專案', '內幕', '李靜汝', '移動版', '阻遏', '台海', '戰爭', '爆發', '現在', '曝光', '中共', '高官', '海外', '財產', '移動版', '2 ', '小時', '都委會', '發抖', '恐嚇', '柯文哲', '有罪', '你們', '有罪', '新聞', '風聲', '關鍵', '時刻', '無罪', '推定', '報導', '本於', '目前', '偵辦', '進度', '披露', '資訊', '任何', '判決', '有罪', '確定', '推定為', '無罪', '0000', '故意', '消息', '柯文哲', '有罪', '你們', '有罪', '新聞', '恐嚇', '都委會']\n",
      "總詞數: 326\n"
     ]
    },
    {
     "name": "stderr",
     "output_type": "stream",
     "text": [
      "\n"
     ]
    }
   ],
   "source": [
    "import re\n",
    "import time\n",
    "from ckip_transformers import __version__\n",
    "from ckip_transformers.nlp import CkipWordSegmenter, CkipPosTagger, CkipNerChunker\n",
    "\n",
    "\n",
    "# Initialize drivers\n",
    "# 初始化斷詞WS、詞性標記POS、命名實體辨識NER\n",
    "print(\"Initializing drivers ... WS\")\n",
    "ws_driver = CkipWordSegmenter(model=\"bert-base\")\n",
    "print(\"Initializing drivers ... POS\")\n",
    "pos_driver = CkipPosTagger(model=\"bert-base\")\n",
    "print(\"Initializing drivers ... NER\")\n",
    "ner_driver = CkipNerChunker(model=\"bert-base\")\n",
    "print(\"Initializing drivers ... done\")\n",
    "\n",
    "def process_text(text):\n",
    "    # 選取所有 “不是 ＾” 中文（\\u4e00-\\u9fff）、英文、數字及空格\n",
    "    pattern = re.compile(r'[^\\u4e00-\\u9fffA-Za-z0-9\\s]')\n",
    "    # 用空字元取代符合 pattern 的字串\n",
    "    return pattern.sub('', text)\n",
    "\n",
    "sentences = []\n",
    "\n",
    "for item in all_content:\n",
    "    cleaned_text = process_text(item)\n",
    "    print(cleaned_text)\n",
    "    sentences.append(cleaned_text)\n",
    "    \n",
    "\n",
    "\n",
    "# 應該用有限制條件去剃掉那些多種不想要的\n",
    "\n",
    "# - 初始化斷詞（WS）、命名實體辨識（NER）輸入格式 ----> 必須是句子的串列（list of sentences）\n",
    "# - 詞性標記（POS）輸入格式 ----> 必須是詞串列的串列（list of list of words，來自斷詞的輸出）\n",
    "\n",
    "all_words = []\n",
    "\n",
    "\n",
    "# print(\"\\n斷詞結果：\")\n",
    "ws_results = ws_driver(sentences)\n",
    "\n",
    "all_pos = []\n",
    "\n",
    "# 執行詞性標記\n",
    "# print(\"\\n詞性標記結果：\")\n",
    "pos_results = pos_driver(ws_results)\n",
    "for sentence in pos_results:\n",
    "    # print(sentence)\n",
    "    # print(type(sentence))\n",
    "    \n",
    "    for pos in sentence:\n",
    "        all_pos.append(pos)\n",
    "\n",
    "print(f\"總詞性數: {len(all_pos)}\")\n",
    "\n",
    "\n",
    "# print(ws_results)\n",
    "# print(type(ws_results[0]))\n",
    "for n, sentence in enumerate(ws_results):\n",
    "    print(f\"句子 {n}:{sentence}\")\n",
    "    # print(len(sentence))\n",
    "    # print(f\"資料型態: {type(sentence)}\")\n",
    "    # print(type(sentence))\n",
    "    \n",
    "    # 遍歷每個句子的詞與對應的詞性標註\n",
    "    for word, pos in zip(sentence, pos_results[n]):\n",
    "        # 判斷條件：非空字串、詞長度大於1，且詞性為名詞(N)或動詞(V)\n",
    "        if word.strip() and len(word) > 1 and (pos.startswith('N') or pos.startswith('V')):\n",
    "            all_words.append(word)\n",
    "            \n",
    "    # or all_words.extend(sentence) 把可迭代對象的元素逐個添加到列表的末尾\n",
    "\n",
    "print(\"\\n所有詞的列表:\")\n",
    "print(all_words)\n",
    "print(f\"總詞數: {len(all_words)}\")\n",
    "\n",
    "\n",
    "# 學習資源附上的的文章教學有比較乾淨的寫法 用 double zip \n",
    "\n"
   ]
  },
  {
   "cell_type": "code",
   "execution_count": 12,
   "metadata": {},
   "outputs": [
    {
     "name": "stdout",
     "output_type": "stream",
     "text": [
      "斷詞結果:\n",
      "['問', '一整天', '！', ' ', '檢廉', '第', '3', '度', '提訊', ' ', '柯文', '哲', '表情', '凝重', '\\n', '檢廉', '追查', '京華城案', '，', '柯文', '哲', '被', '三度', '提訊', '，', '訊', '問進行', '了', '一整天', '，', '中午', '柯文', '哲在', '北檢吃', '了', '甜', '麵', '包', '果腹', '，', '下午', '才', '還押', '北所', '。', '提訊', '柯文', '哲期間', '，', '還', '同步', '約', '談', '曾', '經反', '對京華城', '增加', '容積', '獎勵', '的', '都', '委', '...', '\\n', '\\n', '北檢', '三度', '提訊', '柯文', '哲', ' ', '檢廉', '追查', '沈慶京', '5', '億', '犒賞', '金', '流向', '\\n', '社會', '中心', '／', '綜合', '報導', '遭到', '收', '押禁', '見', '的', '民眾', '黨', '主席', '柯文', '哲', '，', '三度', '被', '借', '提訊問', '，', '根據', '週刊', '報導', '，', '威京', '集團', '子公司', '〝', '鼎越', '開發', '〞', '，', '標下京華城', '土地', '後', '，', '沈慶京', '疑似', '催促', '，', '急著', '要', '拿', '五', '億分潤', '價金', '，', '...', '\\n', '\\n', '壹', '短', '蘋', '｜', '柯文', '哲', '被', '押', '小草', '仍', '死忠', '支持', ' ', '但', '「', '超越', '藍綠', '」', '難', '再', '讓', '人', '期待', '\\n', '民眾', '黨', '主席', '柯文', '哲因', '涉入', '京華城容', '積率', '弊案', '，', '被', '北院', '裁定', '羈', '押禁', '見', '。', '不過', '，', '早', '在', '京華城案', '之前', '，', '柯文', '哲與民眾', '黨', '就', '陷入', '政治', '獻金', '申報', '不實', '、', '選舉', '補助款', '買個', '人', '商辦', '、', '木可', '公司', '金流', '...', '\\n', '\\n', '白色', '風暴', '／', '賴神', '立威', '？', '陳', '偉杰', '：', '辦', '鄭文燦', '、', '押', '柯文', '哲', '令人生畏', '\\n', '總主筆', '李彥', '謀', '／', '專訪', '）', '民眾', '黨', '主席', '柯文', '哲因', '為京華城案', '被', '羈押', '在', '土城', '看守所', '，', '度過', '了', '難', '忘', '的', '中秋', '節', '，', '有人', '說', '這是', '賴清德', '政府', '的', '司法', '追殺', '；', '但', '其實', '最', '開始', '發難', '的', '是', '國民黨', '台北市', '議員', '...', '\\n', '\\n', '姚惠珍', '曝', '「', '柯文', '哲想', '獲得', '中共', '青睞', '」', '靠', '沈慶京', '牽線', '！', '？', '2018', '剛好', '小', '沈缺', '錢', '...', '打', '開京華城', '契機', '？', '！', '【', '關鍵', '時刻', '】', ' ', '@', 'ebcCTime', ' ', '@', '57ETFN', '\\n', '報導本', '於', '目前', '偵辦', '進度', '與', '披露', '資訊', '，', '任何人', '在', '依法', '被判', '決', '有罪', '確定', '前', '，', '均', '應', '推定', '為', '無罪', '※', ' ', '00', ':', '00', ':', '00', ' ', '姚惠珍', '曝', '「', '柯文', '哲想', '獲得', '中共', '青睞', '」', '靠', '沈慶京', '牽線', '！', '？', '2018', '剛好', '小', '沈缺', '錢', '.', '\\n', '\\n', '寶傑', '怒', '喊', '「', '柯文', '哲', '根本', '配合', '他', '洗', '錢', '」', '3', '大', '巧合', '曝', '！', '？', '京華城疑', '「', '左手', '賣', '右手', '」', '套現', '近百', '億', '...', '開工日', '全為', '沈慶京', '？', '【', '關鍵', '時刻', '】', '劉寶傑', '\\n', '報導本', '於', '目前', '偵辦', '進度', '與', '披露', '資訊', '，', '任何人', '在', '依法', '被判', '決', '有罪', '確定', '前', '，', '均', '應', '推定', '為', '無罪', '*', ' ', '(', '00', ':', '00', ':', '00', ')', ' ', '柯文', '哲涉', '貪虎頭', '鍘', '砍', '向', '沈慶京', '一', '張動', '土照', '恐', '重判', '21', '年', '不得不', '轉', '汙', '點證', '人', '咬', '柯', '？', '56', ' ', '分鐘', '前', '\\n', '\\n', '京華城', '協議', '書', '有', '貓膩', ' ', '許淑華', '破解', '柯文', '哲', '的', '「', '放水', '」', '關鍵', '\\n', '相關', '新聞', '：', '獨家', '》', '柯文', '哲與京華城', '簽訂', '協議', '書', '曝光', '！', ' ', '竟先給', '建照', '後', '才', '簽約', '本報', '獨家', '揭露', '，', '前', '台北市', '長', '柯文', '哲', '代表', '北', '市府', '和', '京華城', '子公司', '「', '鼎越', '開發', '公司', '」', '簽訂', '京華城', '協議', '書', '，', '...', '\\n', '\\n', '中秋', '後', '檢廉動', '起來', '！', ' ', '打', '「', '突襲戰', '」', '第三度', '提訊', '柯文', '哲', '\\n', '中秋', '過後', '，', '檢方', '再', '打', '「', '突襲戰', '」', '，', '一早', '第三度', '提訊', '柯文', '哲', '，', '一路', '問到', '下午', '，', '逐一', '比對', '金流', '，', '根據', '週刊', '報導', '，', '檢方', '解密', '柯文', '哲', '的', '隨身', '碟', '，', '從', '相關', '記錄', '勾稽', '比', '對', '，', '疑似', '把', '隨身', '碟', '視為', '「', '索賄', '...', '\\n', '\\n', '【', '袁紅冰', '熱點', '】', '獨家', '內幕', '：', '北京', '最高', '保密', '等級', '-', '對', '柯文', '哲統戰', '的', '一', '五七', '專案', '(', '視', ' ', '-', ' ', '內幕', ' ', '-', ' ', '李靜', '汝', ' ', '-', ' ', '(', '移動版', ')', '\\n', '美要', '想', '阻遏', '台海', '戰爭', '爆發現', '在', '就', '應', '曝光', '中共', '高官', '在', '海外', '財產', '(', '移動版', ')', '2', ' ', '小時', '前', '\\n', '\\n', '都', '委會', '瑟瑟', '發抖', '遭', '恐嚇', '「', '柯文', '哲', '有罪', '你們', '就', '有罪', '」', '！', '？', '誰', '用', '一篇', '新聞', '放風聲', '？', '【', '關鍵', '時刻', '】', '@', 'ebcCTime', ' ', '@', 'newsebc', '\\n', '【', '無罪', '推定', '】', ' ', '報導本', '於', '目前', '偵辦', '進度', '與', '披露', '資訊', '，', '任何人', '在', '依法', '被判', '決', '有罪', '確定', '前', '，', '均', '應', '推定', '為', '無罪', '00', ':', '00', ' ', '有人', '故意', '放', '消息', '？', ' ', '「', '柯文', '哲', '有罪', '你們', '就', '有罪', '」', '一篇', '新聞來', '恐嚇', '都', '委會', '...', '\\n', '\\n']\n",
      "------------------------------------------------------------------------------------------------------------------------\n",
      "過濾後的結果: \n",
      "503\n",
      "------------------------------------------------------------------------------------------------------------------------\n",
      "\n",
      "TF-IDF 關鍵詞及其權重:\n",
      "柯文: 9450\n",
      "提訊: 2031\n",
      "沈慶京: 2031\n",
      "有罪: 1699\n",
      "關鍵: 1354\n",
      "無罪: 1354\n",
      "推定: 1160\n",
      "報導: 1015\n",
      "時刻: 1015\n",
      "報導本: 1015\n",
      "\n",
      "TextRank 關鍵詞及其權重:\n",
      "京華城: 1.0000\n",
      "沈慶京: 0.8965\n",
      "提訊: 0.8045\n",
      "獨家: 0.6202\n",
      "關鍵: 0.5984\n",
      "報導: 0.5356\n",
      "有罪: 0.4764\n",
      "城案: 0.4372\n",
      "子公司: 0.4237\n",
      "哲因: 0.4196\n",
      "------------------------------------------------------------------------------------------------------------------------\n",
      "第一種過濾後的結果 (TF-IDF): \n",
      "['提訊', '柯文', '柯文', '提訊', '柯文', '提訊', '柯文', '提訊', '柯文', '沈慶京', '報導', '柯文', '報導', '沈慶京', '柯文', '柯文', '柯文', '柯文', '柯文', '柯文', '沈慶京', '關鍵', '時刻', '報導本', '有罪', '推定', '無罪', '柯文', '沈慶京', '柯文', '沈慶京', '關鍵', '時刻', '報導本', '有罪', '推定', '無罪', '柯文', '沈慶京', '柯文', '關鍵', '柯文', '柯文', '提訊', '柯文', '提訊', '柯文', '報導', '柯文', '柯文', '柯文', '有罪', '有罪', '關鍵', '時刻', '無罪', '推定', '報導本', '有罪', '推定', '無罪', '柯文', '有罪', '有罪']\n",
      "64\n",
      "------------------------------------------------------------------------------------------------------------------------\n",
      "第二種過濾後的結果 (TextRank): \n",
      "['提訊', '提訊', '提訊', '提訊', '沈慶京', '報導', '報導', '子公司', '沈慶京', '哲因', '哲因', '沈慶京', '關鍵', '有罪', '沈慶京', '沈慶京', '關鍵', '有罪', '沈慶京', '京華城', '關鍵', '獨家', '獨家', '京華城', '子公司', '京華城', '提訊', '提訊', '報導', '獨家', '有罪', '有罪', '關鍵', '有罪', '有罪', '有罪']\n",
      "36\n"
     ]
    }
   ],
   "source": [
    "import re\n",
    "import jieba.analyse\n",
    "\n",
    "# 讀取停用詞\n",
    "with open(r'./stopword.txt', 'r', encoding='utf-8') as file:\n",
    "    stopword = file.read().splitlines() # BIF splitlines\n",
    "    # print(stopword)\n",
    "\n",
    "# 合併標題和描述，\\n 是方便閱讀，可以不用加\n",
    "all_content = \"\"\n",
    "for item in loaded_result:\n",
    "    all_content += item['title'] + \"\\n\"\n",
    "    if 'desc' in item:\n",
    "        all_content += item['desc'] + \"\\n\"\n",
    "    all_content += \"\\n\"\n",
    "\n",
    "# print(\"原始內容:\")\n",
    "# print(all_content)\n",
    "\n",
    "print(\"斷詞結果:\")\n",
    "seg_list = jieba.lcut(all_content)\n",
    "print(seg_list)\n",
    "print(\"--\"*60)\n",
    "\n",
    "# 原本的正則表達式\n",
    "# english_pattern = re.compile(r'^[a-zA-Z]+$')\n",
    "\n",
    "# def is_english(text):\n",
    "#     return bool(english_pattern.match(text))\n",
    "\n",
    "# 過濾停用詞和空白字符\n",
    "filtered_words = []\n",
    "for word in seg_list:\n",
    "    # 去除詞的前後空白 跟上面產生的 \\n\n",
    "    cleaned_word = word.strip()\n",
    "    \n",
    "    cleaned_word = re.sub(r'[^\\u4e00-\\u9fffA-Za-z0-9\\s]', '', cleaned_word)\n",
    "    # re.sub(pattern, repl, string, count=0)\n",
    "    # 檢查詞是否為空且不在停用詞列表中\n",
    "    if cleaned_word and cleaned_word not in stopword:\n",
    "        filtered_words.append(cleaned_word)\n",
    "\n",
    "print('過濾後的結果: ')\n",
    "print(len(filtered_words))\n",
    "print(\"--\"*60)\n",
    "\n",
    "# 使用 jieba TF-IDF 算法提取關鍵詞\n",
    "tags = jieba.analyse.extract_tags(\"\".join(filtered_words), topK=10, withWeight=True)\n",
    "\n",
    "# print(\"\\n提取的關鍵詞:\")\n",
    "# print(\"Tags type:\", type(tags))\n",
    "# print(\"Tags content:\", tags)\n",
    "\n",
    "top_50_tags = [tag for tag, _ in tags]\n",
    "\n",
    "second_filtered_words = []\n",
    "print(\"\\nTF-IDF 關鍵詞及其權重:\")\n",
    "for tag_tuple in tags:\n",
    "    tag = tag_tuple[0]\n",
    "    weight = tag_tuple[1]\n",
    "    print(f\"{tag}: {int(weight * 10000)}\")\n",
    "    \n",
    "for word in filtered_words:\n",
    "    if word in top_50_tags:\n",
    "        second_filtered_words.append(word)\n",
    "\n",
    "# 使用 TextRank 算法提取關鍵詞\n",
    "textrank_tags = jieba.analyse.textrank(\"\".join(filtered_words), topK=10, withWeight=True)\n",
    "\n",
    "# print(\"\\nTextRank 提取的關鍵詞:\")\n",
    "# print(\"TextRank Tags type:\", type(textrank_tags))\n",
    "# print(\"TextRank Tags content:\", textrank_tags)\n",
    "\n",
    "top_50_textrank_tags = [tag for tag, _ in textrank_tags]\n",
    "\n",
    "third_filtered_words = []\n",
    "print(\"\\nTextRank 關鍵詞及其權重:\")\n",
    "for tag_tuple in textrank_tags:\n",
    "    tag = tag_tuple[0]\n",
    "    weight = tag_tuple[1]\n",
    "    print(f\"{tag}: {weight:.4f}\")\n",
    "    \n",
    "for word in filtered_words:\n",
    "    if word in top_50_textrank_tags:\n",
    "        third_filtered_words.append(word)\n",
    "\n",
    "print(\"--\"*60)\n",
    "print(\"第一種過濾後的結果 (TF-IDF): \")\n",
    "print(second_filtered_words)\n",
    "print(len(second_filtered_words))\n",
    "\n",
    "print(\"--\"*60)\n",
    "print(\"第二種過濾後的結果 (TextRank): \")\n",
    "print(third_filtered_words)\n",
    "print(len(third_filtered_words))\n",
    "        \n",
    "# You can choose which filtered words to use for further processing\n",
    "# filtered_words = second_filtered_words  # Using TF-IDF results\n",
    "# filtered_words = third_filtered_words  # Using TextRank results\n"
   ]
  },
  {
   "cell_type": "markdown",
   "metadata": {},
   "source": [
    "\n",
    "   - `^` 表示字符串的開始\n",
    "   - `[a-zA-Z]` 表示任何英文字母（大寫或小寫）\n",
    "   - `+` 表示前面的字符至少出現一次\n",
    "   - `$` 表示字符串的結束\n",
    "   -  `.*`：匹配任意字符（除換行符外）零次或多次"
   ]
  },
  {
   "cell_type": "code",
   "execution_count": null,
   "metadata": {},
   "outputs": [],
   "source": [
    "import re\n",
    "\n",
    "english_pattern = re.compile(r'^[a-zA-Z]+$')\n",
    "\n",
    "def process_text(text):\n",
    "    return bool(english_pattern.match(text))\n",
    "\n"
   ]
  },
  {
   "cell_type": "code",
   "execution_count": null,
   "metadata": {},
   "outputs": [],
   "source": []
  },
  {
   "cell_type": "markdown",
   "metadata": {},
   "source": [
    "# 計算文字出現次數"
   ]
  },
  {
   "cell_type": "code",
   "execution_count": 84,
   "metadata": {},
   "outputs": [
    {
     "name": "stdout",
     "output_type": "stream",
     "text": [
      "Counter({'柯文': 18, '民眾': 7, '偵辦': 5, '主席': 5, '沈慶京': 5, '政治': 4, '廉政': 4, '蔡壁': 4, '今晚': 3, '議員': 3, '社會局': 2, '假動土': 2, '建照': 2, '軍令狀': 2, '搶救': 2, '弊案': 2, '疑有料': 2, '服務': 2, '分鐘': 2, '獻金': 2, '立委': 2, '羈押': 2, '高雄場': 2, '登場': 2, '國昌': 2, '黨戶': 2, '開講': 2, '小時': 2, '哲弊': 2, '案延燒': 2, '沈慶京轉': 2, '點證': 2, '機率': 2, '小平酸': 2, '不要命': 2, '上吐下': 2, '還不招': 2, '阿北爛': 2, '留給': 2, '驚爆': 2, '新聞線': 2, '20240920': 2, '立新': 2, '聞台': 2, '市府': 2, '假開工': 2, '民視': 2, '新聞': 2, '2022': 2, '1500': 2})\n",
      "<class 'collections.Counter'>\n",
      "['__add__', '__and__', '__class__', '__class_getitem__', '__contains__', '__delattr__', '__delitem__', '__dict__', '__dir__', '__doc__', '__eq__', '__format__', '__ge__', '__getattribute__', '__getitem__', '__getstate__', '__gt__', '__hash__', '__iadd__', '__iand__', '__init__', '__init_subclass__', '__ior__', '__isub__', '__iter__', '__le__', '__len__', '__lt__', '__missing__', '__module__', '__ne__', '__neg__', '__new__', '__or__', '__pos__', '__reduce__', '__reduce_ex__', '__repr__', '__reversed__', '__ror__', '__setattr__', '__setitem__', '__sizeof__', '__str__', '__sub__', '__subclasshook__', '__weakref__', '_keep_positive', 'clear', 'copy', 'elements', 'fromkeys', 'get', 'items', 'keys', 'most_common', 'pop', 'popitem', 'setdefault', 'subtract', 'total', 'update', 'values']\n",
      "------------------------------------------------------------------------------------------------------------------------\n",
      "word_count.items():\n",
      "dict_items([('柯文', 18), ('政治', 4), ('廉政', 4), ('偵辦', 5), ('民眾', 7), ('主席', 5), ('社會局', 2), ('假動土', 2), ('建照', 2), ('軍令狀', 2), ('搶救', 2), ('沈慶京', 5), ('弊案', 2), ('疑有料', 2), ('服務', 2), ('分鐘', 2), ('獻金', 2), ('立委', 2), ('蔡壁', 4), ('羈押', 2), ('高雄場', 2), ('今晚', 3), ('登場', 2), ('議員', 3), ('國昌', 2), ('黨戶', 2), ('開講', 2), ('小時', 2), ('哲弊', 2), ('案延燒', 2), ('沈慶京轉', 2), ('點證', 2), ('機率', 2), ('小平酸', 2), ('不要命', 2), ('上吐下', 2), ('還不招', 2), ('阿北爛', 2), ('留給', 2), ('驚爆', 2), ('新聞線', 2), ('20240920', 2), ('立新', 2), ('聞台', 2), ('市府', 2), ('假開工', 2), ('民視', 2), ('新聞', 2), ('2022', 2), ('1500', 2)])\n",
      "<class 'dict_items'>\n",
      "------------------------------------------------------------------------------------------------------------------------\n",
      "word_count_dict:\n",
      "OrderedDict({'柯文': 18, '民眾': 7, '偵辦': 5, '主席': 5, '沈慶京': 5, '政治': 4, '廉政': 4, '蔡壁': 4, '今晚': 3, '議員': 3, '社會局': 2, '假動土': 2, '建照': 2, '軍令狀': 2, '搶救': 2, '弊案': 2, '疑有料': 2, '服務': 2, '分鐘': 2, '獻金': 2, '立委': 2, '羈押': 2, '高雄場': 2, '登場': 2, '國昌': 2, '黨戶': 2, '開講': 2, '小時': 2, '哲弊': 2, '案延燒': 2, '沈慶京轉': 2, '點證': 2, '機率': 2, '小平酸': 2, '不要命': 2, '上吐下': 2, '還不招': 2, '阿北爛': 2, '留給': 2, '驚爆': 2, '新聞線': 2, '20240920': 2, '立新': 2, '聞台': 2, '市府': 2, '假開工': 2, '民視': 2, '新聞': 2, '2022': 2, '1500': 2})\n",
      "<class 'collections.OrderedDict'>\n",
      "字典數量: 50\n",
      "------------------------------------------------------------------------------------------------------------------------\n"
     ]
    }
   ],
   "source": [
    "# 使用 BIF Counter 計算詞頻\n",
    "word_count = Counter(filtered_words)\n",
    "print(word_count)\n",
    "print(type(word_count))\n",
    "print(dir(word_count))\n",
    "\n",
    "print(\"--\"*60)\n",
    "\n",
    "print(\"word_count.items():\")\n",
    "print(word_count.items())\n",
    "print(type(word_count.items()))\n",
    "\n",
    "print(\"--\"*60)\n",
    "\n",
    "# 將 word_count 轉換為 dict\n",
    "# word_count_dict = dict(word_count)\n",
    "# 欸？ counter 轉 dict 後，key 的順序改變了\n",
    "\n",
    "from collections import OrderedDict\n",
    "word_count_dict = OrderedDict(word_count.most_common())\n",
    "\n",
    "print(\"word_count_dict:\")\n",
    "print(word_count_dict)\n",
    "print(type(word_count_dict))\n",
    "print(f\"字典數量: {len(word_count_dict)}\")\n",
    "print(\"--\"*60)\n",
    "\n",
    " "
   ]
  },
  {
   "cell_type": "markdown",
   "metadata": {},
   "source": [
    "# 從字典取出資料"
   ]
  },
  {
   "cell_type": "markdown",
   "metadata": {},
   "source": [
    "字典可以使用的方法\n",
    "['clear', 'copy', 'fromkeys', 'get', 'items', 'keys', \n",
    "\n",
    "'pop', 'popitem', 'setdefault', 'update', 'values']\n"
   ]
  },
  {
   "cell_type": "code",
   "execution_count": 85,
   "metadata": {},
   "outputs": [
    {
     "name": "stdout",
     "output_type": "stream",
     "text": [
      "------------------------------------------------------------------------------------------------------------------------\n",
      "柯文 18\n",
      "民眾 7\n",
      "偵辦 5\n",
      "主席 5\n",
      "沈慶京 5\n",
      "政治 4\n",
      "廉政 4\n",
      "蔡壁 4\n",
      "今晚 3\n",
      "議員 3\n",
      "社會局 2\n",
      "假動土 2\n",
      "建照 2\n",
      "軍令狀 2\n",
      "搶救 2\n",
      "弊案 2\n",
      "疑有料 2\n",
      "服務 2\n",
      "分鐘 2\n",
      "獻金 2\n",
      "立委 2\n",
      "羈押 2\n",
      "高雄場 2\n",
      "登場 2\n",
      "國昌 2\n",
      "黨戶 2\n",
      "開講 2\n",
      "小時 2\n",
      "哲弊 2\n",
      "案延燒 2\n",
      "沈慶京轉 2\n",
      "點證 2\n",
      "機率 2\n",
      "小平酸 2\n",
      "不要命 2\n",
      "上吐下 2\n",
      "還不招 2\n",
      "阿北爛 2\n",
      "留給 2\n",
      "驚爆 2\n",
      "新聞線 2\n",
      "20240920 2\n",
      "立新 2\n",
      "聞台 2\n",
      "市府 2\n",
      "假開工 2\n",
      "民視 2\n",
      "新聞 2\n",
      "2022 2\n",
      "1500 2\n",
      "['柯文', '民眾', '偵辦', '主席', '沈慶京', '政治', '廉政', '蔡壁', '今晚', '議員', '社會局', '假動土', '建照', '軍令狀', '搶救', '弊案', '疑有料', '服務', '分鐘', '獻金', '立委', '羈押', '高雄場', '登場', '國昌', '黨戶', '開講', '小時', '哲弊', '案延燒', '沈慶京轉', '點證', '機率', '小平酸', '不要命', '上吐下', '還不招', '阿北爛', '留給', '驚爆', '新聞線', '20240920', '立新', '聞台', '市府', '假開工', '民視', '新聞', '2022', '1500']\n",
      "[18, 7, 5, 5, 5, 4, 4, 4, 3, 3, 2, 2, 2, 2, 2, 2, 2, 2, 2, 2, 2, 2, 2, 2, 2, 2, 2, 2, 2, 2, 2, 2, 2, 2, 2, 2, 2, 2, 2, 2, 2, 2, 2, 2, 2, 2, 2, 2, 2, 2]\n",
      "------------------------------------------------------------------------------------------------------------------------\n"
     ]
    }
   ],
   "source": [
    "# print(dir(word_count_dict))\n",
    "# print(word_count_dict.items())\n",
    "# print(type(word_count_dict.items()))\n",
    "# print(word_count_dict.keys())\n",
    "# words = list(word_count_dict.keys())\n",
    "# counts = list(word_count_dict.values())\n",
    "\n",
    "# items ===> 同時取出 key 和 value 就可以直接加入 dataframe\n",
    "\n",
    "words = []\n",
    "counts = []\n",
    "\n",
    "print(\"--\"*60)\n",
    "\n",
    "for key in word_count_dict:\n",
    "    print(key, word_count_dict[key])\n",
    "    words.append(key)\n",
    "    counts.append(word_count_dict[key])\n",
    "\n",
    "# words = [key for key in word_count_dict]\n",
    "# counts = [word_count_dict[key] for key in word_count_dict]\n",
    "\n",
    "print(words)\n",
    "print(counts)\n",
    "\n",
    "print(\"--\"*60)"
   ]
  },
  {
   "cell_type": "markdown",
   "metadata": {},
   "source": [
    "# 使用 Pandas 排序呈現資料"
   ]
  },
  {
   "cell_type": "markdown",
   "metadata": {},
   "source": [
    "練習用 Series 方式加入\n"
   ]
  },
  {
   "cell_type": "code",
   "execution_count": 86,
   "metadata": {},
   "outputs": [
    {
     "name": "stdout",
     "output_type": "stream",
     "text": [
      "<class 'pandas.core.series.Series'>\n",
      "Index: 50 entries, 柯文 to 1500\n",
      "Series name: 一維陣列詞頻Series\n",
      "Non-Null Count  Dtype\n",
      "--------------  -----\n",
      "50 non-null     int64\n",
      "dtypes: int64(1)\n",
      "memory usage: 800.0+ bytes\n",
      "None\n",
      "<bound method NDFrame.head of 柯文          18\n",
      "民眾           7\n",
      "偵辦           5\n",
      "主席           5\n",
      "沈慶京          5\n",
      "政治           4\n",
      "廉政           4\n",
      "蔡壁           4\n",
      "今晚           3\n",
      "議員           3\n",
      "社會局          2\n",
      "假動土          2\n",
      "建照           2\n",
      "軍令狀          2\n",
      "搶救           2\n",
      "弊案           2\n",
      "疑有料          2\n",
      "服務           2\n",
      "分鐘           2\n",
      "獻金           2\n",
      "立委           2\n",
      "羈押           2\n",
      "高雄場          2\n",
      "登場           2\n",
      "國昌           2\n",
      "黨戶           2\n",
      "開講           2\n",
      "小時           2\n",
      "哲弊           2\n",
      "案延燒          2\n",
      "沈慶京轉         2\n",
      "點證           2\n",
      "機率           2\n",
      "小平酸          2\n",
      "不要命          2\n",
      "上吐下          2\n",
      "還不招          2\n",
      "阿北爛          2\n",
      "留給           2\n",
      "驚爆           2\n",
      "新聞線          2\n",
      "20240920     2\n",
      "立新           2\n",
      "聞台           2\n",
      "市府           2\n",
      "假開工          2\n",
      "民視           2\n",
      "新聞           2\n",
      "2022         2\n",
      "1500         2\n",
      "Name: 一維陣列詞頻Series, dtype: int64>\n",
      "------------------------------------------------------------------------------------------------------------------------\n"
     ]
    }
   ],
   "source": [
    "# 創建一個 pandas Series，使用單字作為索引，詞頻作為值\n",
    "word_count_series = pd.Series(data=counts, index=words, name='一維陣列詞頻Series')\n",
    "print(word_count_series.info())\n",
    "print(word_count_series.head)\n",
    "print(\"--\"*60)"
   ]
  },
  {
   "cell_type": "code",
   "execution_count": 87,
   "metadata": {},
   "outputs": [
    {
     "name": "stdout",
     "output_type": "stream",
     "text": [
      "<class 'pandas.core.series.Series'>\n",
      "RangeIndex: 50 entries, 0 to 49\n",
      "Series name: 一維陣列文字Series\n",
      "Non-Null Count  Dtype \n",
      "--------------  ----- \n",
      "50 non-null     object\n",
      "dtypes: object(1)\n",
      "memory usage: 532.0+ bytes\n",
      "None\n",
      "------------------------------------------------------------------------------------------------------------------------\n",
      "0     柯文\n",
      "1     民眾\n",
      "2     偵辦\n",
      "3     主席\n",
      "4    沈慶京\n",
      "Name: 一維陣列文字Series, dtype: object\n"
     ]
    }
   ],
   "source": [
    "word_text_series = pd.Series(data=words, name='一維陣列文字Series')\n",
    "print(word_text_series.info())\n",
    "\n",
    "print(\"--\"*60)\n",
    "print(word_text_series.head())"
   ]
  },
  {
   "cell_type": "code",
   "execution_count": 88,
   "metadata": {},
   "outputs": [
    {
     "name": "stdout",
     "output_type": "stream",
     "text": [
      "<class 'pandas.core.frame.DataFrame'>\n",
      "RangeIndex: 50 entries, 0 to 49\n",
      "Data columns (total 2 columns):\n",
      " #   Column  Non-Null Count  Dtype \n",
      "---  ------  --------------  ----- \n",
      " 0   word    50 non-null     object\n",
      " 1   count   50 non-null     int64 \n",
      "dtypes: int64(1), object(1)\n",
      "memory usage: 932.0+ bytes\n",
      "None\n",
      "  word  count\n",
      "0   柯文     18\n",
      "1   民眾      7\n",
      "2   偵辦      5\n",
      "3   主席      5\n",
      "4  沈慶京      5\n"
     ]
    }
   ],
   "source": [
    "# 將單一 Series 轉換為 DataFrame\n",
    "df = word_count_series.reset_index()\n",
    "df.columns = ['word', 'count']  # 重命名列\n",
    "print(df.info())\n",
    "print(df.head())"
   ]
  },
  {
   "cell_type": "code",
   "execution_count": 89,
   "metadata": {},
   "outputs": [
    {
     "name": "stdout",
     "output_type": "stream",
     "text": [
      "<class 'pandas.core.frame.DataFrame'>\n",
      "RangeIndex: 50 entries, 0 to 49\n",
      "Data columns (total 2 columns):\n",
      " #   Column  Non-Null Count  Dtype \n",
      "---  ------  --------------  ----- \n",
      " 0   word    50 non-null     object\n",
      " 1   count   50 non-null     int64 \n",
      "dtypes: int64(1), object(1)\n",
      "memory usage: 932.0+ bytes\n",
      "None\n",
      "DataFrame 預覽：\n",
      "  word  count\n",
      "0   柯文     18\n",
      "1   民眾      7\n",
      "2   偵辦      5\n",
      "3   主席      5\n",
      "4  沈慶京      5\n"
     ]
    }
   ],
   "source": [
    "# 將多個 Series 轉換為 DataFrame\n",
    "\n",
    "# 重置兩個 Series 的索引\n",
    "word_text_series = word_text_series.reset_index(drop=True)\n",
    "word_count_series = word_count_series.reset_index(drop=True)\n",
    "\n",
    "# 使用 concat 創建 DataFrame\n",
    "df = pd.concat([word_text_series, word_count_series], axis=1)\n",
    "\n",
    "# 重命名列\n",
    "df.columns = ['word', 'count']\n",
    "\n",
    "# 顯示 DataFrame 的資訊\n",
    "print(df.info())\n",
    "\n",
    "# 顯示 DataFrame 的前幾行\n",
    "print(\"DataFrame 預覽：\")\n",
    "print(df.head())\n",
    "\n",
    "# # 如果需要，可以按計數降序排序\n",
    "# df_sorted = df.sort_values('count', ascending=False).reset_index(drop=True)\n",
    "\n",
    "# # 顯示排序後的 DataFrame 前幾行\n",
    "# print(\"\\n排序後：\")\n",
    "# print(df_sorted.head())\n",
    "\n"
   ]
  },
  {
   "cell_type": "code",
   "execution_count": 90,
   "metadata": {},
   "outputs": [
    {
     "name": "stdout",
     "output_type": "stream",
     "text": [
      "df2:\n",
      "        word  count\n",
      "0         柯文     18\n",
      "1         民眾      7\n",
      "2         偵辦      5\n",
      "3         主席      5\n",
      "4        沈慶京      5\n",
      "5         政治      4\n",
      "6         廉政      4\n",
      "7         蔡壁      4\n",
      "8         今晚      3\n",
      "9         議員      3\n",
      "10       社會局      2\n",
      "11       假動土      2\n",
      "12        建照      2\n",
      "13       軍令狀      2\n",
      "14        搶救      2\n",
      "15        弊案      2\n",
      "16       疑有料      2\n",
      "17        服務      2\n",
      "18        分鐘      2\n",
      "19        獻金      2\n",
      "20        立委      2\n",
      "21        羈押      2\n",
      "22       高雄場      2\n",
      "23        登場      2\n",
      "24        國昌      2\n",
      "25        黨戶      2\n",
      "26        開講      2\n",
      "27        小時      2\n",
      "28        哲弊      2\n",
      "29       案延燒      2\n",
      "30      沈慶京轉      2\n",
      "31        點證      2\n",
      "32        機率      2\n",
      "33       小平酸      2\n",
      "34       不要命      2\n",
      "35       上吐下      2\n",
      "36       還不招      2\n",
      "37       阿北爛      2\n",
      "38        留給      2\n",
      "39        驚爆      2\n",
      "40       新聞線      2\n",
      "41  20240920      2\n",
      "42        立新      2\n",
      "43        聞台      2\n",
      "44        市府      2\n",
      "45       假開工      2\n",
      "46        民視      2\n",
      "47        新聞      2\n",
      "48      2022      2\n",
      "49      1500      2\n",
      "------------------------------------------------------------------------------------------------------------------------\n",
      "\n",
      "df_sorted 資料結構:\n",
      "<class 'pandas.core.frame.DataFrame'>\n",
      "RangeIndex: 50 entries, 0 to 49\n",
      "Data columns (total 2 columns):\n",
      " #   Column  Non-Null Count  Dtype \n",
      "---  ------  --------------  ----- \n",
      " 0   word    50 non-null     object\n",
      " 1   count   50 non-null     int64 \n",
      "dtypes: int64(1), object(1)\n",
      "memory usage: 932.0+ bytes\n",
      "None\n",
      "\n",
      "df_sorted:\n",
      "<bound method NDFrame.head of         word  count\n",
      "0         柯文     18\n",
      "1         民眾      7\n",
      "2         偵辦      5\n",
      "3         主席      5\n",
      "4        沈慶京      5\n",
      "5         政治      4\n",
      "6         廉政      4\n",
      "7         蔡壁      4\n",
      "8         議員      3\n",
      "9         今晚      3\n",
      "10        驚爆      2\n",
      "11        機率      2\n",
      "12       小平酸      2\n",
      "13       不要命      2\n",
      "14       上吐下      2\n",
      "15       還不招      2\n",
      "16       阿北爛      2\n",
      "17        留給      2\n",
      "18        市府      2\n",
      "19       新聞線      2\n",
      "20  20240920      2\n",
      "21        立新      2\n",
      "22        聞台      2\n",
      "23      沈慶京轉      2\n",
      "24       假開工      2\n",
      "25        民視      2\n",
      "26        新聞      2\n",
      "27      2022      2\n",
      "28        點證      2\n",
      "29        黨戶      2\n",
      "30       案延燒      2\n",
      "31        哲弊      2\n",
      "32       社會局      2\n",
      "33       假動土      2\n",
      "34        建照      2\n",
      "35       軍令狀      2\n",
      "36        搶救      2\n",
      "37        弊案      2\n",
      "38       疑有料      2\n",
      "39        服務      2\n",
      "40        分鐘      2\n",
      "41        獻金      2\n",
      "42        立委      2\n",
      "43        羈押      2\n",
      "44       高雄場      2\n",
      "45        登場      2\n",
      "46        國昌      2\n",
      "47        開講      2\n",
      "48        小時      2\n",
      "49      1500      2>\n",
      "\n",
      "df_sorted 索引:\n",
      "RangeIndex(start=0, stop=50, step=1)\n"
     ]
    }
   ],
   "source": [
    "# 將字典轉 list 放入 DataFrame\n",
    "df2 = pd.DataFrame(list(word_count_dict.items()), columns=['word', 'count'])\n",
    "\n",
    "\n",
    "# df_sorted_org = df.sort_values(by='count', ascending=False)\n",
    "df_sorted = df2.sort_values(by='count', ascending=False).reset_index(drop=True)\n",
    "\n",
    "print(\"df2:\")\n",
    "print(df2)\n",
    "print(\"--\"*60)\n",
    "print(\"\\ndf_sorted 資料結構:\")\n",
    "print(df_sorted.info())\n",
    "print(\"\\ndf_sorted:\")\n",
    "print(df_sorted.head)\n",
    "print(\"\\ndf_sorted 索引:\")\n",
    "print(df_sorted.index)\n"
   ]
  },
  {
   "cell_type": "markdown",
   "metadata": {},
   "source": [
    "# 製作文字雲圖片遮罩"
   ]
  },
  {
   "cell_type": "code",
   "execution_count": 176,
   "metadata": {},
   "outputs": [
    {
     "name": "stdout",
     "output_type": "stream",
     "text": [
      "/Users/larry/Github/Python-WordCloud/TaipeiSansTCBeta-Bold.ttf\n",
      "(540, 960)\n",
      "[[0. 0. 0. ... 0. 0. 0.]\n",
      " [0. 0. 0. ... 0. 0. 0.]\n",
      " [0. 0. 0. ... 0. 0. 0.]\n",
      " ...\n",
      " [0. 0. 0. ... 0. 0. 0.]\n",
      " [0. 0. 0. ... 0. 0. 0.]\n",
      " [0. 0. 0. ... 0. 0. 0.]]\n"
     ]
    },
    {
     "data": {
      "image/png": "[encoded data removed]",
      "text/plain": [
       "<Figure size 1000x500 with 2 Axes>"
      ]
     },
     "metadata": {},
     "output_type": "display_data"
    },
    {
     "name": "stdout",
     "output_type": "stream",
     "text": [
      "原始x色像素數量：144292，總像素數：1555200（佔比：9.28%）\n",
      "處理後x色像素數量：144292，總像素數：1555200（佔比：9.28%）\n"
     ]
    }
   ],
   "source": [
    "# 正常圖片版本\n",
    "\n",
    "# from PIL import ImageOps # 反轉黑白\n",
    "# ImageOps.invert()\n",
    "\n",
    "# 詢問使用者字體檔案路徑\n",
    "# font_path_input = input(\"請輸入中文字體的檔案路徑: \")\n",
    "font_path_input = \"/Users/larry/Github/Python-WordCloud/TaipeiSansTCBeta-Bold.ttf\"\n",
    "print(font_path_input)\n",
    "\n",
    "# 文字雲圖片遮罩檔案路徑\n",
    "img_path = \"./Mask_Image/Messenge_mask.png\"\n",
    "\n",
    "\n",
    "mask_color = np.array((Image.open(img_path).convert(\"RGB\")).resize((960, 540)))\n",
    "# mask_color = mask_color[::2, ::2]\n",
    "\n",
    "total_pixels = mask_color.size\n",
    "# total_pixels = mask_image.shape[0] * mask_image.shape[1]\n",
    "\n",
    "org_filtered_pixels = np.sum(np.all(mask_color == 0, axis=2))\n",
    "\n",
    "mask_image = mask_color.copy()\n",
    "\n",
    "threshold = 20 # 根據圖片調整閾值\n",
    "mask_image[np.all(mask_image > threshold, axis=2)] = 255\n",
    "# 只要是（偏）()色區域，都設為()色\n",
    "filtered_pixels = np.sum(np.all(mask_image == 0, axis=2))\n",
    "\n",
    "# 邊緣檢測 (進階用法，此部分為當初課堂老師提供)\n",
    "# 我的理解：將三個顏色通道做了某個處理，然後將三個通道的結果累加，最後除以 3 得到平均值\n",
    "edges = np.mean([gaussian_gradient_magnitude(mask_image[:, :, i] / 255., 1) for i in range(3)], axis=0)\n",
    "print(edges.shape)\n",
    "print(edges)\n",
    "# 使用平均值作為閾值\n",
    "threshold = edges.mean() * 0.2\n",
    "mask_image[edges > threshold] = 255\n",
    "\n",
    "\n",
    "fig, (ax1, ax2) = plt.subplots(1, 2, figsize=(10, 5))\n",
    "# 顯示原始遮罩圖片\n",
    "ax1.imshow(mask_color)\n",
    "ax1.set_title(\"Original Mask\")\n",
    "ax1.axis('off')\n",
    "\n",
    "# 顯示處理後的遮罩圖片\n",
    "ax2.imshow(mask_image)\n",
    "ax2.set_title(\"Processed Mask\")\n",
    "ax2.axis('off')\n",
    "\n",
    "plt.tight_layout()\n",
    "plt.show()\n",
    "\n",
    "\n",
    "\n",
    "\n",
    "print(f\"原始x色像素數量：{org_filtered_pixels}，總像素數：{total_pixels}（佔比：{org_filtered_pixels/total_pixels*100:.2f}%）\")\n",
    "print(f\"處理後x色像素數量：{filtered_pixels}，總像素數：{total_pixels}（佔比：{filtered_pixels/total_pixels*100:.2f}%）\")\n",
    "\n",
    "# 將高於閾值的邊緣像素設為白色\n",
    "\n",
    "# 顏色生成\n",
    "image_colors = ImageColorGenerator(mask_image)\n",
    "# image_colors.default_color = [0.9,0.9,0.9]\n"
   ]
  },
  {
   "cell_type": "code",
   "execution_count": 1,
   "metadata": {},
   "outputs": [],
   "source": [
    "# 選擇黑色遮罩圖案練習處理圖片\n",
    "\n",
    "# # from PIL import ImageOps # 反轉黑白\n",
    "# # ImageOps.invert()\n",
    "\n",
    "# # 詢問使用者字體檔案路徑\n",
    "# # font_path_input = input(\"請輸入中文字體的檔案路徑: \")\n",
    "# font_path_input = \"/Users/larry/Github/Python-WordCloud/TaipeiSansTCBeta-Bold.ttf\"\n",
    "# print(font_path_input)\n",
    "# # 文字雲圖片遮罩檔案路徑\n",
    "# img_path = \"./Mask_Image/LeafDrak_mask.png\"\n",
    "\n",
    "# # 讀取遮罩圖片，轉換為 RGB，調整大小，然後轉換為 numpy 陣列\n",
    "# # mask_color = np.array(Image.open(img_path).convert(\"RGB\").resize((960, 540)))\n",
    "\n",
    "# # 轉灰階\n",
    "# mask_color = np.array((Image.open(img_path).convert(\"L\")).resize((960, 540)))\n",
    "# # 查看 mask_color 的類型和屬性\n",
    "# print(\"Type of mask_color:\", type(mask_color))\n",
    "# print(\"Shape of mask_color:\", mask_color.shape)\n",
    "# print(\"Data type of mask_color:\", mask_color.dtype)\n",
    "# # print(\"Attributes and methods of array:\", dir(mask_color))\n",
    "# total_pixels = mask_color.size\n",
    "# # org_filtered_pixels = np.sum(np.all(mask_image == 255, axis=2))\n",
    "# org_pixels = np.sum(mask_color == 255)\n",
    "\n",
    "# # 縮小\n",
    "# # # 每隔 n 個像素取一個像素\n",
    "# # # mask_color = mask_color[::4, ::4]\n",
    "\n",
    "# # # 放大（重複像素）\n",
    "# # mask_color_large = np.repeat(np.repeat(mask_color, 4, axis=0), 4, axis=1)\n",
    "\n",
    "# # 進行二次處理，保留灰階\n",
    "# mask_image = mask_color.copy()\n",
    "# # 不使用模組，numpy 反轉處理方式\n",
    "# # mask_image = 255 - mask_color\n",
    "# # 去噪應用\n",
    "# threshold1 = 190\n",
    "# threshold2 = 20\n",
    "# # mask_image[np.all(mask_image < threshold, axis=2)] = 255\n",
    "# mask_image[mask_image < threshold2] = 0\n",
    "# mask_image[mask_image > threshold1] = 255\n",
    "\n",
    "# # 只要是（偏）()色區域，都設為()色\n",
    "\n",
    "# # 高級用法，感謝 GPT 的解釋，真的是很厲害的做法....\n",
    "# # 0-255 變成 0-1 的數據，然後把 某個閾值以上的數據變成 1，剩下的變成 0\n",
    "# # 然後再次合成上去\n",
    "\n",
    "# # 對灰階圖像進行邊緣檢測\n",
    "\n",
    "# edges = gaussian_gradient_magnitude(mask_image, sigma=0.4)\n",
    "# # 設置邊緣閾值\n",
    "# edge_threshold = edges.mean()\n",
    "\n",
    "# # 創建邊緣遮罩 True 為 1，False 為 0 ---> 1 (資料格式)＊ 255 白色\n",
    "# edge_mask = (edges > edge_threshold).astype(np.uint8) * 255\n",
    "\n",
    "# # 將邊緣與原始遮罩結合\n",
    "# mask_image = np.maximum(mask_image, edge_mask)\n",
    "\n",
    "\n",
    "# # 三維陣列圖片邊緣檢測 (進階用法，此部分為當初課堂老師提供，要有一定的 numpy 操作陣列觀念後，才比較了解這個做法)\n",
    "\n",
    "# # 我的理解：將三個顏色通道做了某個處理，然後將三個通道的結果累加，最後除以 3 得到平均值\n",
    "# # edges = np.mean([gaussian_gradient_magnitude(mask_color[:, :, i] / 255., 2) for i in range(3)], axis=0)\n",
    "\n",
    "\n",
    "# fig, (ax1, ax2) = plt.subplots(1, 2, figsize=(10, 5))\n",
    "# # 顯示原始遮罩圖片\n",
    "# ax1.imshow(mask_color, cmap='gray')\n",
    "# ax1.set_title(\"Original Mask\")\n",
    "# ax1.axis('off')\n",
    "\n",
    "# # 顯示處理後的遮罩圖片\n",
    "# ax2.imshow(mask_image, cmap='gray')\n",
    "# ax2.set_title(\"Processed Mask\")\n",
    "# ax2.axis('off')\n",
    "\n",
    "# plt.tight_layout()\n",
    "# plt.show()\n",
    "\n",
    "\n",
    "\n",
    "# # filtered_pixels = np.sum(np.all(mask_image == 255, axis=2))\n",
    "# filtered_pixels = np.sum(mask_image == 255)\n",
    "# # total_pixels = mask_image.shape[0] * mask_image.shape[1]\n",
    "\n",
    "\n",
    "# print(f\"原始x色像素數量：{org_pixels}，總像素數：{total_pixels}（佔比：{org_pixels/total_pixels*100:.2f}%）\")\n",
    "# print(f\"處理後x色像素數量：{filtered_pixels}，總像素數：{total_pixels}（佔比：{filtered_pixels/total_pixels*100:.2f}%）\")\n",
    "\n",
    "# # 將高於閾值的邊緣像素設為白色\n",
    "\n",
    "# # 顏色生成\n",
    "# # image_colors = ImageColorGenerator(mask_image)\n",
    "# # image_colors.default_color = [0.9,0.9,0.9]\n"
   ]
  },
  {
   "cell_type": "markdown",
   "metadata": {},
   "source": [
    "\"\"\"\n",
    "\n",
    "AI 回覆的內容，關於邊緣檢測：\n",
    "\n",
    "這個版本的代碼做了以下事情：\n",
    "\n",
    "1. 創建一個與單個顏色通道相同大小的零矩陣。\n",
    "2. 遍歷三個顏色通道（RGB）。\n",
    "3. 對每個通道計算高斯梯度幅值。\n",
    "4. 將每個通道的梯度累加到 `edges` 矩陣中。\n",
    "5. 最後，將累加的結果除以 3 來獲得平均值。\n",
    "\n",
    "這個方法實現了與原始代碼相同的功能，但避免了使用列表推導式和 `np.mean` 的 `axis` 參數，可能更容易理解每一步在做什麼。最後，仍然將高於閾值的邊緣像素設為白色，以在遮罩中突出顯示邊緣。\n",
    "\n",
    "\n",
    "- 高斯梯度幅值越低 → 越可能是平滑區域（非邊緣）\n",
    "\n",
    "- 高斯梯度幅值越高 → 越可能是邊緣\n",
    "\n",
    "我：邊緣設為白色不就是不明顯了嗎？\n",
    "\n",
    "您提出了一個很好的觀察。讓我解釋一下這個看似矛盾的做法的原因：\n",
    "\n",
    "1. 在生成詞雲的上下文中，白色（255）通常代表可以放置文字的區域。\n",
    "\n",
    "2. 將邊緣設為白色的目的不是為了在最終的詞雲中使邊緣更明顯，而是為了指導詞雲生成算法在哪裡可以放置文字。\n",
    "\n",
    "3. 通過將邊緣設為白色，我們實際上是告訴詞雲生成器：\"這些是圖像的重要特徵，你可以在這些地方放置文字\"。\n",
    "\n",
    "4. 這樣做的結果是，文字會傾向於沿著原始圖像的輪廓和主要特徵分布，而不是隨機分布或覆蓋重要的視覺元素。\n",
    "\n",
    "5. 在最終的詞雲中，這些邊緣不會直接可見，但它們會影響文字的排列方式，使得詞雲的整體形狀能夠反映原始圖像的輪廓。\n",
    "\n",
    "所以，雖然在遮罩圖像中邊緣被設為白色看起來不明顯，但這實際上是為了在生成詞雲時保留原始圖像的結構和形狀。最終的效果是，生成的詞雲會呈現出原始圖像的大致輪廓，而不是完全忽視圖像的特徵。\n",
    "\n",
    "如果您想要在最終的詞雲中使邊緣更加明顯，可以考慮相反的方法：將邊緣設為黑色或其他深色，這樣詞雲生成器就會避免在這些區域放置文字，從而在視覺上保留原始圖像的輪廓。\n",
    "\n",
    "\"\"\""
   ]
  },
  {
   "cell_type": "markdown",
   "metadata": {},
   "source": [
    "AI 回覆，關於 Pillow 的 Mode 參數\n",
    "\n",
    "\n",
    "1. \"L\" (Luminance) 模式：\n",
    "   - 每個像素用 0 到 255 的整數值表示，其中 0 是黑色，255 是白色。\n",
    "2. \"RGB\" (Red, Green, Blue) 模式：\n",
    "3. \"RGBA\" (Red, Green, Blue, Alpha) 模式：\n",
    "4. \"1\" (1-bit pixels, black and white) 模式：\n",
    "   - 每個像素只能是 0（黑）或 1（白）。\n",
    "\n",
    "<!-- 使用 Python Teseeract OCR OpenCV 模組處理圖片，有用過 -->"
   ]
  },
  {
   "cell_type": "code",
   "execution_count": 20,
   "metadata": {},
   "outputs": [
    {
     "name": "stdout",
     "output_type": "stream",
     "text": [
      "(540, 960, 3)\n"
     ]
    }
   ],
   "source": [
    "# 因為轉灰階變成二維，再轉回去三維\n",
    "print(mask_image.shape)\n",
    "if len(mask_image.shape) == 2:\n",
    "    mask_image = np.stack((mask_image) * 3, axis=-1)\n",
    "    print(mask_image.shape)\n",
    "    print(mask_image)"
   ]
  },
  {
   "cell_type": "code",
   "execution_count": 108,
   "metadata": {},
   "outputs": [
    {
     "data": {
      "image/png": "[encoded data removed]",
      "text/plain": [
       "<Figure size 1000x600 with 1 Axes>"
      ]
     },
     "metadata": {},
     "output_type": "display_data"
    },
    {
     "name": "stdout",
     "output_type": "stream",
     "text": [
      "Mask shape: (540, 960, 3)\n",
      "Mask dtype: uint8\n",
      "Mask min value: 0\n",
      "Mask max value: 255\n"
     ]
    },
    {
     "data": {
      "image/png": "[encoded data removed]",
      "text/plain": [
       "<Figure size 1500x500 with 4 Axes>"
      ]
     },
     "metadata": {},
     "output_type": "display_data"
    }
   ],
   "source": [
    "import matplotlib.pyplot as plt\n",
    "\n",
    "# 檢查轉換後的遮罩圖片\n",
    "plt.figure(figsize=(10, 6))\n",
    "plt.imshow(mask_image)\n",
    "plt.title(\"Mask Image\")\n",
    "plt.axis('off')\n",
    "plt.show()\n",
    "\n",
    "# 打印遮罩圖片的形狀和一些基本統計信息\n",
    "print(\"Mask shape:\", mask_image.shape)\n",
    "print(\"Mask dtype:\", mask_image.dtype)\n",
    "print(\"Mask min value:\", mask_image.min())\n",
    "print(\"Mask max value:\", mask_image.max())\n",
    "\n",
    "# 如果需要查看 RGB 通道\n",
    "fig, (ax1, ax2, ax3, ax4) = plt.subplots(1, 4, figsize=(15, 5))\n",
    "# 顯示完整的 RGB 圖像\n",
    "ax1.imshow(mask_image)\n",
    "ax1.set_title('Full RGB Image')\n",
    "ax1.axis('off')\n",
    "\n",
    "# 顯示紅色通道\n",
    "ax2.imshow(mask_image[:,:,0], cmap='Reds')\n",
    "ax2.set_title('Red Channel')\n",
    "ax2.axis('off')\n",
    "\n",
    "# 顯示綠色通道\n",
    "ax3.imshow(mask_image[:,:,1], cmap='Greens')\n",
    "ax3.set_title('Green Channel')\n",
    "ax3.axis('off')\n",
    "\n",
    "# 顯示藍色通道\n",
    "ax4.imshow(mask_image[:,:,2], cmap='Blues')\n",
    "ax4.set_title('Blue Channel')\n",
    "ax4.axis('off')\n",
    "\n",
    "plt.tight_layout()\n",
    "plt.show()"
   ]
  },
  {
   "cell_type": "markdown",
   "metadata": {},
   "source": [
    "# 生成文字雲"
   ]
  },
  {
   "cell_type": "code",
   "execution_count": 178,
   "metadata": {},
   "outputs": [
    {
     "data": {
      "image/png": "[encoded data removed]",
      "text/plain": [
       "<Figure size 640x480 with 1 Axes>"
      ]
     },
     "metadata": {},
     "output_type": "display_data"
    },
    {
     "name": "stdout",
     "output_type": "stream",
     "text": [
      "文字雲圖片已儲存為: ./img/20240920_柯文哲_title+desc_relative_scaling50%.png\n"
     ]
    }
   ],
   "source": [
    "# 生成文字雲\n",
    "\n",
    "# wordcloud = WordCloud(font_path=font_path_input, width=320, height=320,max_font_size=50,max_words=4000,color_func=image_colors).generate_from_frequencies(word_count)\n",
    "wordcloud = WordCloud(\n",
    "    font_path=font_path_input,\n",
    "    width=960,  # 增加寬度以提高畫質\n",
    "    height=540,  # 增加高度以提高畫質\n",
    "    mask=mask_image,\n",
    "    max_font_size=40,  # 增加最大字體大小\n",
    "    max_words=400,\n",
    "    # color_func=image_colors,\n",
    "    prefer_horizontal=0.9,  # 90% 的詞水平放置\n",
    "    scale=2,  # 增加縮放比例以提高畫質\n",
    "    min_font_size=10,  # 設置最小字體大小\n",
    "    background_color=\"black\",  # 設置背景顏色\n",
    "    mode=\"RGB\",\n",
    "    relative_scaling=0.3,  # 平衡詞頻和詞排名的重要性\n",
    "    collocations=True,  # 包含常見詞組\n",
    "    colormap=\"Spectral\",\n",
    "    contour_width=0.001,  # 添加輪廓以增強視覺效果\n",
    "    contour_color=\"white\"# 設置輪廓顏色\n",
    ").generate_from_frequencies(word_count_dict)\n",
    "plt.imshow(wordcloud)\n",
    "plt.axis(\"off\")\n",
    "plt.show()\n",
    "\n",
    "\n",
    "# 儲存文字雲圖片 檔案名稱格式化\n",
    "today = datetime.now().strftime('%Y%m%d')\n",
    "image_filename = f\"./img/{today}_{keyword}_title+desc_relative_scaling50%.png\"\n",
    "wordcloud.to_file(image_filename)\n",
    "print(f\"文字雲圖片已儲存為: {image_filename}\")"
   ]
  },
  {
   "cell_type": "markdown",
   "metadata": {},
   "source": [
    "## WordCloud 參數釐清\n",
    "\n",
    "AI 回覆的內容，關於參數說明：\n",
    "\n",
    "您提出了一個很好的問題，這確實需要進一步澄清。您是對的，排名通常是基於詞頻的，但它們在詞雲生成中的作用略有不同。讓我解釋得更清楚：\n",
    "\n",
    "1. 排名 vs 詞頻：\n",
    "   - 排名：詞的相對位置（第1常見、第2常見等）\n",
    "   - 詞頻：詞出現的實際次數\n",
    "\n",
    "2. 差異的重要性：\n",
    "   - 排名只反映相對順序，不顯示頻率差距\n",
    "   - 詞頻反映實際出現次數，顯示詞與詞之間的差距\n",
    "\n",
    "3. 舉例說明：\n",
    "   假設有三個詞：\n",
    "   - A：出現100次（排名1）\n",
    "   - B：出現99次（排名2）\n",
    "   - C：出現10次（排名3）\n",
    "\n",
    "   - 純基於排名（0.0）：A、B、C的大小差異很小\n",
    "   - 純基於詞頻（1.0）：A和B幾乎一樣大，C明顯小得多\n",
    "\n",
    "4. `relative_scaling` 的作用：\n",
    "   - 0.0：主要考慮排名，A、B、C大小差異不大\n",
    "   - 1.0：完全按詞頻，A、B很大且相近，C很小\n",
    "   - 0.5：平衡兩者，反映排名，也部分反映頻率差異\n",
    "\n",
    "所以，雖然排名確實基於詞頻，但 `relative_scaling` 參數允許您決定是更注重詞的相對順序（排名），還是更注重詞之間的實際頻率差異。這提供了在視覺呈現上的靈活性。"
   ]
  },
  {
   "cell_type": "markdown",
   "metadata": {},
   "source": [
    "# 其他資訊確認"
   ]
  },
  {
   "cell_type": "code",
   "execution_count": 23,
   "metadata": {},
   "outputs": [
    {
     "name": "stdout",
     "output_type": "stream",
     "text": [
      "Current working directory: /Users/larry/Github/Python-WordCloud\n",
      "Font file exists: True\n"
     ]
    }
   ],
   "source": [
    "import os\n",
    "\n",
    "print(\"Current working directory:\", os.getcwd())\n",
    "print(\"Font file exists:\", os.path.exists(font_path_input))"
   ]
  },
  {
   "cell_type": "markdown",
   "metadata": {},
   "source": [
    "(2024/09/17更新)\n",
    "\n",
    "- `get_news()` 函數目前返回的是 Google 頁面轉址連結\n",
    "- 參考 [SuYenTing/Python-web-crawler](https://github.com/SuYenTing/Python-web-crawler/blob/main/google_real_time_news.py) 專案，使用 google-news-url-decoder 模組解決轉址問題\n",
    "- `search()` 函數可以獲取真正的新聞網址\n",
    "- 非英文語言搜尋時，無法返回正確的 datetime 時間格式"
   ]
  }
 ],
 "metadata": {
  "interpreter": {
   "hash": "aee8b7b246df8f9039afb4144a1f6fd8d2ca17a180786b69acc140d282b71a49"
  },
  "kernelspec": {
   "display_name": "Python 3.9.7 64-bit",
   "name": "python3"
  },
  "language_info": {
   "codemirror_mode": {
    "name": "ipython",
    "version": 3
   },
   "file_extension": ".py",
   "mimetype": "text/x-python",
   "name": "python",
   "nbconvert_exporter": "python",
   "pygments_lexer": "ipython3",
   "version": "3.10.15"
  }
 },
 "nbformat": 4,
 "nbformat_minor": 4
}
