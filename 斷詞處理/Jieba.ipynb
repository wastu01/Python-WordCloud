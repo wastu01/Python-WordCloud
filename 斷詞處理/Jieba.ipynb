{
 "cells": [
  {
   "cell_type": "code",
   "execution_count": 2,
   "metadata": {},
   "outputs": [
    {
     "name": "stderr",
     "output_type": "stream",
     "text": [
      "Building prefix dict from /Users/larry/Github/Python-WordCloud/dict.txt.big.txt ...\n",
      "Loading model from cache /var/folders/bq/x7m_syf57yz69kw1ysgwhbv40000gp/T/jieba.u36d084f6b71142eeb6ef71bcd8718326.cache\n",
      "Dumping model to file cache /var/folders/bq/x7m_syf57yz69kw1ysgwhbv40000gp/T/jieba.u36d084f6b71142eeb6ef71bcd8718326.cache\n",
      "Loading model cost 0.464 seconds.\n",
      "Prefix dict has been built successfully.\n"
     ]
    },
    {
     "name": "stdout",
     "output_type": "stream",
     "text": [
      "精確模式: 我/來自/台灣/，/我/畢業/於/台灣/台中/教育/大學/數位/內容/科技/學系/，/目前/正在/研究/自然/語言/處理/，/以及/生成/式/AI/工具/，/請/多多/指教\n",
      "List 資料型態 :  ['我', '來自', '台灣', '，', '我', '畢業', '於', '台灣', '台中', '教育', '大學', '數位', '內容', '科技', '學系', '，', '目前', '正在', '研究', '自然', '語言', '處理', '，', '以及', '生成', '式', 'AI', '工具', '，', '請', '多多', '指教']\n",
      "全模式: 我來/來自/台灣/，/我/畢業/於/台灣/台灣台/台中/中教/教育/大學/數位/內容/科技/學系/，/目前/正在/研究/自然/語言/處理/，/以及/生成/式/AI/工具/，/請/多多/指教\n",
      "搜尋模式: 我/來自/台灣/，/我/畢業/於/台灣/台中/教育/大學/數位/內容/科技/學系/，/目前/正在/研究/自然/語言/處理/，/以及/生成/式/AI/工具/，/請/多多/指教\n",
      "關鍵詞: 台灣/來自/畢業/大學/數位\n",
      "篩選停用詞: \n",
      "['來自', '台灣', '畢業', '於', '台灣', '台中', '教育', '大學', '數位', '內容', '科技', '學系', '目前', '正在', '研究', '自然', '語言', '處理', '以及', '生成', '式', 'AI', '工具', '請', '多多', '指教']\n",
      "{'來自': 1, '台灣': 2, '畢業': 1, '台中': 1, '教育': 1, '大學': 1, '數位': 1, '內容': 1, '科技': 1, '學系': 1, '目前': 1, '正在': 1, '研究': 1, '自然': 1, '語言': 1, '處理': 1, '以及': 1, '生成': 1, 'AI': 1, '工具': 1, '多多': 1, '指教': 1}\n",
      "<class 'dict'>\n"
     ]
    }
   ],
   "source": [
    "# Jieba github\n",
    "# https://github.com/fxsjy/jieba?tab=readme-ov-file\n",
    "\n",
    "# @aaronlife 第二堂課：大數據分析實務-資料分析\n",
    "# https://hackmd.io/@aaronlife/python-bigdata-02\n",
    "\n",
    "# NLP\n",
    "# PPT\n",
    "# https://drive.google.com/drive/folders/1MoC3e_zf_nwMVtzWdDRPq_RqzI7q16Xe\n",
    "\n",
    "# 範例程式\n",
    "# https://colab.research.google.com/drive/1sLy3HbnkW8_Yc85FGRcr0VfgtckZIR7h#scrollTo=GhmNnyMRh5dV\n",
    "\n",
    "# 什麼是 NLP\n",
    "# https://aiacademy.tw/what-is-nlp-natural-language-processing/\n",
    "# 自然語言處理（ Natural Language Processing 簡稱 NLP）\n",
    "\n",
    "\n",
    "# 匯入 jieba 模組\n",
    "import jieba\n",
    "# 載入分析工具\n",
    "import jieba.analyse\n",
    "\n",
    "# 自訂繁體中文詞典\n",
    "WORDS_PATH = r'/Users/larry/Github/Python-WordCloud/dict.txt.big.txt' \n",
    "jieba.set_dictionary(WORDS_PATH)\n",
    "\n",
    "# 自訂專有名詞詞典\n",
    "# jieba.load_userdict(r'/Users/larry/Github/Python-WordCloud/專有名詞.txt')\n",
    "\n",
    "# 讀取停用詞\n",
    "with open(r'../stopword.txt', 'r', encoding='utf-8') as file:\n",
    "    stopword = file.read().splitlines() # BIF splitlines\n",
    "    # print(stopword)\n",
    "\n",
    "# 輸入資料\n",
    "sentence = '我來自台灣，我畢業於台灣台中教育大學數位內容科技學系，目前正在研究自然語言處理，以及生成式AI工具，請多多指教'\n",
    "\n",
    "# 調整詞頻\n",
    "# jieba.suggest_freq('台灣', True)\n",
    "\n",
    "# 精確模式\n",
    "seg_list = jieba.cut(sentence, cut_all=False)\n",
    "print('精確模式: ' + '/'.join(seg_list))\n",
    "\n",
    "seg_list = jieba.lcut(sentence)\n",
    "print(f\"List 資料型態 :  {seg_list}\")\n",
    "\n",
    "# 全模式\n",
    "seg_list = jieba.cut(sentence, cut_all=True)\n",
    "print('全模式: ' + '/'.join(seg_list))\n",
    "\n",
    "# 搜尋模式\n",
    "seg_list = jieba.cut_for_search(sentence)\n",
    "print('搜尋模式: ' + '/'.join(seg_list))\n",
    "\n",
    "# 關鍵詞\n",
    "seg_list = jieba.analyse.extract_tags(sentence, topK=5, withWeight=False)\n",
    "print('關鍵詞: ' + '/'.join(seg_list))\n",
    "\n",
    "# 篩選停用詞\n",
    "print('篩選停用詞: ')\n",
    "seg_list = jieba.cut(sentence)\n",
    "filtered_words = []\n",
    "for word in seg_list:\n",
    "    if word not in stopword:\n",
    "        filtered_words.append(word)\n",
    "print(filtered_words)\n",
    "# print(\" \".join(filtered_words))\n",
    "\n",
    "# 計算詞彙出現次數\n",
    "data={}\n",
    "for word in filtered_words:\n",
    " if len(word)>=2:\n",
    "  if word not in data:\n",
    "    data[word]=0\n",
    "  data[word]+=1\n",
    "print(data)\n",
    "print(type(data))\n"
   ]
  }
 ],
 "metadata": {
  "kernelspec": {
   "display_name": ".venv",
   "language": "python",
   "name": "python3"
  },
  "language_info": {
   "codemirror_mode": {
    "name": "ipython",
    "version": 3
   },
   "file_extension": ".py",
   "mimetype": "text/x-python",
   "name": "python",
   "nbconvert_exporter": "python",
   "pygments_lexer": "ipython3",
   "version": "3.12.5"
  }
 },
 "nbformat": 4,
 "nbformat_minor": 2
}
